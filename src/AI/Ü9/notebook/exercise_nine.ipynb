{
 "cells": [
  {
   "cell_type": "markdown",
   "id": "8c433150-6679-4770-af7a-e15c71534c6e",
   "metadata": {
    "slideshow": {
     "slide_type": "skip"
    },
    "tags": []
   },
   "source": [
    "# Setup"
   ]
  },
  {
   "cell_type": "code",
   "execution_count": 1,
   "id": "22699d06-af63-4f4a-ab21-13b323526106",
   "metadata": {
    "tags": []
   },
   "outputs": [
    {
     "name": "stdout",
     "output_type": "stream",
     "text": [
      "Requirement already satisfied: tensorflow in /home/vgoehler/Applications/anaconda3/lib/python3.11/site-packages (2.15.0.post1)\n",
      "Requirement already satisfied: absl-py>=1.0.0 in /home/vgoehler/Applications/anaconda3/lib/python3.11/site-packages (from tensorflow) (2.1.0)\n",
      "Requirement already satisfied: astunparse>=1.6.0 in /home/vgoehler/Applications/anaconda3/lib/python3.11/site-packages (from tensorflow) (1.6.3)\n",
      "Requirement already satisfied: flatbuffers>=23.5.26 in /home/vgoehler/Applications/anaconda3/lib/python3.11/site-packages (from tensorflow) (23.5.26)\n",
      "Requirement already satisfied: gast!=0.5.0,!=0.5.1,!=0.5.2,>=0.2.1 in /home/vgoehler/Applications/anaconda3/lib/python3.11/site-packages (from tensorflow) (0.5.4)\n",
      "Requirement already satisfied: google-pasta>=0.1.1 in /home/vgoehler/Applications/anaconda3/lib/python3.11/site-packages (from tensorflow) (0.2.0)\n",
      "Requirement already satisfied: h5py>=2.9.0 in /home/vgoehler/Applications/anaconda3/lib/python3.11/site-packages (from tensorflow) (3.9.0)\n",
      "Requirement already satisfied: libclang>=13.0.0 in /home/vgoehler/Applications/anaconda3/lib/python3.11/site-packages (from tensorflow) (16.0.6)\n",
      "Requirement already satisfied: ml-dtypes~=0.2.0 in /home/vgoehler/Applications/anaconda3/lib/python3.11/site-packages (from tensorflow) (0.2.0)\n",
      "Requirement already satisfied: numpy<2.0.0,>=1.23.5 in /home/vgoehler/Applications/anaconda3/lib/python3.11/site-packages (from tensorflow) (1.24.3)\n",
      "Requirement already satisfied: opt-einsum>=2.3.2 in /home/vgoehler/Applications/anaconda3/lib/python3.11/site-packages (from tensorflow) (3.3.0)\n",
      "Requirement already satisfied: packaging in /home/vgoehler/Applications/anaconda3/lib/python3.11/site-packages (from tensorflow) (23.1)\n",
      "Requirement already satisfied: protobuf!=4.21.0,!=4.21.1,!=4.21.2,!=4.21.3,!=4.21.4,!=4.21.5,<5.0.0dev,>=3.20.3 in /home/vgoehler/Applications/anaconda3/lib/python3.11/site-packages (from tensorflow) (4.23.4)\n",
      "Requirement already satisfied: setuptools in /home/vgoehler/Applications/anaconda3/lib/python3.11/site-packages (from tensorflow) (68.0.0)\n",
      "Requirement already satisfied: six>=1.12.0 in /home/vgoehler/Applications/anaconda3/lib/python3.11/site-packages (from tensorflow) (1.16.0)\n",
      "Requirement already satisfied: termcolor>=1.1.0 in /home/vgoehler/Applications/anaconda3/lib/python3.11/site-packages (from tensorflow) (2.4.0)\n",
      "Requirement already satisfied: typing-extensions>=3.6.6 in /home/vgoehler/Applications/anaconda3/lib/python3.11/site-packages (from tensorflow) (4.7.1)\n",
      "Requirement already satisfied: wrapt<1.15,>=1.11.0 in /home/vgoehler/Applications/anaconda3/lib/python3.11/site-packages (from tensorflow) (1.14.1)\n",
      "Requirement already satisfied: tensorflow-io-gcs-filesystem>=0.23.1 in /home/vgoehler/Applications/anaconda3/lib/python3.11/site-packages (from tensorflow) (0.35.0)\n",
      "Requirement already satisfied: grpcio<2.0,>=1.24.3 in /home/vgoehler/Applications/anaconda3/lib/python3.11/site-packages (from tensorflow) (1.60.0)\n",
      "Requirement already satisfied: tensorboard<2.16,>=2.15 in /home/vgoehler/Applications/anaconda3/lib/python3.11/site-packages (from tensorflow) (2.15.1)\n",
      "Requirement already satisfied: tensorflow-estimator<2.16,>=2.15.0 in /home/vgoehler/Applications/anaconda3/lib/python3.11/site-packages (from tensorflow) (2.15.0)\n",
      "Requirement already satisfied: keras<2.16,>=2.15.0 in /home/vgoehler/Applications/anaconda3/lib/python3.11/site-packages (from tensorflow) (2.15.0)\n",
      "Requirement already satisfied: wheel<1.0,>=0.23.0 in /home/vgoehler/Applications/anaconda3/lib/python3.11/site-packages (from astunparse>=1.6.0->tensorflow) (0.43.0)\n",
      "Requirement already satisfied: google-auth<3,>=1.6.3 in /home/vgoehler/Applications/anaconda3/lib/python3.11/site-packages (from tensorboard<2.16,>=2.15->tensorflow) (2.26.2)\n",
      "Requirement already satisfied: google-auth-oauthlib<2,>=0.5 in /home/vgoehler/Applications/anaconda3/lib/python3.11/site-packages (from tensorboard<2.16,>=2.15->tensorflow) (1.2.0)\n",
      "Requirement already satisfied: markdown>=2.6.8 in /home/vgoehler/Applications/anaconda3/lib/python3.11/site-packages (from tensorboard<2.16,>=2.15->tensorflow) (3.6)\n",
      "Requirement already satisfied: requests<3,>=2.21.0 in /home/vgoehler/Applications/anaconda3/lib/python3.11/site-packages (from tensorboard<2.16,>=2.15->tensorflow) (2.31.0)\n",
      "Requirement already satisfied: tensorboard-data-server<0.8.0,>=0.7.0 in /home/vgoehler/Applications/anaconda3/lib/python3.11/site-packages (from tensorboard<2.16,>=2.15->tensorflow) (0.7.2)\n",
      "Requirement already satisfied: werkzeug>=1.0.1 in /home/vgoehler/Applications/anaconda3/lib/python3.11/site-packages (from tensorboard<2.16,>=2.15->tensorflow) (2.2.3)\n",
      "Requirement already satisfied: cachetools<6.0,>=2.0.0 in /home/vgoehler/Applications/anaconda3/lib/python3.11/site-packages (from google-auth<3,>=1.6.3->tensorboard<2.16,>=2.15->tensorflow) (5.3.2)\n",
      "Requirement already satisfied: pyasn1-modules>=0.2.1 in /home/vgoehler/Applications/anaconda3/lib/python3.11/site-packages (from google-auth<3,>=1.6.3->tensorboard<2.16,>=2.15->tensorflow) (0.2.8)\n",
      "Requirement already satisfied: rsa<5,>=3.1.4 in /home/vgoehler/Applications/anaconda3/lib/python3.11/site-packages (from google-auth<3,>=1.6.3->tensorboard<2.16,>=2.15->tensorflow) (4.9)\n",
      "Requirement already satisfied: requests-oauthlib>=0.7.0 in /home/vgoehler/Applications/anaconda3/lib/python3.11/site-packages (from google-auth-oauthlib<2,>=0.5->tensorboard<2.16,>=2.15->tensorflow) (1.3.1)\n",
      "Requirement already satisfied: charset-normalizer<4,>=2 in /home/vgoehler/Applications/anaconda3/lib/python3.11/site-packages (from requests<3,>=2.21.0->tensorboard<2.16,>=2.15->tensorflow) (2.0.4)\n",
      "Requirement already satisfied: idna<4,>=2.5 in /home/vgoehler/Applications/anaconda3/lib/python3.11/site-packages (from requests<3,>=2.21.0->tensorboard<2.16,>=2.15->tensorflow) (3.4)\n",
      "Requirement already satisfied: urllib3<3,>=1.21.1 in /home/vgoehler/Applications/anaconda3/lib/python3.11/site-packages (from requests<3,>=2.21.0->tensorboard<2.16,>=2.15->tensorflow) (1.26.16)\n",
      "Requirement already satisfied: certifi>=2017.4.17 in /home/vgoehler/Applications/anaconda3/lib/python3.11/site-packages (from requests<3,>=2.21.0->tensorboard<2.16,>=2.15->tensorflow) (2023.7.22)\n",
      "Requirement already satisfied: MarkupSafe>=2.1.1 in /home/vgoehler/Applications/anaconda3/lib/python3.11/site-packages (from werkzeug>=1.0.1->tensorboard<2.16,>=2.15->tensorflow) (2.1.1)\n",
      "Requirement already satisfied: pyasn1<0.5.0,>=0.4.6 in /home/vgoehler/Applications/anaconda3/lib/python3.11/site-packages (from pyasn1-modules>=0.2.1->google-auth<3,>=1.6.3->tensorboard<2.16,>=2.15->tensorflow) (0.4.8)\n",
      "Requirement already satisfied: oauthlib>=3.0.0 in /home/vgoehler/Applications/anaconda3/lib/python3.11/site-packages (from requests-oauthlib>=0.7.0->google-auth-oauthlib<2,>=0.5->tensorboard<2.16,>=2.15->tensorflow) (3.2.2)\n"
     ]
    },
    {
     "name": "stderr",
     "output_type": "stream",
     "text": [
      "2024-06-12 17:10:27.528915: E external/local_xla/xla/stream_executor/cuda/cuda_dnn.cc:9261] Unable to register cuDNN factory: Attempting to register factory for plugin cuDNN when one has already been registered\n",
      "2024-06-12 17:10:27.528954: E external/local_xla/xla/stream_executor/cuda/cuda_fft.cc:607] Unable to register cuFFT factory: Attempting to register factory for plugin cuFFT when one has already been registered\n",
      "2024-06-12 17:10:27.530125: E external/local_xla/xla/stream_executor/cuda/cuda_blas.cc:1515] Unable to register cuBLAS factory: Attempting to register factory for plugin cuBLAS when one has already been registered\n",
      "2024-06-12 17:10:27.535872: I tensorflow/core/platform/cpu_feature_guard.cc:182] This TensorFlow binary is optimized to use available CPU instructions in performance-critical operations.\n",
      "To enable the following instructions: AVX2 FMA, in other operations, rebuild TensorFlow with the appropriate compiler flags.\n",
      "2024-06-12 17:10:28.219193: W tensorflow/compiler/tf2tensorrt/utils/py_utils.cc:38] TF-TRT Warning: Could not find TensorRT\n"
     ]
    }
   ],
   "source": [
    "import sys\n",
    "\n",
    "assert sys.version_info >= (3, 7)\n",
    "\n",
    "from packaging import version\n",
    "import sklearn\n",
    "\n",
    "assert version.parse(sklearn.__version__) >= version.parse(\"1.0.1\")\n",
    "\n",
    "!pip install tensorflow\n",
    "import tensorflow as tf\n",
    "\n",
    "assert version.parse(tf.__version__) >= version.parse(\"2.8.0\")\n",
    "\n",
    "import matplotlib.pyplot as plt\n",
    "\n",
    "plt.rc('font', size=14)\n",
    "plt.rc('axes', labelsize=14, titlesize=14)\n",
    "plt.rc('legend', fontsize=14)\n",
    "plt.rc('xtick', labelsize=10)\n",
    "plt.rc('ytick', labelsize=10)"
   ]
  },
  {
   "attachments": {},
   "cell_type": "markdown",
   "id": "fc867147-f466-4ad9-b348-6bf8fc8ba922",
   "metadata": {
    "slideshow": {
     "slide_type": "slide"
    },
    "tags": []
   },
   "source": [
    "# From Biological to Artificial Neurons\n",
    "\n",
    "## The Perceptron\n",
    "\n",
    "[Perceptron scikit-learn docs](https://scikit-learn.org/stable/modules/generated/sklearn.linear_model.Perceptron.html#perceptron)  \n",
    "\n",
    "Perceptron is a linear unit, with step function for activation. With linear separable data this works well.  \n",
    "Implemented as:  \n",
    "```SGDClassifier(loss=\"perceptron\", learning_rate=\"constant\")```"
   ]
  },
  {
   "cell_type": "code",
   "execution_count": 2,
   "id": "c1bd7709-9dff-42a2-9e5e-0e1cdfb94034",
   "metadata": {
    "slideshow": {
     "slide_type": "subslide"
    },
    "tags": []
   },
   "outputs": [
    {
     "data": {
      "image/png": "[encoded data removed]",
      "text/plain": [
       "<Figure size 700x300 with 1 Axes>"
      ]
     },
     "metadata": {},
     "output_type": "display_data"
    }
   ],
   "source": [
    "# loads the dataset\n",
    "\n",
    "import numpy as np\n",
    "from sklearn.datasets import load_iris\n",
    "from sklearn.linear_model import Perceptron\n",
    "\n",
    "iris = load_iris(as_frame=True)\n",
    "X = iris.data[[\"petal length (cm)\", \"petal width (cm)\"]].values\n",
    "y = (iris.target == 0)  # Iris setosa\n",
    "\n",
    "# plots the iris dataset\n",
    "\n",
    "import matplotlib.pyplot as plt\n",
    "from matplotlib.colors import ListedColormap\n",
    "\n",
    "axes = [0, 5, 0, 2]\n",
    "\n",
    "plt.figure(figsize=(7, 3))\n",
    "plt.plot(X[y == 0, 0], X[y == 0, 1], \"bs\", label=\"Not Iris setosa\")\n",
    "plt.plot(X[y == 1, 0], X[y == 1, 1], \"yo\", label=\"Iris setosa\")\n",
    "plt.xlabel(\"Petal length\")\n",
    "plt.ylabel(\"Petal width\")\n",
    "plt.legend(loc=\"lower right\")\n",
    "plt.axis(axes)\n",
    "plt.show()"
   ]
  },
  {
   "cell_type": "code",
   "execution_count": 3,
   "id": "69424370-3ae7-471a-b047-906e0ccfaa92",
   "metadata": {
    "tags": []
   },
   "outputs": [
    {
     "data": {
      "text/plain": [
       "array([ True, False])"
      ]
     },
     "execution_count": 3,
     "metadata": {},
     "output_type": "execute_result"
    }
   ],
   "source": [
    "per_clf = Perceptron(random_state=42)\n",
    "per_clf.fit(X, y)\n",
    "\n",
    "X_new = [[2, 0.5], [3, 1]]\n",
    "y_pred = per_clf.predict(X_new)  # predicts True and False for these 2 flowers\n",
    "\n",
    "y_pred"
   ]
  },
  {
   "cell_type": "markdown",
   "id": "9eabced2-ccec-48a3-860d-d35b26245db5",
   "metadata": {
    "slideshow": {
     "slide_type": "slide"
    },
    "tags": []
   },
   "source": [
    "### Exercise\n",
    "\n",
    "- Change below code and try to find the decision boundary\n",
    "- you can write code to explore this or just do this with try and error"
   ]
  },
  {
   "cell_type": "code",
   "execution_count": 4,
   "id": "1de8b4f7-807b-4ad1-9e08-419ede6e7fab",
   "metadata": {
    "tags": []
   },
   "outputs": [
    {
     "data": {
      "text/plain": [
       "array([ True,  True])"
      ]
     },
     "execution_count": 4,
     "metadata": {},
     "output_type": "execute_result"
    }
   ],
   "source": [
    "X_new = [[0, 0], [1, 1]]\n",
    "per_clf.predict(X_new)  # predicts True and False for these 2 flowers\n"
   ]
  },
  {
   "cell_type": "markdown",
   "id": "52bc3aae-6d82-4398-9041-9a42f537395f",
   "metadata": {},
   "source": [
    "When the Perceptron finds a decision boundary that properly separates the classes, it stops learning. This means that the decision boundary is often quite close to one class:"
   ]
  },
  {
   "cell_type": "code",
   "execution_count": 5,
   "id": "7208804c-d930-44fb-999c-77952838a8e2",
   "metadata": {
    "tags": []
   },
   "outputs": [
    {
     "data": {
      "image/png": "[encoded data removed]",
      "text/plain": [
       "<Figure size 700x300 with 1 Axes>"
      ]
     },
     "metadata": {},
     "output_type": "display_data"
    }
   ],
   "source": [
    "# plots the decision boundary of a Perceptron on the iris dataset\n",
    "\n",
    "import matplotlib.pyplot as plt\n",
    "from matplotlib.colors import ListedColormap\n",
    "\n",
    "a = -per_clf.coef_[0, 0] / per_clf.coef_[0, 1]\n",
    "b = -per_clf.intercept_ / per_clf.coef_[0, 1]\n",
    "axes = [0, 5, 0, 2]\n",
    "x0, x1 = np.meshgrid(\n",
    "    np.linspace(axes[0], axes[1], 500).reshape(-1, 1),\n",
    "    np.linspace(axes[2], axes[3], 200).reshape(-1, 1),\n",
    ")\n",
    "X_new = np.c_[x0.ravel(), x1.ravel()]\n",
    "y_predict = per_clf.predict(X_new)\n",
    "zz = y_predict.reshape(x0.shape)\n",
    "custom_cmap = ListedColormap(['#9898ff', '#fafab0'])\n",
    "\n",
    "plt.figure(figsize=(7, 3))\n",
    "plt.plot(X[y == 0, 0], X[y == 0, 1], \"bs\", label=\"Not Iris setosa\")\n",
    "plt.plot(X[y == 1, 0], X[y == 1, 1], \"yo\", label=\"Iris setosa\")\n",
    "plt.plot([axes[0], axes[1]], [a * axes[0] + b, a * axes[1] + b], \"k-\",\n",
    "         linewidth=3)\n",
    "plt.contourf(x0, x1, zz, cmap=custom_cmap)\n",
    "plt.xlabel(\"Petal length\")\n",
    "plt.ylabel(\"Petal width\")\n",
    "plt.legend(loc=\"lower right\")\n",
    "plt.axis(axes)\n",
    "plt.show()"
   ]
  },
  {
   "cell_type": "markdown",
   "id": "c82c76bc-e051-4713-9d11-bb3af508a867",
   "metadata": {},
   "source": [
    "### Opinion\n",
    "\n",
    "- Do you have an Opinion to the Perceptron Decision Boundary?"
   ]
  },
  {
   "cell_type": "markdown",
   "id": "d070de5f-5765-4d9b-83de-32b4846d3d32",
   "metadata": {},
   "source": [
    "## Activation functions"
   ]
  },
  {
   "cell_type": "code",
   "execution_count": 6,
   "id": "324cfbfe-7d77-46af-848d-7119a67166e5",
   "metadata": {
    "tags": []
   },
   "outputs": [
    {
     "data": {
      "image/png": "[encoded data removed]",
      "text/plain": [
       "<Figure size 1100x310 with 2 Axes>"
      ]
     },
     "metadata": {},
     "output_type": "display_data"
    }
   ],
   "source": [
    "from scipy.special import expit as sigmoid\n",
    "\n",
    "def relu(z):\n",
    "    return np.maximum(0, z)\n",
    "\n",
    "def derivative(f, z, eps=0.000001):\n",
    "    return (f(z + eps) - f(z - eps))/(2 * eps)\n",
    "\n",
    "max_z = 4.5\n",
    "z = np.linspace(-max_z, max_z, 200)\n",
    "\n",
    "plt.figure(figsize=(11, 3.1))\n",
    "\n",
    "plt.subplot(121)\n",
    "plt.plot([-max_z, 0], [0, 0], \"r-\", linewidth=2, label=\"Heaviside\")\n",
    "plt.plot(z, relu(z), \"m-.\", linewidth=2, label=\"ReLU\")\n",
    "plt.plot([0, 0], [0, 1], \"r-\", linewidth=0.5)\n",
    "plt.plot([0, max_z], [1, 1], \"r-\", linewidth=2)\n",
    "plt.plot(z, sigmoid(z), \"g--\", linewidth=2, label=\"Sigmoid\")\n",
    "plt.plot(z, np.tanh(z), \"b-\", linewidth=1, label=\"Tanh\")\n",
    "plt.grid(True)\n",
    "plt.title(\"Activation functions\")\n",
    "plt.axis([-max_z, max_z, -1.65, 2.4])\n",
    "plt.gca().set_yticks([-1, 0, 1, 2])\n",
    "plt.legend(loc=\"lower right\", fontsize=13)\n",
    "\n",
    "plt.subplot(122)\n",
    "plt.plot(z, derivative(np.sign, z), \"r-\", linewidth=2, label=\"Heaviside\")\n",
    "plt.plot(0, 0, \"ro\", markersize=5)\n",
    "plt.plot(0, 0, \"rx\", markersize=10)\n",
    "plt.plot(z, derivative(sigmoid, z), \"g--\", linewidth=2, label=\"Sigmoid\")\n",
    "plt.plot(z, derivative(np.tanh, z), \"b-\", linewidth=1, label=\"Tanh\")\n",
    "plt.plot([-max_z, 0], [0, 0], \"m-.\", linewidth=2)\n",
    "plt.plot([0, max_z], [1, 1], \"m-.\", linewidth=2)\n",
    "plt.plot([0, 0], [0, 1], \"m-.\", linewidth=1.2)\n",
    "plt.plot(0, 1, \"mo\", markersize=5)\n",
    "plt.plot(0, 1, \"mx\", markersize=10)\n",
    "plt.grid(True)\n",
    "plt.title(\"Derivatives\")\n",
    "plt.axis([-max_z, max_z, -0.2, 1.2])\n",
    "\n",
    "plt.show()"
   ]
  },
  {
   "cell_type": "markdown",
   "id": "cdd3d8bc-763b-430b-8fc8-134023ab67e1",
   "metadata": {},
   "source": [
    "## MLPs\n",
    "\n",
    "### Regression MLPs\n",
    "[MLP Regressor](https://scikit-learn.org/stable/modules/generated/sklearn.neural_network.MLPRegressor.html#mlpregressor)\n",
    "\n",
    "Defaults:  \n",
    "- 100 hidden neurons with one layer\n",
    "- relu activation\n",
    "- max_iter of 200"
   ]
  },
  {
   "cell_type": "code",
   "execution_count": 7,
   "id": "1a1eaa70-a220-478f-b429-1fdb71384479",
   "metadata": {
    "scrolled": true
   },
   "outputs": [
    {
     "name": "stdout",
     "output_type": "stream",
     "text": [
      "Iteration 1, loss = 0.88013803\n",
      "Iteration 2, loss = 0.26109934\n",
      "Iteration 3, loss = 0.21223984\n",
      "Iteration 4, loss = 0.19385754\n",
      "Iteration 5, loss = 0.18691539\n",
      "Iteration 6, loss = 0.17896554\n",
      "Iteration 7, loss = 0.17423469\n",
      "Iteration 8, loss = 0.16927327\n",
      "Iteration 9, loss = 0.16534287\n",
      "Iteration 10, loss = 0.16333238\n",
      "Iteration 11, loss = 0.16073061\n",
      "Iteration 12, loss = 0.15954068\n",
      "Iteration 13, loss = 0.15465744\n",
      "Iteration 14, loss = 0.16184716\n",
      "Iteration 15, loss = 0.15375564\n",
      "Iteration 16, loss = 0.15207982\n",
      "Iteration 17, loss = 0.14791320\n",
      "Iteration 18, loss = 0.14645258\n",
      "Iteration 19, loss = 0.14483503\n",
      "Iteration 20, loss = 0.14468907\n",
      "Iteration 21, loss = 0.15061565\n",
      "Iteration 22, loss = 0.14470508\n",
      "Iteration 23, loss = 0.14280790\n",
      "Iteration 24, loss = 0.14087808\n",
      "Iteration 25, loss = 0.14106781\n",
      "Iteration 26, loss = 0.14097879\n",
      "Iteration 27, loss = 0.13762971\n",
      "Iteration 28, loss = 0.13821548\n",
      "Iteration 29, loss = 0.13961814\n",
      "Iteration 30, loss = 0.13630654\n",
      "Iteration 31, loss = 0.14058676\n",
      "Iteration 32, loss = 0.13715627\n",
      "Iteration 33, loss = 0.13582206\n",
      "Iteration 34, loss = 0.13801537\n",
      "Iteration 35, loss = 0.13738169\n",
      "Iteration 36, loss = 0.13233496\n",
      "Iteration 37, loss = 0.13507408\n",
      "Iteration 38, loss = 0.13278782\n",
      "Iteration 39, loss = 0.13265814\n",
      "Iteration 40, loss = 0.13095499\n",
      "Iteration 41, loss = 0.13244469\n",
      "Iteration 42, loss = 0.13417579\n",
      "Iteration 43, loss = 0.13201105\n",
      "Iteration 44, loss = 0.13303633\n",
      "Iteration 45, loss = 0.13321014\n",
      "Iteration 46, loss = 0.13119586\n",
      "Iteration 47, loss = 0.13032851\n",
      "Iteration 48, loss = 0.12860733\n",
      "Iteration 49, loss = 0.12772667\n",
      "Iteration 50, loss = 0.12881022\n",
      "Iteration 51, loss = 0.13033477\n",
      "Iteration 52, loss = 0.12855173\n",
      "Iteration 53, loss = 0.12941565\n",
      "Iteration 54, loss = 0.12801378\n",
      "Iteration 55, loss = 0.12584448\n",
      "Iteration 56, loss = 0.12498322\n",
      "Iteration 57, loss = 0.12513359\n",
      "Iteration 58, loss = 0.13495890\n",
      "Iteration 59, loss = 0.12553500\n",
      "Iteration 60, loss = 0.12924853\n",
      "Iteration 61, loss = 0.12843410\n",
      "Iteration 62, loss = 0.12470184\n",
      "Iteration 63, loss = 0.12626995\n",
      "Iteration 64, loss = 0.12434558\n",
      "Iteration 65, loss = 0.12333526\n",
      "Iteration 66, loss = 0.12319179\n",
      "Iteration 67, loss = 0.12268896\n",
      "Iteration 68, loss = 0.12132634\n",
      "Iteration 69, loss = 0.12170327\n",
      "Iteration 70, loss = 0.12113077\n",
      "Iteration 71, loss = 0.12288647\n",
      "Iteration 72, loss = 0.12469906\n",
      "Iteration 73, loss = 0.12436691\n",
      "Iteration 74, loss = 0.12725811\n",
      "Iteration 75, loss = 0.12092645\n",
      "Iteration 76, loss = 0.11997308\n",
      "Iteration 77, loss = 0.12013695\n",
      "Iteration 78, loss = 0.11899195\n",
      "Iteration 79, loss = 0.12027329\n",
      "Iteration 80, loss = 0.12065483\n",
      "Iteration 81, loss = 0.12061974\n",
      "Iteration 82, loss = 0.12096366\n",
      "Iteration 83, loss = 0.12119018\n",
      "Iteration 84, loss = 0.11875417\n",
      "Iteration 85, loss = 0.11668661\n",
      "Iteration 86, loss = 0.11869963\n",
      "Iteration 87, loss = 0.11728922\n",
      "Iteration 88, loss = 0.12040904\n",
      "Iteration 89, loss = 0.11949073\n",
      "Iteration 90, loss = 0.11695886\n",
      "Iteration 91, loss = 0.11884418\n",
      "Iteration 92, loss = 0.11800701\n",
      "Iteration 93, loss = 0.11721611\n",
      "Iteration 94, loss = 0.11622581\n",
      "Iteration 95, loss = 0.11623767\n",
      "Iteration 96, loss = 0.11924503\n",
      "Iteration 97, loss = 0.11737426\n",
      "Iteration 98, loss = 0.11529743\n",
      "Iteration 99, loss = 0.11834788\n",
      "Iteration 100, loss = 0.11692528\n",
      "Iteration 101, loss = 0.12171293\n",
      "Iteration 102, loss = 0.11446683\n",
      "Iteration 103, loss = 0.11492562\n",
      "Iteration 104, loss = 0.11453599\n",
      "Iteration 105, loss = 0.11386546\n",
      "Iteration 106, loss = 0.11682230\n",
      "Iteration 107, loss = 0.11215154\n",
      "Iteration 108, loss = 0.11297956\n",
      "Iteration 109, loss = 0.11287547\n",
      "Iteration 110, loss = 0.11119659\n",
      "Iteration 111, loss = 0.11584077\n",
      "Iteration 112, loss = 0.11367412\n",
      "Iteration 113, loss = 0.11390401\n",
      "Iteration 114, loss = 0.11321951\n",
      "Iteration 115, loss = 0.11117277\n",
      "Iteration 116, loss = 0.11387371\n",
      "Iteration 117, loss = 0.11157839\n",
      "Iteration 118, loss = 0.12061922\n",
      "Iteration 119, loss = 0.11763815\n",
      "Iteration 120, loss = 0.11293123\n",
      "Iteration 121, loss = 0.11038527\n",
      "Iteration 122, loss = 0.11201698\n",
      "Iteration 123, loss = 0.11080215\n",
      "Iteration 124, loss = 0.11017456\n",
      "Iteration 125, loss = 0.11071938\n",
      "Iteration 126, loss = 0.11057169\n",
      "Iteration 127, loss = 0.10916889\n",
      "Iteration 128, loss = 0.10885300\n",
      "Iteration 129, loss = 0.11018284\n",
      "Iteration 130, loss = 0.10907432\n",
      "Iteration 131, loss = 0.10922672\n",
      "Iteration 132, loss = 0.10730359\n",
      "Iteration 133, loss = 0.10691131\n",
      "Iteration 134, loss = 0.10728361\n",
      "Iteration 135, loss = 0.11119934\n",
      "Iteration 136, loss = 0.10579253\n",
      "Iteration 137, loss = 0.10615697\n",
      "Iteration 138, loss = 0.10681701\n",
      "Iteration 139, loss = 0.10527935\n",
      "Iteration 140, loss = 0.10628927\n",
      "Iteration 141, loss = 0.10675329\n",
      "Iteration 142, loss = 0.10604244\n",
      "Iteration 143, loss = 0.10667041\n",
      "Iteration 144, loss = 0.10620225\n",
      "Iteration 145, loss = 0.10774869\n",
      "Iteration 146, loss = 0.10606002\n",
      "Iteration 147, loss = 0.10655652\n",
      "Iteration 148, loss = 0.10579212\n",
      "Iteration 149, loss = 0.10483812\n",
      "Iteration 150, loss = 0.10962600\n",
      "Iteration 151, loss = 0.10606290\n",
      "Iteration 152, loss = 0.10433614\n",
      "Iteration 153, loss = 0.10360047\n",
      "Iteration 154, loss = 0.10953159\n",
      "Iteration 155, loss = 0.10272697\n",
      "Iteration 156, loss = 0.10496698\n",
      "Iteration 157, loss = 0.10374140\n",
      "Iteration 158, loss = 0.10167773\n",
      "Iteration 159, loss = 0.10168514\n",
      "Iteration 160, loss = 0.10278044\n",
      "Iteration 161, loss = 0.10316994\n",
      "Iteration 162, loss = 0.10219607\n",
      "Iteration 163, loss = 0.10282426\n",
      "Iteration 164, loss = 0.10393151\n",
      "Iteration 165, loss = 0.10504952\n",
      "Iteration 166, loss = 0.10476934\n",
      "Iteration 167, loss = 0.10878837\n",
      "Iteration 168, loss = 0.10803036\n",
      "Iteration 169, loss = 0.10343861\n",
      "Training loss did not improve more than tol=0.000100 for 10 consecutive epochs. Stopping.\n"
     ]
    },
    {
     "name": "stderr",
     "output_type": "stream",
     "text": [
      "/home/vgoehler/Applications/anaconda3/lib/python3.11/site-packages/sklearn/metrics/_regression.py:483: FutureWarning: 'squared' is deprecated in version 1.4 and will be removed in 1.6. To calculate the root mean squared error, use the function'root_mean_squared_error'.\n",
      "  warnings.warn(\n"
     ]
    },
    {
     "data": {
      "text/plain": [
       "0.5053326657968582"
      ]
     },
     "execution_count": 7,
     "metadata": {},
     "output_type": "execute_result"
    }
   ],
   "source": [
    "from sklearn.datasets import fetch_california_housing\n",
    "from sklearn.metrics import mean_squared_error\n",
    "from sklearn.model_selection import train_test_split\n",
    "from sklearn.neural_network import MLPRegressor\n",
    "from sklearn.pipeline import make_pipeline\n",
    "from sklearn.preprocessing import StandardScaler\n",
    "\n",
    "housing = fetch_california_housing()\n",
    "X_train_full, X_test, y_train_full, y_test = train_test_split(\n",
    "    housing.data, housing.target, random_state=42)\n",
    "X_train, X_valid, y_train, y_valid = train_test_split(\n",
    "    X_train_full, y_train_full, random_state=42)\n",
    "\n",
    "mlp_reg = MLPRegressor(hidden_layer_sizes=[50, 50, 50], random_state=42, verbose=1)\n",
    "pipeline = make_pipeline(StandardScaler(), mlp_reg)\n",
    "pipeline.fit(X_train, y_train)\n",
    "y_pred = pipeline.predict(X_valid)\n",
    "rmse = mean_squared_error(y_valid, y_pred, squared=False)\n",
    "\n",
    "rmse"
   ]
  },
  {
   "cell_type": "markdown",
   "id": "6ed9a12a-0ad4-4a6c-b10b-9a22da38d710",
   "metadata": {},
   "source": [
    "### Classification MLPs\n",
    "\n",
    "[MLPClassifier in Docs](https://scikit-learn.org/stable/modules/generated/sklearn.neural_network.MLPClassifier.html#mlpclassifier)\n"
   ]
  },
  {
   "cell_type": "code",
   "execution_count": 8,
   "id": "427744ef-68f8-4a73-aba4-cd4f29de26a4",
   "metadata": {
    "scrolled": true
   },
   "outputs": [
    {
     "name": "stdout",
     "output_type": "stream",
     "text": [
      "Iteration 1, loss = 1.10433562\n",
      "Iteration 2, loss = 1.09829948\n",
      "Iteration 3, loss = 1.09229404\n",
      "Iteration 4, loss = 1.08632020\n",
      "Iteration 5, loss = 1.08037887\n",
      "Iteration 6, loss = 1.07447094\n",
      "Iteration 7, loss = 1.06859730\n",
      "Iteration 8, loss = 1.06275876\n",
      "Iteration 9, loss = 1.05695607\n",
      "Iteration 10, loss = 1.05118468\n",
      "Iteration 11, loss = 1.04542957\n",
      "Iteration 12, loss = 1.03971186\n",
      "Iteration 13, loss = 1.03403259\n",
      "Iteration 14, loss = 1.02839269\n",
      "Iteration 15, loss = 1.02279306\n",
      "Iteration 16, loss = 1.01723450\n",
      "Iteration 17, loss = 1.01171778\n",
      "Iteration 18, loss = 1.00624825\n",
      "Iteration 19, loss = 1.00080262\n",
      "Iteration 20, loss = 0.99539765\n",
      "Iteration 21, loss = 0.99003612\n",
      "Iteration 22, loss = 0.98471920\n",
      "Iteration 23, loss = 0.97944721\n",
      "Iteration 24, loss = 0.97421384\n",
      "Iteration 25, loss = 0.96899563\n",
      "Iteration 26, loss = 0.96382200\n",
      "Iteration 27, loss = 0.95869372\n",
      "Iteration 28, loss = 0.95359338\n",
      "Iteration 29, loss = 0.94852677\n",
      "Iteration 30, loss = 0.94350552\n",
      "Iteration 31, loss = 0.93853031\n",
      "Iteration 32, loss = 0.93360171\n",
      "Iteration 33, loss = 0.92872019\n",
      "Iteration 34, loss = 0.92388611\n",
      "Iteration 35, loss = 0.91909977\n",
      "Iteration 36, loss = 0.91436138\n",
      "Iteration 37, loss = 0.90967109\n",
      "Iteration 38, loss = 0.90502897\n",
      "Iteration 39, loss = 0.90043504\n",
      "Iteration 40, loss = 0.89588928\n",
      "Iteration 41, loss = 0.89139159\n",
      "Iteration 42, loss = 0.88694184\n",
      "Iteration 43, loss = 0.88253987\n",
      "Iteration 44, loss = 0.87818544\n",
      "Iteration 45, loss = 0.87387831\n",
      "Iteration 46, loss = 0.86962051\n",
      "Iteration 47, loss = 0.86542407\n",
      "Iteration 48, loss = 0.86127494\n",
      "Iteration 49, loss = 0.85717263\n",
      "Iteration 50, loss = 0.85311662\n",
      "Iteration 51, loss = 0.84910637\n",
      "Iteration 52, loss = 0.84514137\n",
      "Iteration 53, loss = 0.84122107\n",
      "Iteration 54, loss = 0.83734493\n",
      "Iteration 55, loss = 0.83351241\n",
      "Iteration 56, loss = 0.82972296\n",
      "Iteration 57, loss = 0.82597415\n",
      "Iteration 58, loss = 0.82226596\n",
      "Iteration 59, loss = 0.81859916\n",
      "Iteration 60, loss = 0.81497310\n",
      "Iteration 61, loss = 0.81138729\n",
      "Iteration 62, loss = 0.80782261\n",
      "Iteration 63, loss = 0.80428494\n",
      "Iteration 64, loss = 0.80079353\n",
      "Iteration 65, loss = 0.79733923\n",
      "Iteration 66, loss = 0.79392924\n",
      "Iteration 67, loss = 0.79056261\n",
      "Iteration 68, loss = 0.78723583\n",
      "Iteration 69, loss = 0.78395046\n",
      "Iteration 70, loss = 0.78066663\n",
      "Iteration 71, loss = 0.77741626\n",
      "Iteration 72, loss = 0.77418011\n",
      "Iteration 73, loss = 0.77096155\n",
      "Iteration 74, loss = 0.76777322\n",
      "Iteration 75, loss = 0.76461661\n",
      "Iteration 76, loss = 0.76149083\n",
      "Iteration 77, loss = 0.75839554\n",
      "Iteration 78, loss = 0.75533066\n",
      "Iteration 79, loss = 0.75229610\n",
      "Iteration 80, loss = 0.74929171\n",
      "Iteration 81, loss = 0.74631730\n",
      "Iteration 82, loss = 0.74337269\n",
      "Iteration 83, loss = 0.74044834\n",
      "Iteration 84, loss = 0.73753006\n",
      "Iteration 85, loss = 0.73463855\n",
      "Iteration 86, loss = 0.73177387\n",
      "Iteration 87, loss = 0.72893605\n",
      "Iteration 88, loss = 0.72612506\n",
      "Iteration 89, loss = 0.72334083\n",
      "Iteration 90, loss = 0.72058327\n",
      "Iteration 91, loss = 0.71785223\n",
      "Iteration 92, loss = 0.71514756\n",
      "Iteration 93, loss = 0.71246907\n",
      "Iteration 94, loss = 0.70981657\n",
      "Iteration 95, loss = 0.70718983\n",
      "Iteration 96, loss = 0.70458862\n",
      "Iteration 97, loss = 0.70201269\n",
      "Iteration 98, loss = 0.69946178\n",
      "Iteration 99, loss = 0.69693564\n",
      "Iteration 100, loss = 0.69443397\n",
      "Iteration 101, loss = 0.69195652\n",
      "Iteration 102, loss = 0.68950299\n",
      "Iteration 103, loss = 0.68707309\n",
      "Iteration 104, loss = 0.68466655\n",
      "Iteration 105, loss = 0.68228307\n",
      "Iteration 106, loss = 0.67992235\n",
      "Iteration 107, loss = 0.67758733\n",
      "Iteration 108, loss = 0.67528759\n",
      "Iteration 109, loss = 0.67301076\n",
      "Iteration 110, loss = 0.67075642\n",
      "Iteration 111, loss = 0.66852416\n",
      "Iteration 112, loss = 0.66631358\n",
      "Iteration 113, loss = 0.66412468\n",
      "Iteration 114, loss = 0.66195706\n",
      "Iteration 115, loss = 0.65977859\n",
      "Iteration 116, loss = 0.65761758\n",
      "Iteration 117, loss = 0.65547802\n",
      "Iteration 118, loss = 0.65335641\n",
      "Iteration 119, loss = 0.65125268\n",
      "Iteration 120, loss = 0.64916673\n",
      "Iteration 121, loss = 0.64709846\n",
      "Iteration 122, loss = 0.64504773\n",
      "Iteration 123, loss = 0.64301442\n",
      "Iteration 124, loss = 0.64095867\n",
      "Iteration 125, loss = 0.63888985\n",
      "Iteration 126, loss = 0.63683223\n",
      "Iteration 127, loss = 0.63478645\n",
      "Iteration 128, loss = 0.63275304\n",
      "Iteration 129, loss = 0.63073245\n",
      "Iteration 130, loss = 0.62872505\n",
      "Iteration 131, loss = 0.62673116\n",
      "Iteration 132, loss = 0.62475102\n",
      "Iteration 133, loss = 0.62278484\n",
      "Iteration 134, loss = 0.62083276\n",
      "Iteration 135, loss = 0.61889600\n",
      "Iteration 136, loss = 0.61697432\n",
      "Iteration 137, loss = 0.61506715\n",
      "Iteration 138, loss = 0.61317649\n",
      "Iteration 139, loss = 0.61130469\n",
      "Iteration 140, loss = 0.60944759\n",
      "Iteration 141, loss = 0.60760508\n",
      "Iteration 142, loss = 0.60577708\n",
      "Iteration 143, loss = 0.60396346\n",
      "Iteration 144, loss = 0.60214632\n",
      "Iteration 145, loss = 0.60033966\n",
      "Iteration 146, loss = 0.59855240\n",
      "Iteration 147, loss = 0.59677824\n",
      "Iteration 148, loss = 0.59501714\n",
      "Iteration 149, loss = 0.59326902\n",
      "Iteration 150, loss = 0.59153380\n",
      "Iteration 151, loss = 0.58981141\n",
      "Iteration 152, loss = 0.58810178\n",
      "Iteration 153, loss = 0.58641275\n",
      "Iteration 154, loss = 0.58473754\n",
      "Iteration 155, loss = 0.58307516\n",
      "Iteration 156, loss = 0.58142545\n",
      "Iteration 157, loss = 0.57978820\n",
      "Iteration 158, loss = 0.57816325\n",
      "Iteration 159, loss = 0.57655042\n",
      "Iteration 160, loss = 0.57494954\n",
      "Iteration 161, loss = 0.57336043\n",
      "Iteration 162, loss = 0.57178292\n",
      "Iteration 163, loss = 0.57021684\n",
      "Iteration 164, loss = 0.56866204\n",
      "Iteration 165, loss = 0.56711834\n",
      "Iteration 166, loss = 0.56558558\n",
      "Iteration 167, loss = 0.56406362\n",
      "Iteration 168, loss = 0.56255229\n",
      "Iteration 169, loss = 0.56105144\n",
      "Iteration 170, loss = 0.55956093\n",
      "Iteration 171, loss = 0.55808060\n",
      "Iteration 172, loss = 0.55661031\n",
      "Iteration 173, loss = 0.55514993\n",
      "Iteration 174, loss = 0.55369930\n",
      "Iteration 175, loss = 0.55225829\n",
      "Iteration 176, loss = 0.55082677\n",
      "Iteration 177, loss = 0.54940461\n",
      "Iteration 178, loss = 0.54799168\n",
      "Iteration 179, loss = 0.54658784\n",
      "Iteration 180, loss = 0.54519298\n",
      "Iteration 181, loss = 0.54380697\n",
      "Iteration 182, loss = 0.54242969\n",
      "Iteration 183, loss = 0.54106102\n",
      "Iteration 184, loss = 0.53970085\n",
      "Iteration 185, loss = 0.53834907\n",
      "Iteration 186, loss = 0.53700555\n",
      "Iteration 187, loss = 0.53567019\n",
      "Iteration 188, loss = 0.53434289\n",
      "Iteration 189, loss = 0.53302727\n",
      "Iteration 190, loss = 0.53172094\n",
      "Iteration 191, loss = 0.53042268\n",
      "Iteration 192, loss = 0.52913236\n",
      "Iteration 193, loss = 0.52784984\n",
      "Iteration 194, loss = 0.52655671\n",
      "Iteration 195, loss = 0.52525311\n",
      "Iteration 196, loss = 0.52395407\n",
      "Iteration 197, loss = 0.52265982\n",
      "Iteration 198, loss = 0.52137059\n",
      "Iteration 199, loss = 0.52008830\n",
      "Iteration 200, loss = 0.51881267\n",
      "Iteration 201, loss = 0.51754268\n",
      "Iteration 202, loss = 0.51627843\n",
      "Iteration 203, loss = 0.51502000\n",
      "Iteration 204, loss = 0.51376745\n",
      "Iteration 205, loss = 0.51252082\n",
      "Iteration 206, loss = 0.51128013\n",
      "Iteration 207, loss = 0.51004543\n",
      "Iteration 208, loss = 0.50881671\n",
      "Iteration 209, loss = 0.50759398\n",
      "Iteration 210, loss = 0.50637724\n",
      "Iteration 211, loss = 0.50516648\n",
      "Iteration 212, loss = 0.50396168\n",
      "Iteration 213, loss = 0.50276282\n",
      "Iteration 214, loss = 0.50156988\n",
      "Iteration 215, loss = 0.50038282\n",
      "Iteration 216, loss = 0.49920160\n",
      "Iteration 217, loss = 0.49802621\n",
      "Iteration 218, loss = 0.49685658\n",
      "Iteration 219, loss = 0.49569270\n",
      "Iteration 220, loss = 0.49453450\n",
      "Iteration 221, loss = 0.49338195\n",
      "Iteration 222, loss = 0.49223499\n",
      "Iteration 223, loss = 0.49109359\n",
      "Iteration 224, loss = 0.48995779\n",
      "Iteration 225, loss = 0.48882782\n",
      "Iteration 226, loss = 0.48769916\n",
      "Iteration 227, loss = 0.48657213\n",
      "Iteration 228, loss = 0.48544964\n",
      "Iteration 229, loss = 0.48433220\n",
      "Iteration 230, loss = 0.48321952\n",
      "Iteration 231, loss = 0.48211157\n",
      "Iteration 232, loss = 0.48100835\n",
      "Iteration 233, loss = 0.47990985\n",
      "Iteration 234, loss = 0.47881652\n",
      "Iteration 235, loss = 0.47772783\n",
      "Iteration 236, loss = 0.47664376\n",
      "Iteration 237, loss = 0.47556432\n",
      "Iteration 238, loss = 0.47448949\n",
      "Iteration 239, loss = 0.47341925\n",
      "Iteration 240, loss = 0.47235358\n",
      "Iteration 241, loss = 0.47129246\n",
      "Iteration 242, loss = 0.47023588\n",
      "Iteration 243, loss = 0.46918380\n",
      "Iteration 244, loss = 0.46813619\n",
      "Iteration 245, loss = 0.46709304\n",
      "Iteration 246, loss = 0.46605430\n",
      "Iteration 247, loss = 0.46502008\n",
      "Iteration 248, loss = 0.46399033\n",
      "Iteration 249, loss = 0.46296487\n",
      "Iteration 250, loss = 0.46194365\n",
      "Iteration 251, loss = 0.46092664\n",
      "Iteration 252, loss = 0.45991381\n",
      "Iteration 253, loss = 0.45890291\n",
      "Iteration 254, loss = 0.45786896\n",
      "Iteration 255, loss = 0.45683681\n",
      "Iteration 256, loss = 0.45580659\n",
      "Iteration 257, loss = 0.45477854\n",
      "Iteration 258, loss = 0.45375287\n",
      "Iteration 259, loss = 0.45272980\n",
      "Iteration 260, loss = 0.45170949\n",
      "Iteration 261, loss = 0.45069212\n",
      "Iteration 262, loss = 0.44967781\n",
      "Iteration 263, loss = 0.44866668\n",
      "Iteration 264, loss = 0.44766398\n",
      "Iteration 265, loss = 0.44666839\n",
      "Iteration 266, loss = 0.44567783\n",
      "Iteration 267, loss = 0.44469136\n",
      "Iteration 268, loss = 0.44371146\n",
      "Iteration 269, loss = 0.44273767\n",
      "Iteration 270, loss = 0.44176823\n",
      "Iteration 271, loss = 0.44080308\n",
      "Iteration 272, loss = 0.43984219\n",
      "Iteration 273, loss = 0.43888550\n",
      "Iteration 274, loss = 0.43793105\n",
      "Iteration 275, loss = 0.43697944\n",
      "Iteration 276, loss = 0.43603163\n",
      "Iteration 277, loss = 0.43508767\n",
      "Iteration 278, loss = 0.43414743\n",
      "Iteration 279, loss = 0.43321090\n",
      "Iteration 280, loss = 0.43227808\n",
      "Iteration 281, loss = 0.43134898\n",
      "Iteration 282, loss = 0.43042363\n",
      "Iteration 283, loss = 0.42950190\n",
      "Iteration 284, loss = 0.42858539\n",
      "Iteration 285, loss = 0.42767774\n",
      "Iteration 286, loss = 0.42677482\n",
      "Iteration 287, loss = 0.42587591\n",
      "Iteration 288, loss = 0.42498091\n",
      "Iteration 289, loss = 0.42408982\n",
      "Iteration 290, loss = 0.42320244\n",
      "Iteration 291, loss = 0.42231872\n",
      "Iteration 292, loss = 0.42143869\n",
      "Iteration 293, loss = 0.42056222\n",
      "Iteration 294, loss = 0.41968926\n",
      "Iteration 295, loss = 0.41881975\n",
      "Iteration 296, loss = 0.41795366\n",
      "Iteration 297, loss = 0.41709093\n",
      "Iteration 298, loss = 0.41622908\n",
      "Iteration 299, loss = 0.41536755\n",
      "Iteration 300, loss = 0.41450879\n",
      "Iteration 301, loss = 0.41365279\n",
      "Iteration 302, loss = 0.41279955\n",
      "Iteration 303, loss = 0.41194908\n",
      "Iteration 304, loss = 0.41109133\n",
      "Iteration 305, loss = 0.41023122\n",
      "Iteration 306, loss = 0.40937210\n",
      "Iteration 307, loss = 0.40851417\n",
      "Iteration 308, loss = 0.40765757\n",
      "Iteration 309, loss = 0.40680247\n",
      "Iteration 310, loss = 0.40594898\n",
      "Iteration 311, loss = 0.40509722\n",
      "Iteration 312, loss = 0.40424730\n",
      "Iteration 313, loss = 0.40340277\n",
      "Iteration 314, loss = 0.40256063\n",
      "Iteration 315, loss = 0.40172088\n",
      "Iteration 316, loss = 0.40088351\n",
      "Iteration 317, loss = 0.40004856\n",
      "Iteration 318, loss = 0.39921603\n",
      "Iteration 319, loss = 0.39838593\n",
      "Iteration 320, loss = 0.39755826\n",
      "Iteration 321, loss = 0.39673302\n",
      "Iteration 322, loss = 0.39591022\n",
      "Iteration 323, loss = 0.39508986\n",
      "Iteration 324, loss = 0.39427193\n",
      "Iteration 325, loss = 0.39345644\n",
      "Iteration 326, loss = 0.39264337\n",
      "Iteration 327, loss = 0.39183272\n",
      "Iteration 328, loss = 0.39102448\n",
      "Iteration 329, loss = 0.39021866\n",
      "Iteration 330, loss = 0.38941523\n",
      "Iteration 331, loss = 0.38861603\n",
      "Iteration 332, loss = 0.38781998\n",
      "Iteration 333, loss = 0.38702643\n",
      "Iteration 334, loss = 0.38623534\n",
      "Iteration 335, loss = 0.38544669\n",
      "Iteration 336, loss = 0.38466045\n",
      "Iteration 337, loss = 0.38387661\n",
      "Iteration 338, loss = 0.38309514\n",
      "Iteration 339, loss = 0.38231602\n",
      "Iteration 340, loss = 0.38153923\n",
      "Iteration 341, loss = 0.38076475\n",
      "Iteration 342, loss = 0.37999256\n",
      "Iteration 343, loss = 0.37922336\n",
      "Iteration 344, loss = 0.37845900\n",
      "Iteration 345, loss = 0.37769713\n",
      "Iteration 346, loss = 0.37693769\n",
      "Iteration 347, loss = 0.37618066\n",
      "Iteration 348, loss = 0.37542598\n",
      "Iteration 349, loss = 0.37467364\n",
      "Iteration 350, loss = 0.37392359\n",
      "Iteration 351, loss = 0.37317581\n",
      "Iteration 352, loss = 0.37243026\n",
      "Iteration 353, loss = 0.37168693\n",
      "Iteration 354, loss = 0.37094305\n",
      "Iteration 355, loss = 0.37020221\n",
      "Iteration 356, loss = 0.36946326\n",
      "Iteration 357, loss = 0.36872619\n",
      "Iteration 358, loss = 0.36799100\n",
      "Iteration 359, loss = 0.36725770\n",
      "Iteration 360, loss = 0.36652706\n",
      "Iteration 361, loss = 0.36579925\n",
      "Iteration 362, loss = 0.36507342\n",
      "Iteration 363, loss = 0.36434957\n",
      "Iteration 364, loss = 0.36362767\n",
      "Iteration 365, loss = 0.36290770\n",
      "Iteration 366, loss = 0.36218965\n",
      "Iteration 367, loss = 0.36147354\n",
      "Iteration 368, loss = 0.36076029\n",
      "Iteration 369, loss = 0.36004974\n",
      "Iteration 370, loss = 0.35934112\n",
      "Iteration 371, loss = 0.35863439\n",
      "Iteration 372, loss = 0.35793072\n",
      "Iteration 373, loss = 0.35723017\n",
      "Iteration 374, loss = 0.35653166\n",
      "Iteration 375, loss = 0.35583514\n",
      "Iteration 376, loss = 0.35514060\n",
      "Iteration 377, loss = 0.35444779\n",
      "Iteration 378, loss = 0.35375555\n",
      "Iteration 379, loss = 0.35306508\n",
      "Iteration 380, loss = 0.35237638\n",
      "Iteration 381, loss = 0.35168943\n",
      "Iteration 382, loss = 0.35100422\n",
      "Iteration 383, loss = 0.35032075\n",
      "Iteration 384, loss = 0.34964046\n",
      "Iteration 385, loss = 0.34896256\n",
      "Iteration 386, loss = 0.34828644\n",
      "Iteration 387, loss = 0.34761208\n",
      "Iteration 388, loss = 0.34693948\n",
      "Iteration 389, loss = 0.34626862\n",
      "Iteration 390, loss = 0.34559951\n",
      "Iteration 391, loss = 0.34493213\n",
      "Iteration 392, loss = 0.34426647\n",
      "Iteration 393, loss = 0.34360253\n",
      "Iteration 394, loss = 0.34294030\n",
      "Iteration 395, loss = 0.34227977\n",
      "Iteration 396, loss = 0.34162094\n",
      "Iteration 397, loss = 0.34096379\n",
      "Iteration 398, loss = 0.34030912\n",
      "Iteration 399, loss = 0.33965681\n",
      "Iteration 400, loss = 0.33900607\n",
      "Iteration 401, loss = 0.33835722\n",
      "Iteration 402, loss = 0.33771044\n",
      "Iteration 403, loss = 0.33706532\n",
      "Iteration 404, loss = 0.33642186\n",
      "Iteration 405, loss = 0.33578005\n",
      "Iteration 406, loss = 0.33513988\n",
      "Iteration 407, loss = 0.33450135\n",
      "Iteration 408, loss = 0.33386445\n",
      "Iteration 409, loss = 0.33322917\n",
      "Iteration 410, loss = 0.33259549\n",
      "Iteration 411, loss = 0.33196343\n",
      "Iteration 412, loss = 0.33133295\n",
      "Iteration 413, loss = 0.33070407\n",
      "Iteration 414, loss = 0.33007676\n",
      "Iteration 415, loss = 0.32945102\n",
      "Iteration 416, loss = 0.32882684\n",
      "Iteration 417, loss = 0.32820422\n",
      "Iteration 418, loss = 0.32758314\n",
      "Iteration 419, loss = 0.32696360\n",
      "Iteration 420, loss = 0.32634559\n",
      "Iteration 421, loss = 0.32572910\n",
      "Iteration 422, loss = 0.32511412\n",
      "Iteration 423, loss = 0.32450065\n",
      "Iteration 424, loss = 0.32388868\n",
      "Iteration 425, loss = 0.32327819\n",
      "Iteration 426, loss = 0.32266920\n",
      "Iteration 427, loss = 0.32206168\n",
      "Iteration 428, loss = 0.32145563\n",
      "Iteration 429, loss = 0.32085104\n",
      "Iteration 430, loss = 0.32024791\n",
      "Iteration 431, loss = 0.31964623\n",
      "Iteration 432, loss = 0.31904599\n",
      "Iteration 433, loss = 0.31844719\n",
      "Iteration 434, loss = 0.31784982\n",
      "Iteration 435, loss = 0.31725388\n",
      "Iteration 436, loss = 0.31665935\n",
      "Iteration 437, loss = 0.31606624\n",
      "Iteration 438, loss = 0.31547454\n",
      "Iteration 439, loss = 0.31488424\n",
      "Iteration 440, loss = 0.31429533\n",
      "Iteration 441, loss = 0.31370797\n",
      "Iteration 442, loss = 0.31312227\n",
      "Iteration 443, loss = 0.31253793\n",
      "Iteration 444, loss = 0.31195496\n",
      "Iteration 445, loss = 0.31137334\n",
      "Iteration 446, loss = 0.31079309\n",
      "Iteration 447, loss = 0.31021420\n",
      "Iteration 448, loss = 0.30963668\n",
      "Iteration 449, loss = 0.30906052\n",
      "Iteration 450, loss = 0.30848573\n",
      "Iteration 451, loss = 0.30791231\n",
      "Iteration 452, loss = 0.30734025\n",
      "Iteration 453, loss = 0.30677122\n",
      "Iteration 454, loss = 0.30620461\n",
      "Iteration 455, loss = 0.30563954\n",
      "Iteration 456, loss = 0.30507601\n",
      "Iteration 457, loss = 0.30451401\n",
      "Iteration 458, loss = 0.30395357\n",
      "Iteration 459, loss = 0.30339450\n",
      "Iteration 460, loss = 0.30283682\n",
      "Iteration 461, loss = 0.30228064\n",
      "Iteration 462, loss = 0.30172587\n",
      "Iteration 463, loss = 0.30117249\n",
      "Iteration 464, loss = 0.30062048\n",
      "Iteration 465, loss = 0.30006984\n",
      "Iteration 466, loss = 0.29952056\n",
      "Iteration 467, loss = 0.29897262\n",
      "Iteration 468, loss = 0.29842602\n",
      "Iteration 469, loss = 0.29788075\n",
      "Iteration 470, loss = 0.29733679\n",
      "Iteration 471, loss = 0.29679415\n",
      "Iteration 472, loss = 0.29625280\n",
      "Iteration 473, loss = 0.29571276\n",
      "Iteration 474, loss = 0.29517400\n",
      "Iteration 475, loss = 0.29463653\n",
      "Iteration 476, loss = 0.29410032\n",
      "Iteration 477, loss = 0.29356539\n",
      "Iteration 478, loss = 0.29303173\n",
      "Iteration 479, loss = 0.29249876\n",
      "Iteration 480, loss = 0.29194579\n",
      "Iteration 481, loss = 0.29139148\n",
      "Iteration 482, loss = 0.29083613\n",
      "Iteration 483, loss = 0.29028167\n",
      "Iteration 484, loss = 0.28972676\n",
      "Iteration 485, loss = 0.28917274\n",
      "Iteration 486, loss = 0.28862017\n",
      "Iteration 487, loss = 0.28806785\n",
      "Iteration 488, loss = 0.28751588\n",
      "Iteration 489, loss = 0.28696439\n",
      "Iteration 490, loss = 0.28641347\n",
      "Iteration 491, loss = 0.28586321\n",
      "Iteration 492, loss = 0.28531368\n",
      "Iteration 493, loss = 0.28476496\n",
      "Iteration 494, loss = 0.28421710\n",
      "Iteration 495, loss = 0.28367087\n",
      "Iteration 496, loss = 0.28312603\n",
      "Iteration 497, loss = 0.28258230\n",
      "Iteration 498, loss = 0.28203971\n",
      "Iteration 499, loss = 0.28149826\n",
      "Iteration 500, loss = 0.28095800\n",
      "Iteration 501, loss = 0.28042440\n",
      "Iteration 502, loss = 0.27989504\n",
      "Iteration 503, loss = 0.27936733\n",
      "Iteration 504, loss = 0.27884125\n",
      "Iteration 505, loss = 0.27831675\n",
      "Iteration 506, loss = 0.27779477\n",
      "Iteration 507, loss = 0.27727486\n",
      "Iteration 508, loss = 0.27675656\n",
      "Iteration 509, loss = 0.27623985\n",
      "Iteration 510, loss = 0.27572468\n",
      "Iteration 511, loss = 0.27521103\n",
      "Iteration 512, loss = 0.27469887\n",
      "Iteration 513, loss = 0.27418819\n",
      "Iteration 514, loss = 0.27367896\n",
      "Iteration 515, loss = 0.27317116\n",
      "Iteration 516, loss = 0.27266477\n",
      "Iteration 517, loss = 0.27215978\n",
      "Iteration 518, loss = 0.27165971\n",
      "Iteration 519, loss = 0.27116581\n",
      "Iteration 520, loss = 0.27067338\n",
      "Iteration 521, loss = 0.27018239\n",
      "Iteration 522, loss = 0.26969283\n",
      "Iteration 523, loss = 0.26920466\n",
      "Iteration 524, loss = 0.26871788\n",
      "Iteration 525, loss = 0.26823245\n",
      "Iteration 526, loss = 0.26774837\n",
      "Iteration 527, loss = 0.26726563\n",
      "Iteration 528, loss = 0.26678420\n",
      "Iteration 529, loss = 0.26630409\n",
      "Iteration 530, loss = 0.26582532\n",
      "Iteration 531, loss = 0.26535116\n",
      "Iteration 532, loss = 0.26487837\n",
      "Iteration 533, loss = 0.26440694\n",
      "Iteration 534, loss = 0.26393687\n",
      "Iteration 535, loss = 0.26346814\n",
      "Iteration 536, loss = 0.26300074\n",
      "Iteration 537, loss = 0.26253469\n",
      "Iteration 538, loss = 0.26206996\n",
      "Iteration 539, loss = 0.26160655\n",
      "Iteration 540, loss = 0.26114446\n",
      "Iteration 541, loss = 0.26068368\n",
      "Iteration 542, loss = 0.26022420\n",
      "Iteration 543, loss = 0.25976601\n",
      "Iteration 544, loss = 0.25930912\n",
      "Iteration 545, loss = 0.25885351\n",
      "Iteration 546, loss = 0.25839917\n",
      "Iteration 547, loss = 0.25794692\n",
      "Iteration 548, loss = 0.25749810\n",
      "Iteration 549, loss = 0.25705074\n",
      "Iteration 550, loss = 0.25660482\n",
      "Iteration 551, loss = 0.25616030\n",
      "Iteration 552, loss = 0.25571715\n",
      "Iteration 553, loss = 0.25527536\n",
      "Iteration 554, loss = 0.25483490\n",
      "Iteration 555, loss = 0.25439575\n",
      "Iteration 556, loss = 0.25395788\n",
      "Iteration 557, loss = 0.25352128\n",
      "Iteration 558, loss = 0.25308594\n",
      "Iteration 559, loss = 0.25265183\n",
      "Iteration 560, loss = 0.25221894\n",
      "Iteration 561, loss = 0.25178726\n",
      "Iteration 562, loss = 0.25135676\n",
      "Iteration 563, loss = 0.25092745\n",
      "Iteration 564, loss = 0.25049931\n",
      "Iteration 565, loss = 0.25007233\n",
      "Iteration 566, loss = 0.24964649\n",
      "Iteration 567, loss = 0.24922179\n",
      "Iteration 568, loss = 0.24879822\n",
      "Iteration 569, loss = 0.24837577\n",
      "Iteration 570, loss = 0.24795443\n",
      "Iteration 571, loss = 0.24753419\n",
      "Iteration 572, loss = 0.24711505\n",
      "Iteration 573, loss = 0.24669700\n",
      "Iteration 574, loss = 0.24628003\n",
      "Iteration 575, loss = 0.24586414\n",
      "Iteration 576, loss = 0.24544932\n",
      "Iteration 577, loss = 0.24503557\n",
      "Iteration 578, loss = 0.24462287\n",
      "Iteration 579, loss = 0.24421122\n",
      "Iteration 580, loss = 0.24380063\n",
      "Iteration 581, loss = 0.24339107\n",
      "Iteration 582, loss = 0.24298256\n",
      "Iteration 583, loss = 0.24257508\n",
      "Iteration 584, loss = 0.24216863\n",
      "Iteration 585, loss = 0.24176320\n",
      "Iteration 586, loss = 0.24135879\n",
      "Iteration 587, loss = 0.24095540\n",
      "Iteration 588, loss = 0.24055302\n",
      "Iteration 589, loss = 0.24015165\n",
      "Iteration 590, loss = 0.23975129\n",
      "Iteration 591, loss = 0.23935192\n",
      "Iteration 592, loss = 0.23895355\n",
      "Iteration 593, loss = 0.23855618\n",
      "Iteration 594, loss = 0.23815979\n",
      "Iteration 595, loss = 0.23776439\n",
      "Iteration 596, loss = 0.23736998\n",
      "Iteration 597, loss = 0.23697654\n",
      "Iteration 598, loss = 0.23658408\n",
      "Iteration 599, loss = 0.23619259\n",
      "Iteration 600, loss = 0.23580207\n",
      "Iteration 601, loss = 0.23541252\n",
      "Iteration 602, loss = 0.23502393\n",
      "Iteration 603, loss = 0.23463630\n",
      "Iteration 604, loss = 0.23424962\n",
      "Iteration 605, loss = 0.23386390\n",
      "Iteration 606, loss = 0.23347913\n",
      "Iteration 607, loss = 0.23309531\n",
      "Iteration 608, loss = 0.23271243\n",
      "Iteration 609, loss = 0.23233050\n",
      "Iteration 610, loss = 0.23194950\n",
      "Iteration 611, loss = 0.23156944\n",
      "Iteration 612, loss = 0.23119031\n",
      "Iteration 613, loss = 0.23081211\n",
      "Iteration 614, loss = 0.23043484\n",
      "Iteration 615, loss = 0.23005849\n",
      "Iteration 616, loss = 0.22968318\n",
      "Iteration 617, loss = 0.22931141\n",
      "Iteration 618, loss = 0.22894066\n",
      "Iteration 619, loss = 0.22857091\n",
      "Iteration 620, loss = 0.22820216\n",
      "Iteration 621, loss = 0.22783438\n",
      "Iteration 622, loss = 0.22746756\n",
      "Iteration 623, loss = 0.22710170\n",
      "Iteration 624, loss = 0.22673678\n",
      "Iteration 625, loss = 0.22637280\n",
      "Iteration 626, loss = 0.22600974\n",
      "Iteration 627, loss = 0.22564760\n",
      "Iteration 628, loss = 0.22528637\n",
      "Iteration 629, loss = 0.22492605\n",
      "Iteration 630, loss = 0.22456662\n",
      "Iteration 631, loss = 0.22420809\n",
      "Iteration 632, loss = 0.22385121\n",
      "Iteration 633, loss = 0.22349660\n",
      "Iteration 634, loss = 0.22314291\n",
      "Iteration 635, loss = 0.22279012\n",
      "Iteration 636, loss = 0.22243822\n",
      "Iteration 637, loss = 0.22208722\n",
      "Iteration 638, loss = 0.22173710\n",
      "Iteration 639, loss = 0.22138785\n",
      "Iteration 640, loss = 0.22103948\n",
      "Iteration 641, loss = 0.22069198\n",
      "Iteration 642, loss = 0.22034534\n",
      "Iteration 643, loss = 0.21999956\n",
      "Iteration 644, loss = 0.21965463\n",
      "Iteration 645, loss = 0.21931055\n",
      "Iteration 646, loss = 0.21896731\n",
      "Iteration 647, loss = 0.21862492\n",
      "Iteration 648, loss = 0.21828336\n",
      "Iteration 649, loss = 0.21794264\n",
      "Iteration 650, loss = 0.21760274\n",
      "Iteration 651, loss = 0.21726366\n",
      "Iteration 652, loss = 0.21692541\n",
      "Iteration 653, loss = 0.21658797\n",
      "Iteration 654, loss = 0.21625134\n",
      "Iteration 655, loss = 0.21591552\n",
      "Iteration 656, loss = 0.21558066\n",
      "Iteration 657, loss = 0.21524853\n",
      "Iteration 658, loss = 0.21491727\n",
      "Iteration 659, loss = 0.21458689\n",
      "Iteration 660, loss = 0.21425736\n",
      "Iteration 661, loss = 0.21392867\n",
      "Iteration 662, loss = 0.21360202\n",
      "Iteration 663, loss = 0.21327681\n",
      "Iteration 664, loss = 0.21295254\n",
      "Iteration 665, loss = 0.21262921\n",
      "Iteration 666, loss = 0.21230678\n",
      "Iteration 667, loss = 0.21198525\n",
      "Iteration 668, loss = 0.21166460\n",
      "Iteration 669, loss = 0.21134481\n",
      "Iteration 670, loss = 0.21102587\n",
      "Iteration 671, loss = 0.21070777\n",
      "Iteration 672, loss = 0.21039055\n",
      "Iteration 673, loss = 0.21007493\n",
      "Iteration 674, loss = 0.20976016\n",
      "Iteration 675, loss = 0.20944622\n",
      "Iteration 676, loss = 0.20913310\n",
      "Iteration 677, loss = 0.20882080\n",
      "Iteration 678, loss = 0.20850978\n",
      "Iteration 679, loss = 0.20819972\n",
      "Iteration 680, loss = 0.20789048\n",
      "Iteration 681, loss = 0.20758216\n",
      "Iteration 682, loss = 0.20727484\n",
      "Iteration 683, loss = 0.20696832\n",
      "Iteration 684, loss = 0.20666260\n",
      "Iteration 685, loss = 0.20635767\n",
      "Iteration 686, loss = 0.20605352\n",
      "Iteration 687, loss = 0.20575013\n",
      "Iteration 688, loss = 0.20544749\n",
      "Iteration 689, loss = 0.20514561\n",
      "Iteration 690, loss = 0.20484448\n",
      "Iteration 691, loss = 0.20454408\n",
      "Iteration 692, loss = 0.20424441\n",
      "Iteration 693, loss = 0.20394546\n",
      "Iteration 694, loss = 0.20364724\n",
      "Iteration 695, loss = 0.20334973\n",
      "Iteration 696, loss = 0.20305294\n",
      "Iteration 697, loss = 0.20275685\n",
      "Iteration 698, loss = 0.20246146\n",
      "Iteration 699, loss = 0.20216677\n",
      "Iteration 700, loss = 0.20187278\n",
      "Iteration 701, loss = 0.20157949\n",
      "Iteration 702, loss = 0.20128688\n",
      "Iteration 703, loss = 0.20099496\n",
      "Iteration 704, loss = 0.20070372\n",
      "Iteration 705, loss = 0.20041317\n",
      "Iteration 706, loss = 0.20012329\n",
      "Iteration 707, loss = 0.19983410\n",
      "Iteration 708, loss = 0.19954557\n",
      "Iteration 709, loss = 0.19925772\n",
      "Iteration 710, loss = 0.19897054\n",
      "Iteration 711, loss = 0.19868403\n",
      "Iteration 712, loss = 0.19839847\n",
      "Iteration 713, loss = 0.19811505\n",
      "Iteration 714, loss = 0.19783242\n",
      "Iteration 715, loss = 0.19755056\n",
      "Iteration 716, loss = 0.19726945\n",
      "Iteration 717, loss = 0.19698908\n",
      "Iteration 718, loss = 0.19670944\n",
      "Iteration 719, loss = 0.19643052\n",
      "Iteration 720, loss = 0.19615231\n",
      "Iteration 721, loss = 0.19587479\n",
      "Iteration 722, loss = 0.19559796\n",
      "Iteration 723, loss = 0.19532182\n",
      "Iteration 724, loss = 0.19504634\n",
      "Iteration 725, loss = 0.19477154\n",
      "Iteration 726, loss = 0.19449740\n",
      "Iteration 727, loss = 0.19422392\n",
      "Iteration 728, loss = 0.19395109\n",
      "Iteration 729, loss = 0.19367891\n",
      "Iteration 730, loss = 0.19340737\n",
      "Iteration 731, loss = 0.19313647\n",
      "Iteration 732, loss = 0.19286820\n",
      "Iteration 733, loss = 0.19260177\n",
      "Iteration 734, loss = 0.19233611\n",
      "Iteration 735, loss = 0.19207118\n",
      "Iteration 736, loss = 0.19180699\n",
      "Iteration 737, loss = 0.19154352\n",
      "Iteration 738, loss = 0.19128075\n",
      "Iteration 739, loss = 0.19101868\n",
      "Iteration 740, loss = 0.19075731\n",
      "Iteration 741, loss = 0.19049661\n",
      "Iteration 742, loss = 0.19023660\n",
      "Iteration 743, loss = 0.18997725\n",
      "Iteration 744, loss = 0.18971856\n",
      "Iteration 745, loss = 0.18946054\n",
      "Iteration 746, loss = 0.18920316\n",
      "Iteration 747, loss = 0.18894644\n",
      "Iteration 748, loss = 0.18869036\n",
      "Iteration 749, loss = 0.18843491\n",
      "Iteration 750, loss = 0.18818010\n",
      "Iteration 751, loss = 0.18792592\n",
      "Iteration 752, loss = 0.18767236\n",
      "Iteration 753, loss = 0.18741942\n",
      "Iteration 754, loss = 0.18716710\n",
      "Iteration 755, loss = 0.18691540\n",
      "Iteration 756, loss = 0.18666464\n",
      "Iteration 757, loss = 0.18641455\n",
      "Iteration 758, loss = 0.18616509\n",
      "Iteration 759, loss = 0.18591626\n",
      "Iteration 760, loss = 0.18566804\n",
      "Iteration 761, loss = 0.18542043\n",
      "Iteration 762, loss = 0.18517342\n",
      "Iteration 763, loss = 0.18492702\n",
      "Iteration 764, loss = 0.18468121\n",
      "Iteration 765, loss = 0.18443600\n",
      "Iteration 766, loss = 0.18419137\n",
      "Iteration 767, loss = 0.18394732\n",
      "Iteration 768, loss = 0.18370386\n",
      "Iteration 769, loss = 0.18346097\n",
      "Iteration 770, loss = 0.18321853\n",
      "Iteration 771, loss = 0.18297660\n",
      "Iteration 772, loss = 0.18273522\n",
      "Iteration 773, loss = 0.18249438\n",
      "Iteration 774, loss = 0.18225410\n",
      "Iteration 775, loss = 0.18201436\n",
      "Iteration 776, loss = 0.18177517\n",
      "Iteration 777, loss = 0.18153652\n",
      "Iteration 778, loss = 0.18129842\n",
      "Iteration 779, loss = 0.18106086\n",
      "Iteration 780, loss = 0.18082384\n",
      "Iteration 781, loss = 0.18058736\n",
      "Iteration 782, loss = 0.18035143\n",
      "Iteration 783, loss = 0.18011603\n",
      "Iteration 784, loss = 0.17988117\n",
      "Iteration 785, loss = 0.17964684\n",
      "Iteration 786, loss = 0.17941305\n",
      "Iteration 787, loss = 0.17917980\n",
      "Iteration 788, loss = 0.17894708\n",
      "Iteration 789, loss = 0.17871488\n",
      "Iteration 790, loss = 0.17848322\n",
      "Iteration 791, loss = 0.17825209\n",
      "Iteration 792, loss = 0.17802149\n",
      "Iteration 793, loss = 0.17779141\n",
      "Iteration 794, loss = 0.17756185\n",
      "Iteration 795, loss = 0.17733282\n",
      "Iteration 796, loss = 0.17710432\n",
      "Iteration 797, loss = 0.17687633\n",
      "Iteration 798, loss = 0.17664886\n",
      "Iteration 799, loss = 0.17642191\n",
      "Iteration 800, loss = 0.17619548\n",
      "Iteration 801, loss = 0.17596957\n",
      "Iteration 802, loss = 0.17574417\n",
      "Iteration 803, loss = 0.17551928\n",
      "Iteration 804, loss = 0.17529491\n",
      "Iteration 805, loss = 0.17507104\n",
      "Iteration 806, loss = 0.17484769\n",
      "Iteration 807, loss = 0.17462484\n",
      "Iteration 808, loss = 0.17440250\n",
      "Iteration 809, loss = 0.17418067\n",
      "Iteration 810, loss = 0.17395934\n",
      "Iteration 811, loss = 0.17373851\n",
      "Iteration 812, loss = 0.17351819\n",
      "Iteration 813, loss = 0.17329836\n",
      "Iteration 814, loss = 0.17307904\n",
      "Iteration 815, loss = 0.17286021\n",
      "Iteration 816, loss = 0.17264188\n",
      "Iteration 817, loss = 0.17242405\n",
      "Iteration 818, loss = 0.17220671\n",
      "Iteration 819, loss = 0.17198986\n",
      "Iteration 820, loss = 0.17177351\n",
      "Iteration 821, loss = 0.17155764\n",
      "Iteration 822, loss = 0.17134226\n",
      "Iteration 823, loss = 0.17112955\n",
      "Iteration 824, loss = 0.17092067\n",
      "Iteration 825, loss = 0.17071318\n",
      "Iteration 826, loss = 0.17050605\n",
      "Iteration 827, loss = 0.17029929\n",
      "Iteration 828, loss = 0.17009295\n",
      "Iteration 829, loss = 0.16988704\n",
      "Iteration 830, loss = 0.16968160\n",
      "Iteration 831, loss = 0.16947680\n",
      "Iteration 832, loss = 0.16927282\n",
      "Iteration 833, loss = 0.16906940\n",
      "Iteration 834, loss = 0.16886656\n",
      "Iteration 835, loss = 0.16866430\n",
      "Iteration 836, loss = 0.16846263\n",
      "Iteration 837, loss = 0.16826156\n",
      "Iteration 838, loss = 0.16806109\n",
      "Iteration 839, loss = 0.16786123\n",
      "Iteration 840, loss = 0.16766197\n",
      "Iteration 841, loss = 0.16746332\n",
      "Iteration 842, loss = 0.16726526\n",
      "Iteration 843, loss = 0.16706780\n",
      "Iteration 844, loss = 0.16687093\n",
      "Iteration 845, loss = 0.16667465\n",
      "Iteration 846, loss = 0.16647893\n",
      "Iteration 847, loss = 0.16628379\n",
      "Iteration 848, loss = 0.16608920\n",
      "Iteration 849, loss = 0.16589516\n",
      "Iteration 850, loss = 0.16570167\n",
      "Iteration 851, loss = 0.16550871\n",
      "Iteration 852, loss = 0.16531627\n",
      "Iteration 853, loss = 0.16512436\n",
      "Iteration 854, loss = 0.16493295\n",
      "Iteration 855, loss = 0.16474204\n",
      "Iteration 856, loss = 0.16455163\n",
      "Iteration 857, loss = 0.16436171\n",
      "Iteration 858, loss = 0.16417226\n",
      "Iteration 859, loss = 0.16398330\n",
      "Iteration 860, loss = 0.16379480\n",
      "Iteration 861, loss = 0.16360676\n",
      "Iteration 862, loss = 0.16341919\n",
      "Iteration 863, loss = 0.16323207\n",
      "Iteration 864, loss = 0.16304540\n",
      "Iteration 865, loss = 0.16285918\n",
      "Iteration 866, loss = 0.16267340\n",
      "Iteration 867, loss = 0.16248806\n",
      "Iteration 868, loss = 0.16230315\n",
      "Iteration 869, loss = 0.16211868\n",
      "Iteration 870, loss = 0.16193464\n",
      "Iteration 871, loss = 0.16175103\n",
      "Iteration 872, loss = 0.16156784\n",
      "Iteration 873, loss = 0.16138508\n",
      "Iteration 874, loss = 0.16120273\n",
      "Iteration 875, loss = 0.16102081\n",
      "Iteration 876, loss = 0.16083930\n",
      "Iteration 877, loss = 0.16065820\n",
      "Iteration 878, loss = 0.16047752\n",
      "Iteration 879, loss = 0.16029725\n",
      "Iteration 880, loss = 0.16011739\n",
      "Iteration 881, loss = 0.15993794\n",
      "Iteration 882, loss = 0.15975889\n",
      "Iteration 883, loss = 0.15958025\n",
      "Iteration 884, loss = 0.15940200\n",
      "Iteration 885, loss = 0.15922416\n",
      "Iteration 886, loss = 0.15904672\n",
      "Iteration 887, loss = 0.15886968\n",
      "Iteration 888, loss = 0.15869303\n",
      "Iteration 889, loss = 0.15851678\n",
      "Iteration 890, loss = 0.15834092\n",
      "Iteration 891, loss = 0.15816545\n",
      "Iteration 892, loss = 0.15799037\n",
      "Iteration 893, loss = 0.15781567\n",
      "Iteration 894, loss = 0.15764137\n",
      "Iteration 895, loss = 0.15746745\n",
      "Iteration 896, loss = 0.15729391\n",
      "Iteration 897, loss = 0.15712075\n",
      "Iteration 898, loss = 0.15694797\n",
      "Iteration 899, loss = 0.15677558\n",
      "Iteration 900, loss = 0.15660356\n",
      "Iteration 901, loss = 0.15643191\n",
      "Iteration 902, loss = 0.15626064\n",
      "Iteration 903, loss = 0.15608975\n",
      "Iteration 904, loss = 0.15591922\n",
      "Iteration 905, loss = 0.15574907\n",
      "Iteration 906, loss = 0.15557928\n",
      "Iteration 907, loss = 0.15540986\n",
      "Iteration 908, loss = 0.15524080\n",
      "Iteration 909, loss = 0.15507211\n",
      "Iteration 910, loss = 0.15490379\n",
      "Iteration 911, loss = 0.15473582\n",
      "Iteration 912, loss = 0.15456822\n",
      "Iteration 913, loss = 0.15440097\n",
      "Iteration 914, loss = 0.15423408\n",
      "Iteration 915, loss = 0.15406755\n",
      "Iteration 916, loss = 0.15390137\n",
      "Iteration 917, loss = 0.15373555\n",
      "Iteration 918, loss = 0.15357008\n",
      "Iteration 919, loss = 0.15340496\n",
      "Iteration 920, loss = 0.15324019\n",
      "Iteration 921, loss = 0.15307577\n",
      "Iteration 922, loss = 0.15291169\n",
      "Iteration 923, loss = 0.15274797\n",
      "Iteration 924, loss = 0.15258458\n",
      "Iteration 925, loss = 0.15242155\n",
      "Iteration 926, loss = 0.15225885\n",
      "Iteration 927, loss = 0.15209650\n",
      "Iteration 928, loss = 0.15193448\n",
      "Iteration 929, loss = 0.15177281\n",
      "Iteration 930, loss = 0.15161147\n",
      "Iteration 931, loss = 0.15145047\n",
      "Iteration 932, loss = 0.15128981\n",
      "Iteration 933, loss = 0.15112948\n",
      "Iteration 934, loss = 0.15096948\n",
      "Iteration 935, loss = 0.15080982\n",
      "Iteration 936, loss = 0.15065049\n",
      "Iteration 937, loss = 0.15049149\n",
      "Iteration 938, loss = 0.15033282\n",
      "Iteration 939, loss = 0.15017447\n",
      "Iteration 940, loss = 0.15001646\n",
      "Iteration 941, loss = 0.14985974\n",
      "Iteration 942, loss = 0.14970355\n",
      "Iteration 943, loss = 0.14954778\n",
      "Iteration 944, loss = 0.14939239\n",
      "Iteration 945, loss = 0.14923740\n",
      "Iteration 946, loss = 0.14908278\n",
      "Iteration 947, loss = 0.14892853\n",
      "Iteration 948, loss = 0.14877464\n",
      "Iteration 949, loss = 0.14862111\n",
      "Iteration 950, loss = 0.14846793\n",
      "Iteration 951, loss = 0.14831510\n",
      "Iteration 952, loss = 0.14816261\n",
      "Iteration 953, loss = 0.14801045\n",
      "Iteration 954, loss = 0.14785863\n",
      "Iteration 955, loss = 0.14770713\n",
      "Iteration 956, loss = 0.14755596\n",
      "Iteration 957, loss = 0.14740512\n",
      "Iteration 958, loss = 0.14725459\n",
      "Iteration 959, loss = 0.14710438\n",
      "Iteration 960, loss = 0.14695448\n",
      "Iteration 961, loss = 0.14680489\n",
      "Iteration 962, loss = 0.14665561\n",
      "Iteration 963, loss = 0.14650664\n",
      "Iteration 964, loss = 0.14635797\n",
      "Iteration 965, loss = 0.14620961\n",
      "Iteration 966, loss = 0.14606154\n",
      "Iteration 967, loss = 0.14591378\n",
      "Iteration 968, loss = 0.14576632\n",
      "Iteration 969, loss = 0.14561915\n",
      "Iteration 970, loss = 0.14547228\n",
      "Iteration 971, loss = 0.14532570\n",
      "Iteration 972, loss = 0.14517941\n",
      "Iteration 973, loss = 0.14503342\n",
      "Iteration 974, loss = 0.14488771\n",
      "Iteration 975, loss = 0.14474230\n",
      "Iteration 976, loss = 0.14459717\n",
      "Iteration 977, loss = 0.14445233\n",
      "Iteration 978, loss = 0.14430777\n",
      "Iteration 979, loss = 0.14416350\n",
      "Iteration 980, loss = 0.14401952\n",
      "Iteration 981, loss = 0.14387582\n",
      "Iteration 982, loss = 0.14373239\n",
      "Iteration 983, loss = 0.14358925\n",
      "Iteration 984, loss = 0.14344639\n",
      "Iteration 985, loss = 0.14330381\n",
      "Iteration 986, loss = 0.14316151\n",
      "Iteration 987, loss = 0.14301949\n",
      "Iteration 988, loss = 0.14287774\n",
      "Iteration 989, loss = 0.14273627\n",
      "Iteration 990, loss = 0.14259507\n",
      "Iteration 991, loss = 0.14245415\n",
      "Iteration 992, loss = 0.14231350\n",
      "Iteration 993, loss = 0.14217312\n",
      "Iteration 994, loss = 0.14203302\n",
      "Iteration 995, loss = 0.14189318\n",
      "Iteration 996, loss = 0.14175362\n",
      "Iteration 997, loss = 0.14161433\n",
      "Iteration 998, loss = 0.14147531\n",
      "Iteration 999, loss = 0.14133655\n",
      "Iteration 1000, loss = 0.14119806\n",
      "Iteration 1001, loss = 0.14105984\n",
      "Iteration 1002, loss = 0.14092189\n",
      "Iteration 1003, loss = 0.14078420\n",
      "Iteration 1004, loss = 0.14064678\n",
      "Iteration 1005, loss = 0.14050962\n",
      "Iteration 1006, loss = 0.14037272\n",
      "Iteration 1007, loss = 0.14023609\n",
      "Iteration 1008, loss = 0.14009972\n",
      "Iteration 1009, loss = 0.13996361\n",
      "Iteration 1010, loss = 0.13982776\n",
      "Iteration 1011, loss = 0.13969217\n",
      "Iteration 1012, loss = 0.13955684\n",
      "Iteration 1013, loss = 0.13942177\n",
      "Iteration 1014, loss = 0.13928695\n",
      "Iteration 1015, loss = 0.13915240\n",
      "Iteration 1016, loss = 0.13901810\n",
      "Iteration 1017, loss = 0.13888406\n",
      "Iteration 1018, loss = 0.13875027\n",
      "Iteration 1019, loss = 0.13861674\n",
      "Iteration 1020, loss = 0.13848346\n",
      "Iteration 1021, loss = 0.13835044\n",
      "Iteration 1022, loss = 0.13821767\n",
      "Iteration 1023, loss = 0.13808515\n",
      "Iteration 1024, loss = 0.13795289\n",
      "Iteration 1025, loss = 0.13782087\n",
      "Iteration 1026, loss = 0.13768911\n",
      "Iteration 1027, loss = 0.13755759\n",
      "Iteration 1028, loss = 0.13742633\n",
      "Iteration 1029, loss = 0.13729531\n",
      "Iteration 1030, loss = 0.13716454\n",
      "Iteration 1031, loss = 0.13703402\n",
      "Iteration 1032, loss = 0.13690375\n",
      "Iteration 1033, loss = 0.13677372\n",
      "Iteration 1034, loss = 0.13664394\n",
      "Iteration 1035, loss = 0.13651440\n",
      "Iteration 1036, loss = 0.13638511\n",
      "Iteration 1037, loss = 0.13625606\n",
      "Iteration 1038, loss = 0.13612726\n",
      "Iteration 1039, loss = 0.13599870\n",
      "Iteration 1040, loss = 0.13587038\n",
      "Iteration 1041, loss = 0.13574230\n",
      "Iteration 1042, loss = 0.13561447\n",
      "Iteration 1043, loss = 0.13548687\n",
      "Iteration 1044, loss = 0.13535952\n",
      "Iteration 1045, loss = 0.13523240\n",
      "Iteration 1046, loss = 0.13510579\n",
      "Iteration 1047, loss = 0.13497990\n",
      "Iteration 1048, loss = 0.13485431\n",
      "Iteration 1049, loss = 0.13472899\n",
      "Iteration 1050, loss = 0.13460396\n",
      "Iteration 1051, loss = 0.13447919\n",
      "Iteration 1052, loss = 0.13435470\n",
      "Iteration 1053, loss = 0.13423047\n",
      "Iteration 1054, loss = 0.13410649\n",
      "Iteration 1055, loss = 0.13398278\n",
      "Iteration 1056, loss = 0.13385932\n",
      "Iteration 1057, loss = 0.13373610\n",
      "Iteration 1058, loss = 0.13361314\n",
      "Iteration 1059, loss = 0.13349041\n",
      "Iteration 1060, loss = 0.13336794\n",
      "Iteration 1061, loss = 0.13324570\n",
      "Iteration 1062, loss = 0.13312370\n",
      "Iteration 1063, loss = 0.13300193\n",
      "Iteration 1064, loss = 0.13288040\n",
      "Iteration 1065, loss = 0.13275911\n",
      "Iteration 1066, loss = 0.13263804\n",
      "Iteration 1067, loss = 0.13251721\n",
      "Iteration 1068, loss = 0.13239660\n",
      "Iteration 1069, loss = 0.13227623\n",
      "Iteration 1070, loss = 0.13215608\n",
      "Iteration 1071, loss = 0.13203615\n",
      "Iteration 1072, loss = 0.13191645\n",
      "Iteration 1073, loss = 0.13179698\n",
      "Iteration 1074, loss = 0.13167773\n",
      "Iteration 1075, loss = 0.13155869\n",
      "Iteration 1076, loss = 0.13143989\n",
      "Iteration 1077, loss = 0.13132130\n",
      "Iteration 1078, loss = 0.13120293\n",
      "Iteration 1079, loss = 0.13108478\n",
      "Iteration 1080, loss = 0.13096684\n",
      "Iteration 1081, loss = 0.13084913\n",
      "Iteration 1082, loss = 0.13073163\n",
      "Iteration 1083, loss = 0.13061435\n",
      "Iteration 1084, loss = 0.13049728\n",
      "Iteration 1085, loss = 0.13038043\n",
      "Iteration 1086, loss = 0.13026379\n",
      "Iteration 1087, loss = 0.13014737\n",
      "Iteration 1088, loss = 0.13003116\n",
      "Iteration 1089, loss = 0.12991516\n",
      "Iteration 1090, loss = 0.12979938\n",
      "Iteration 1091, loss = 0.12968380\n",
      "Iteration 1092, loss = 0.12956844\n",
      "Iteration 1093, loss = 0.12945329\n",
      "Iteration 1094, loss = 0.12933835\n",
      "Iteration 1095, loss = 0.12922362\n",
      "Iteration 1096, loss = 0.12910909\n",
      "Iteration 1097, loss = 0.12899478\n",
      "Iteration 1098, loss = 0.12888067\n",
      "Iteration 1099, loss = 0.12876677\n",
      "Iteration 1100, loss = 0.12865308\n",
      "Iteration 1101, loss = 0.12853960\n",
      "Iteration 1102, loss = 0.12842632\n",
      "Iteration 1103, loss = 0.12831324\n",
      "Iteration 1104, loss = 0.12820037\n",
      "Iteration 1105, loss = 0.12808771\n",
      "Iteration 1106, loss = 0.12797525\n",
      "Iteration 1107, loss = 0.12786300\n",
      "Iteration 1108, loss = 0.12775094\n",
      "Iteration 1109, loss = 0.12763909\n",
      "Iteration 1110, loss = 0.12752745\n",
      "Iteration 1111, loss = 0.12741600\n",
      "Iteration 1112, loss = 0.12730476\n",
      "Iteration 1113, loss = 0.12719372\n",
      "Iteration 1114, loss = 0.12708287\n",
      "Iteration 1115, loss = 0.12697223\n",
      "Iteration 1116, loss = 0.12686179\n",
      "Iteration 1117, loss = 0.12675155\n",
      "Iteration 1118, loss = 0.12664151\n",
      "Iteration 1119, loss = 0.12653158\n",
      "Iteration 1120, loss = 0.12642180\n",
      "Iteration 1121, loss = 0.12631220\n",
      "Iteration 1122, loss = 0.12620279\n",
      "Iteration 1123, loss = 0.12609356\n",
      "Iteration 1124, loss = 0.12598452\n",
      "Iteration 1125, loss = 0.12587566\n",
      "Iteration 1126, loss = 0.12576700\n",
      "Iteration 1127, loss = 0.12565852\n",
      "Iteration 1128, loss = 0.12555023\n",
      "Iteration 1129, loss = 0.12544213\n",
      "Iteration 1130, loss = 0.12533422\n",
      "Iteration 1131, loss = 0.12522650\n",
      "Iteration 1132, loss = 0.12511897\n",
      "Iteration 1133, loss = 0.12501162\n",
      "Iteration 1134, loss = 0.12490447\n",
      "Iteration 1135, loss = 0.12479751\n",
      "Iteration 1136, loss = 0.12469074\n",
      "Iteration 1137, loss = 0.12458415\n",
      "Iteration 1138, loss = 0.12447776\n",
      "Iteration 1139, loss = 0.12437155\n",
      "Iteration 1140, loss = 0.12426554\n",
      "Iteration 1141, loss = 0.12415971\n",
      "Iteration 1142, loss = 0.12405408\n",
      "Iteration 1143, loss = 0.12394863\n",
      "Iteration 1144, loss = 0.12384337\n",
      "Iteration 1145, loss = 0.12373829\n",
      "Iteration 1146, loss = 0.12363341\n",
      "Iteration 1147, loss = 0.12352871\n",
      "Iteration 1148, loss = 0.12342420\n",
      "Iteration 1149, loss = 0.12331987\n",
      "Iteration 1150, loss = 0.12321574\n",
      "Iteration 1151, loss = 0.12311178\n",
      "Iteration 1152, loss = 0.12300802\n",
      "Iteration 1153, loss = 0.12290444\n",
      "Iteration 1154, loss = 0.12280104\n",
      "Iteration 1155, loss = 0.12269783\n",
      "Iteration 1156, loss = 0.12259481\n",
      "Iteration 1157, loss = 0.12249196\n",
      "Iteration 1158, loss = 0.12238931\n",
      "Iteration 1159, loss = 0.12228683\n",
      "Iteration 1160, loss = 0.12218454\n",
      "Iteration 1161, loss = 0.12208243\n",
      "Iteration 1162, loss = 0.12198050\n",
      "Iteration 1163, loss = 0.12187876\n",
      "Iteration 1164, loss = 0.12177720\n",
      "Iteration 1165, loss = 0.12167581\n",
      "Iteration 1166, loss = 0.12157461\n",
      "Iteration 1167, loss = 0.12147359\n",
      "Iteration 1168, loss = 0.12137275\n",
      "Iteration 1169, loss = 0.12127209\n",
      "Iteration 1170, loss = 0.12117161\n",
      "Iteration 1171, loss = 0.12107130\n",
      "Iteration 1172, loss = 0.12097118\n",
      "Iteration 1173, loss = 0.12087123\n",
      "Iteration 1174, loss = 0.12077146\n",
      "Iteration 1175, loss = 0.12067187\n",
      "Iteration 1176, loss = 0.12057246\n",
      "Iteration 1177, loss = 0.12047322\n",
      "Iteration 1178, loss = 0.12037416\n",
      "Iteration 1179, loss = 0.12027527\n",
      "Iteration 1180, loss = 0.12017657\n",
      "Iteration 1181, loss = 0.12007803\n",
      "Iteration 1182, loss = 0.11997967\n",
      "Iteration 1183, loss = 0.11988149\n",
      "Training loss did not improve more than tol=0.000100 for 10 consecutive epochs. Stopping.\n"
     ]
    },
    {
     "data": {
      "text/plain": [
       "1.0"
      ]
     },
     "execution_count": 8,
     "metadata": {},
     "output_type": "execute_result"
    }
   ],
   "source": [
    "from sklearn.datasets import load_iris\n",
    "from sklearn.model_selection import train_test_split\n",
    "from sklearn.neural_network import MLPClassifier\n",
    "\n",
    "iris = load_iris()\n",
    "X_train_full, X_test, y_train_full, y_test = train_test_split(\n",
    "    iris.data, iris.target, test_size=0.1, random_state=42)\n",
    "X_train, X_valid, y_train, y_valid = train_test_split(\n",
    "    X_train_full, y_train_full, test_size=0.1, random_state=42)\n",
    "\n",
    "mlp_clf = MLPClassifier(hidden_layer_sizes=[5], max_iter=10_000,\n",
    "                        random_state=42, verbose=1)\n",
    "pipeline = make_pipeline(StandardScaler(), mlp_clf)\n",
    "pipeline.fit(X_train, y_train)\n",
    "accuracy = pipeline.score(X_valid, y_valid)\n",
    "accuracy"
   ]
  },
  {
   "cell_type": "markdown",
   "id": "308a8cfc-c352-4bb4-a3c4-c356cbd864ce",
   "metadata": {},
   "source": [
    "### Task\n",
    "\n",
    "Train a MLP Classifier on the following classification data:\n",
    "\n",
    "- find a sensible parameter distribution\n",
    "\n",
    "    - `max_iter`\n",
    "    - `hidden_layer_sizes`\n",
    "    - `learning_rate_init`\n",
    "\n",
    "- see that the training loss / validation score and the validation score for the test data is good"
   ]
  },
  {
   "cell_type": "code",
   "execution_count": 9,
   "id": "80916289-bd28-4bfe-aec9-1988b017246e",
   "metadata": {
    "scrolled": true
   },
   "outputs": [
    {
     "name": "stdout",
     "output_type": "stream",
     "text": [
      "Iteration 1, loss = 0.71636823\n",
      "Validation score: 0.633333\n",
      "Iteration 2, loss = 0.67416907\n",
      "Validation score: 0.673333\n",
      "Iteration 3, loss = 0.63810605\n",
      "Validation score: 0.706667\n",
      "Iteration 4, loss = 0.60565649\n",
      "Validation score: 0.706667\n",
      "Iteration 5, loss = 0.57584216\n",
      "Validation score: 0.713333\n",
      "Iteration 6, loss = 0.54877456\n",
      "Validation score: 0.740000\n",
      "Iteration 7, loss = 0.52414149\n",
      "Validation score: 0.753333\n",
      "Iteration 8, loss = 0.50099363\n",
      "Validation score: 0.773333\n",
      "Iteration 9, loss = 0.48023542\n",
      "Validation score: 0.793333\n",
      "Iteration 10, loss = 0.46077723\n",
      "Validation score: 0.813333\n",
      "Iteration 11, loss = 0.44268865\n",
      "Validation score: 0.820000\n",
      "Iteration 12, loss = 0.42539543\n",
      "Validation score: 0.820000\n",
      "Iteration 13, loss = 0.40953398\n",
      "Validation score: 0.826667\n",
      "Iteration 14, loss = 0.39478103\n",
      "Validation score: 0.826667\n",
      "Iteration 15, loss = 0.38045149\n",
      "Validation score: 0.833333\n",
      "Iteration 16, loss = 0.36693310\n",
      "Validation score: 0.840000\n",
      "Iteration 17, loss = 0.35385977\n",
      "Validation score: 0.840000\n",
      "Iteration 18, loss = 0.34178693\n",
      "Validation score: 0.840000\n",
      "Iteration 19, loss = 0.32984737\n",
      "Validation score: 0.840000\n",
      "Iteration 20, loss = 0.31852051\n",
      "Validation score: 0.833333\n",
      "Iteration 21, loss = 0.30773125\n",
      "Validation score: 0.840000\n",
      "Iteration 22, loss = 0.29733073\n",
      "Validation score: 0.846667\n",
      "Iteration 23, loss = 0.28739190\n",
      "Validation score: 0.846667\n",
      "Iteration 24, loss = 0.27785859\n",
      "Validation score: 0.846667\n",
      "Iteration 25, loss = 0.26869705\n",
      "Validation score: 0.846667\n",
      "Iteration 26, loss = 0.25971174\n",
      "Validation score: 0.846667\n",
      "Iteration 27, loss = 0.25120765\n",
      "Validation score: 0.866667\n",
      "Iteration 28, loss = 0.24285624\n",
      "Validation score: 0.873333\n",
      "Iteration 29, loss = 0.23510558\n",
      "Validation score: 0.866667\n",
      "Iteration 30, loss = 0.22752474\n",
      "Validation score: 0.866667\n",
      "Iteration 31, loss = 0.22009232\n",
      "Validation score: 0.866667\n",
      "Iteration 32, loss = 0.21307900\n",
      "Validation score: 0.866667\n",
      "Iteration 33, loss = 0.20641932\n",
      "Validation score: 0.873333\n",
      "Iteration 34, loss = 0.19989742\n",
      "Validation score: 0.873333\n",
      "Iteration 35, loss = 0.19357337\n",
      "Validation score: 0.873333\n",
      "Iteration 36, loss = 0.18761493\n",
      "Validation score: 0.873333\n",
      "Iteration 37, loss = 0.18185188\n",
      "Validation score: 0.873333\n",
      "Iteration 38, loss = 0.17628099\n",
      "Validation score: 0.873333\n",
      "Iteration 39, loss = 0.17079142\n",
      "Validation score: 0.866667\n",
      "Validation score did not improve more than tol=0.000100 for 10 consecutive epochs. Stopping.\n",
      "Best Training Loss: 0.8733\n",
      "Validation Score on Test Data: 0.8040\n"
     ]
    }
   ],
   "source": [
    "from sklearn.datasets import make_classification\n",
    "\n",
    "# data\n",
    "ex = make_classification(n_samples=1_000, n_features=50, n_classes=2)\n",
    "\n",
    "ex_data_train, ex_data_test, ex_label_train, ex_label_test = train_test_split(\n",
    "    *ex, random_state=42)\n",
    "\n",
    "# MLP\n",
    "mlp_clf_ex = MLPClassifier(verbose=1, validation_fraction=0.2, early_stopping=True)\n",
    "\n",
    "pipeline = make_pipeline(StandardScaler(), mlp_clf_ex)\n",
    "pipeline.fit(ex_data_train, ex_label_train)\n",
    "\n",
    "print(\"Best Training Loss: %.4f\"%mlp_clf_ex.best_validation_score_)\n",
    "\n",
    "# validation\n",
    "print(\"Validation Score on Test Data: %.4f\"%pipeline.score(ex_data_test, ex_label_test))\n",
    "\n"
   ]
  },
  {
   "cell_type": "markdown",
   "id": "d6869bf3-53dd-40b0-9abc-0d8f4b5f9da9",
   "metadata": {},
   "source": [
    "# Implementing MLPs with Keras\n",
    "## Building an Image Classifier Using the Sequential API\n",
    "### Using Keras to load the dataset"
   ]
  },
  {
   "cell_type": "markdown",
   "id": "2718a557-b168-4043-a333-e045af7b949f",
   "metadata": {},
   "source": [
    "Let's start by loading the fashion MNIST dataset. Keras has a number of functions to load popular datasets in `tf.keras.datasets`. The dataset is already split for you between a training set (60,000 images) and a test set (10,000 images), but it can be useful to split the training set further to have a validation set. We'll use 55,000 images for training, and 5,000 for validation."
   ]
  },
  {
   "cell_type": "code",
   "execution_count": 10,
   "id": "73833884-0988-4a58-856f-0bd78169c8b6",
   "metadata": {
    "tags": []
   },
   "outputs": [],
   "source": [
    "import tensorflow as tf\n",
    "\n",
    "fashion_mnist = tf.keras.datasets.fashion_mnist.load_data()\n",
    "(X_train_full, y_train_full), (X_test, y_test) = fashion_mnist\n",
    "X_train, y_train = X_train_full[:-5000], y_train_full[:-5000]\n",
    "X_valid, y_valid = X_train_full[-5000:], y_train_full[-5000:]"
   ]
  },
  {
   "cell_type": "markdown",
   "id": "0d991b4a-051e-4294-9686-4f9e10e19c7f",
   "metadata": {},
   "source": [
    "The training set contains 60,000 grayscale images, each 28x28 pixels:"
   ]
  },
  {
   "cell_type": "code",
   "execution_count": 11,
   "id": "161e3c44-1eed-41bb-9f1c-214df8585a84",
   "metadata": {
    "tags": []
   },
   "outputs": [
    {
     "data": {
      "text/plain": [
       "(55000, 28, 28)"
      ]
     },
     "execution_count": 11,
     "metadata": {},
     "output_type": "execute_result"
    }
   ],
   "source": [
    "X_train.shape"
   ]
  },
  {
   "cell_type": "markdown",
   "id": "8d484395-8d2a-4685-8932-d57ba8cd9a55",
   "metadata": {},
   "source": [
    "Each pixel intensity is represented as a byte (0 to 255):"
   ]
  },
  {
   "cell_type": "code",
   "execution_count": 12,
   "id": "569c8e4a-a423-4b53-9aea-0a126047121e",
   "metadata": {
    "tags": []
   },
   "outputs": [
    {
     "data": {
      "text/plain": [
       "dtype('uint8')"
      ]
     },
     "execution_count": 12,
     "metadata": {},
     "output_type": "execute_result"
    }
   ],
   "source": [
    "X_train.dtype"
   ]
  },
  {
   "cell_type": "markdown",
   "id": "5ada7b41-479a-4659-b794-3f420f76dd69",
   "metadata": {},
   "source": [
    "Let's scale the pixel intensities down to the 0-1 range and convert them to floats, by dividing by 255:"
   ]
  },
  {
   "cell_type": "code",
   "execution_count": 13,
   "id": "6a21a481-4b33-41b9-9321-2f7fc9050226",
   "metadata": {
    "tags": []
   },
   "outputs": [],
   "source": [
    "X_train, X_valid, X_test = X_train / 255., X_valid / 255., X_test / 255."
   ]
  },
  {
   "cell_type": "markdown",
   "id": "996b58e4-4255-4c38-99d5-f238db5a2756",
   "metadata": {},
   "source": [
    "You can plot an image using Matplotlib's `imshow()` function, with a `'binary'`\n",
    " color map:"
   ]
  },
  {
   "cell_type": "code",
   "execution_count": 14,
   "id": "a9d17395-10fc-4808-9443-98289384b10e",
   "metadata": {},
   "outputs": [
    {
     "data": {
      "image/png": "[encoded data removed]",
      "text/plain": [
       "<Figure size 640x480 with 1 Axes>"
      ]
     },
     "metadata": {},
     "output_type": "display_data"
    }
   ],
   "source": [
    "plt.imshow(X_train[0], cmap=\"binary\")\n",
    "plt.axis('off')\n",
    "plt.show()"
   ]
  },
  {
   "cell_type": "markdown",
   "id": "fcbec231-bf29-400f-b5a4-4932354196d2",
   "metadata": {},
   "source": [
    "The labels are the class IDs (represented as uint8), from 0 to 9:"
   ]
  },
  {
   "cell_type": "code",
   "execution_count": 15,
   "id": "f778059f-b4a9-43e2-8321-78bb776b1494",
   "metadata": {
    "tags": []
   },
   "outputs": [
    {
     "data": {
      "text/plain": [
       "array([9, 0, 0, ..., 9, 0, 2], dtype=uint8)"
      ]
     },
     "execution_count": 15,
     "metadata": {},
     "output_type": "execute_result"
    }
   ],
   "source": [
    "y_train"
   ]
  },
  {
   "cell_type": "markdown",
   "id": "c6f73a41-bca5-45b8-9d04-354a7520044a",
   "metadata": {},
   "source": [
    "Here are the corresponding class names:"
   ]
  },
  {
   "cell_type": "code",
   "execution_count": 16,
   "id": "3599738c-2da6-41af-b8f7-e4de38f461bb",
   "metadata": {
    "tags": []
   },
   "outputs": [],
   "source": [
    "class_names = [\"T-shirt/top\", \"Trouser\", \"Pullover\", \"Dress\", \"Coat\",\n",
    "               \"Sandal\", \"Shirt\", \"Sneaker\", \"Bag\", \"Ankle boot\"]"
   ]
  },
  {
   "cell_type": "markdown",
   "id": "ae646b82-850e-41bf-9b45-9c964f96c35c",
   "metadata": {},
   "source": [
    "So the first image in the training set is an ankle boot:"
   ]
  },
  {
   "cell_type": "code",
   "execution_count": 17,
   "id": "99063656-cf4c-4a7b-9a85-2a886fc72756",
   "metadata": {
    "tags": []
   },
   "outputs": [
    {
     "data": {
      "text/plain": [
       "'Ankle boot'"
      ]
     },
     "execution_count": 17,
     "metadata": {},
     "output_type": "execute_result"
    }
   ],
   "source": [
    "class_names[y_train[0]]"
   ]
  },
  {
   "cell_type": "markdown",
   "id": "47be9ae2-4ecb-47e8-8348-8f9053af02c2",
   "metadata": {},
   "source": [
    "Let's take a look at a sample of the images in the dataset:"
   ]
  },
  {
   "cell_type": "code",
   "execution_count": 18,
   "id": "462dbc39-9a3f-4334-9c3b-c543f55809d6",
   "metadata": {
    "tags": []
   },
   "outputs": [
    {
     "data": {
      "image/png": "[encoded data removed]",
      "text/plain": [
       "<Figure size 1200x480 with 40 Axes>"
      ]
     },
     "metadata": {},
     "output_type": "display_data"
    }
   ],
   "source": [
    "n_rows = 4\n",
    "n_cols = 10\n",
    "plt.figure(figsize=(n_cols * 1.2, n_rows * 1.2))\n",
    "for row in range(n_rows):\n",
    "    for col in range(n_cols):\n",
    "        index = n_cols * row + col\n",
    "        plt.subplot(n_rows, n_cols, index + 1)\n",
    "        plt.imshow(X_train[index], cmap=\"binary\", interpolation=\"nearest\")\n",
    "        plt.axis('off')\n",
    "        plt.title(class_names[y_train[index]])\n",
    "plt.subplots_adjust(wspace=0.2, hspace=0.5)\n",
    "\n",
    "plt.show()"
   ]
  },
  {
   "cell_type": "markdown",
   "id": "d94c31b0-5f21-47c0-98f6-ae318c9b1ee5",
   "metadata": {},
   "source": [
    "### Creating the model using the Sequential API"
   ]
  },
  {
   "cell_type": "code",
   "execution_count": 19,
   "id": "5e355577-1507-4bc8-bdee-687e0a3c86a1",
   "metadata": {
    "slideshow": {
     "slide_type": "slide"
    },
    "tags": []
   },
   "outputs": [
    {
     "name": "stderr",
     "output_type": "stream",
     "text": [
      "2024-06-12 17:10:37.570201: E external/local_xla/xla/stream_executor/cuda/cuda_driver.cc:274] failed call to cuInit: CUDA_ERROR_SYSTEM_DRIVER_MISMATCH: system has unsupported display driver / cuda driver combination\n",
      "2024-06-12 17:10:37.570228: I external/local_xla/xla/stream_executor/cuda/cuda_diagnostics.cc:129] retrieving CUDA diagnostic information for host: tuxedo-laptop\n",
      "2024-06-12 17:10:37.570236: I external/local_xla/xla/stream_executor/cuda/cuda_diagnostics.cc:136] hostname: tuxedo-laptop\n",
      "2024-06-12 17:10:37.570345: I external/local_xla/xla/stream_executor/cuda/cuda_diagnostics.cc:159] libcuda reported version is: 550.67.0\n",
      "2024-06-12 17:10:37.570366: I external/local_xla/xla/stream_executor/cuda/cuda_diagnostics.cc:163] kernel reported version is: 550.54.15\n",
      "2024-06-12 17:10:37.570372: E external/local_xla/xla/stream_executor/cuda/cuda_diagnostics.cc:244] kernel version 550.54.15 does not match DSO version 550.67.0 -- cannot find working devices in this configuration\n"
     ]
    }
   ],
   "source": [
    "tf.random.set_seed(42)\n",
    "model = tf.keras.Sequential()\n",
    "model.add(tf.keras.layers.InputLayer(input_shape=[28, 28]))\n",
    "model.add(tf.keras.layers.Flatten())\n",
    "model.add(tf.keras.layers.Dense(300, activation=\"relu\"))\n",
    "model.add(tf.keras.layers.Dense(100, activation=\"relu\"))\n",
    "model.add(tf.keras.layers.Dense(10, activation=\"softmax\"))"
   ]
  },
  {
   "cell_type": "code",
   "execution_count": 20,
   "id": "b1f4aa58-455b-4b63-8c6e-98fa40d5e1a5",
   "metadata": {
    "slideshow": {
     "slide_type": "fragment"
    },
    "tags": []
   },
   "outputs": [],
   "source": [
    "# clear the session to reset the name counters\n",
    "tf.keras.backend.clear_session()\n",
    "tf.random.set_seed(42)\n",
    "\n",
    "model = tf.keras.Sequential([\n",
    "    tf.keras.layers.Flatten(input_shape=[28, 28]),\n",
    "    tf.keras.layers.Dense(300, activation=\"relu\"),\n",
    "    tf.keras.layers.Dense(100, activation=\"relu\"),\n",
    "    tf.keras.layers.Dense(10, activation=\"softmax\")\n",
    "])"
   ]
  },
  {
   "cell_type": "markdown",
   "id": "91eeece4-21e2-4fae-84d7-5f2eb97ece20",
   "metadata": {
    "slideshow": {
     "slide_type": "subslide"
    },
    "tags": []
   },
   "source": [
    "#### Question?\n",
    "\n",
    "- What did we do here?"
   ]
  },
  {
   "cell_type": "code",
   "execution_count": 21,
   "id": "693a5176-f310-44b5-9b6c-9ccac7ae640f",
   "metadata": {
    "slideshow": {
     "slide_type": "subslide"
    },
    "tags": []
   },
   "outputs": [
    {
     "name": "stdout",
     "output_type": "stream",
     "text": [
      "Model: \"sequential\"\n",
      "_________________________________________________________________\n",
      " Layer (type)                Output Shape              Param #   \n",
      "=================================================================\n",
      " flatten (Flatten)           (None, 784)               0         \n",
      "                                                                 \n",
      " dense (Dense)               (None, 300)               235500    \n",
      "                                                                 \n",
      " dense_1 (Dense)             (None, 100)               30100     \n",
      "                                                                 \n",
      " dense_2 (Dense)             (None, 10)                1010      \n",
      "                                                                 \n",
      "=================================================================\n",
      "Total params: 266610 (1.02 MB)\n",
      "Trainable params: 266610 (1.02 MB)\n",
      "Non-trainable params: 0 (0.00 Byte)\n",
      "_________________________________________________________________\n"
     ]
    }
   ],
   "source": [
    "model.summary()"
   ]
  },
  {
   "cell_type": "code",
   "execution_count": 22,
   "id": "fdf68b7d-68b6-4d2b-a0e4-3c247456fd79",
   "metadata": {
    "tags": []
   },
   "outputs": [
    {
     "name": "stdout",
     "output_type": "stream",
     "text": [
      "Requirement already satisfied: pydot in /home/vgoehler/Applications/anaconda3/lib/python3.11/site-packages (2.0.0)\n",
      "Requirement already satisfied: pyparsing>=3 in /home/vgoehler/Applications/anaconda3/lib/python3.11/site-packages (from pydot) (3.0.9)\n"
     ]
    },
    {
     "data": {
      "image/png": "[encoded data removed]",
      "text/plain": [
       "<IPython.core.display.Image object>"
      ]
     },
     "execution_count": 22,
     "metadata": {},
     "output_type": "execute_result"
    }
   ],
   "source": [
    "# another way to display the model's architecture\n",
    "# we need pydot\n",
    "! pip install pydot\n",
    "# and we need graphviz installed (look into the decision tree chapter)\n",
    "tf.keras.utils.plot_model(model, \"my_fashion_mnist_model.png\", show_shapes=True)"
   ]
  },
  {
   "cell_type": "markdown",
   "id": "8ef32fa3-e807-46ea-a87c-c965b68fce8d",
   "metadata": {},
   "source": [
    "![](my_fashion_mnist_model.png)"
   ]
  },
  {
   "cell_type": "code",
   "execution_count": 23,
   "id": "b3a82dea-97f1-401f-b14c-77bc122d2973",
   "metadata": {
    "tags": []
   },
   "outputs": [
    {
     "data": {
      "text/plain": [
       "[<keras.src.layers.reshaping.flatten.Flatten at 0x712221f4b910>,\n",
       " <keras.src.layers.core.dense.Dense at 0x712221f28790>,\n",
       " <keras.src.layers.core.dense.Dense at 0x71225fdbe2d0>,\n",
       " <keras.src.layers.core.dense.Dense at 0x712221f9f550>]"
      ]
     },
     "execution_count": 23,
     "metadata": {},
     "output_type": "execute_result"
    }
   ],
   "source": [
    "model.layers"
   ]
  },
  {
   "cell_type": "code",
   "execution_count": 24,
   "id": "02f78bf3-e1cb-46bf-aa8b-ab5242a2d322",
   "metadata": {
    "tags": []
   },
   "outputs": [
    {
     "data": {
      "text/plain": [
       "'dense'"
      ]
     },
     "execution_count": 24,
     "metadata": {},
     "output_type": "execute_result"
    }
   ],
   "source": [
    "hidden1 = model.layers[1]\n",
    "hidden1.name"
   ]
  },
  {
   "cell_type": "code",
   "execution_count": 25,
   "id": "15bcc741-2cf7-4423-84dc-e1c4626e0f39",
   "metadata": {
    "tags": []
   },
   "outputs": [
    {
     "data": {
      "text/plain": [
       "True"
      ]
     },
     "execution_count": 25,
     "metadata": {},
     "output_type": "execute_result"
    }
   ],
   "source": [
    "model.get_layer('dense') is hidden1"
   ]
  },
  {
   "cell_type": "code",
   "execution_count": 26,
   "id": "6625ccc5-66dc-48c1-91cf-becb52481773",
   "metadata": {
    "tags": []
   },
   "outputs": [
    {
     "data": {
      "text/plain": [
       "array([[ 0.00185515,  0.02926985,  0.05868065, ..., -0.0088063 ,\n",
       "         0.0713679 ,  0.00937348],\n",
       "       [-0.03892955, -0.02936913, -0.06527564, ..., -0.03098721,\n",
       "        -0.0417081 , -0.06601815],\n",
       "       [ 0.01505365,  0.05901888, -0.03067641, ...,  0.04821589,\n",
       "        -0.0603771 ,  0.04059841],\n",
       "       ...,\n",
       "       [ 0.07078631, -0.0224257 , -0.05102938, ..., -0.05861277,\n",
       "        -0.02067256,  0.01196858],\n",
       "       [ 0.00615583,  0.04649929, -0.05656538, ...,  0.06965433,\n",
       "        -0.04562974,  0.0362285 ],\n",
       "       [-0.06229173,  0.00446733,  0.04560686, ...,  0.00317926,\n",
       "        -0.07271869, -0.02465285]], dtype=float32)"
      ]
     },
     "execution_count": 26,
     "metadata": {},
     "output_type": "execute_result"
    }
   ],
   "source": [
    "weights, biases = hidden1.get_weights()\n",
    "weights"
   ]
  },
  {
   "cell_type": "code",
   "execution_count": 27,
   "id": "4dc33d0d-4597-4b34-bf21-f66fa3b3e907",
   "metadata": {
    "tags": []
   },
   "outputs": [
    {
     "name": "stdout",
     "output_type": "stream",
     "text": [
      "Model: \"sequential\"\n",
      "_________________________________________________________________\n",
      " Layer (type)                Output Shape              Param #   \n",
      "=================================================================\n",
      " flatten (Flatten)           (None, 784)               0         \n",
      "                                                                 \n",
      " dense (Dense)               (None, 300)               235500    \n",
      "                                                                 \n",
      " dense_1 (Dense)             (None, 100)               30100     \n",
      "                                                                 \n",
      " dense_2 (Dense)             (None, 10)                1010      \n",
      "                                                                 \n",
      "=================================================================\n",
      "Total params: 266610 (1.02 MB)\n",
      "Trainable params: 266610 (1.02 MB)\n",
      "Non-trainable params: 0 (0.00 Byte)\n",
      "_________________________________________________________________\n"
     ]
    }
   ],
   "source": [
    "model.summary()"
   ]
  },
  {
   "cell_type": "markdown",
   "id": "d6cb394e-18e8-4c16-9ace-2739c30a5727",
   "metadata": {},
   "source": [
    "#### Question?\n",
    "\n",
    "- how many weights do we have?\n",
    "- why do we have as many weights as we have?\n"
   ]
  },
  {
   "cell_type": "code",
   "execution_count": 28,
   "id": "ebe5eec7-8a42-4d5a-916f-0a63d94f2ccf",
   "metadata": {
    "tags": []
   },
   "outputs": [
    {
     "data": {
      "text/plain": [
       "(784, 300)"
      ]
     },
     "execution_count": 28,
     "metadata": {},
     "output_type": "execute_result"
    }
   ],
   "source": [
    "weights.shape"
   ]
  },
  {
   "cell_type": "code",
   "execution_count": 29,
   "id": "9ccf8f8b-a428-411a-86c7-62386c44dc69",
   "metadata": {},
   "outputs": [
    {
     "data": {
      "text/plain": [
       "array([0., 0., 0., 0., 0., 0., 0., 0., 0., 0., 0., 0., 0., 0., 0., 0., 0.,\n",
       "       0., 0., 0., 0., 0., 0., 0., 0., 0., 0., 0., 0., 0., 0., 0., 0., 0.,\n",
       "       0., 0., 0., 0., 0., 0., 0., 0., 0., 0., 0., 0., 0., 0., 0., 0., 0.,\n",
       "       0., 0., 0., 0., 0., 0., 0., 0., 0., 0., 0., 0., 0., 0., 0., 0., 0.,\n",
       "       0., 0., 0., 0., 0., 0., 0., 0., 0., 0., 0., 0., 0., 0., 0., 0., 0.,\n",
       "       0., 0., 0., 0., 0., 0., 0., 0., 0., 0., 0., 0., 0., 0., 0., 0., 0.,\n",
       "       0., 0., 0., 0., 0., 0., 0., 0., 0., 0., 0., 0., 0., 0., 0., 0., 0.,\n",
       "       0., 0., 0., 0., 0., 0., 0., 0., 0., 0., 0., 0., 0., 0., 0., 0., 0.,\n",
       "       0., 0., 0., 0., 0., 0., 0., 0., 0., 0., 0., 0., 0., 0., 0., 0., 0.,\n",
       "       0., 0., 0., 0., 0., 0., 0., 0., 0., 0., 0., 0., 0., 0., 0., 0., 0.,\n",
       "       0., 0., 0., 0., 0., 0., 0., 0., 0., 0., 0., 0., 0., 0., 0., 0., 0.,\n",
       "       0., 0., 0., 0., 0., 0., 0., 0., 0., 0., 0., 0., 0., 0., 0., 0., 0.,\n",
       "       0., 0., 0., 0., 0., 0., 0., 0., 0., 0., 0., 0., 0., 0., 0., 0., 0.,\n",
       "       0., 0., 0., 0., 0., 0., 0., 0., 0., 0., 0., 0., 0., 0., 0., 0., 0.,\n",
       "       0., 0., 0., 0., 0., 0., 0., 0., 0., 0., 0., 0., 0., 0., 0., 0., 0.,\n",
       "       0., 0., 0., 0., 0., 0., 0., 0., 0., 0., 0., 0., 0., 0., 0., 0., 0.,\n",
       "       0., 0., 0., 0., 0., 0., 0., 0., 0., 0., 0., 0., 0., 0., 0., 0., 0.,\n",
       "       0., 0., 0., 0., 0., 0., 0., 0., 0., 0., 0.], dtype=float32)"
      ]
     },
     "execution_count": 29,
     "metadata": {},
     "output_type": "execute_result"
    }
   ],
   "source": [
    "biases"
   ]
  },
  {
   "cell_type": "code",
   "execution_count": 30,
   "id": "78f5aab2-5598-43ad-9249-837b33a00313",
   "metadata": {},
   "outputs": [
    {
     "data": {
      "text/plain": [
       "(300,)"
      ]
     },
     "execution_count": 30,
     "metadata": {},
     "output_type": "execute_result"
    }
   ],
   "source": [
    "biases.shape"
   ]
  },
  {
   "cell_type": "markdown",
   "id": "4567f1d8-52bc-4b22-a722-310895401937",
   "metadata": {},
   "source": [
    "### Compiling the model"
   ]
  },
  {
   "cell_type": "code",
   "execution_count": 31,
   "id": "52cb9796-c5a7-4d8a-b329-7ea1b4e707fd",
   "metadata": {
    "tags": []
   },
   "outputs": [],
   "source": [
    "model.compile(loss=\"sparse_categorical_crossentropy\",\n",
    "              optimizer=\"sgd\",\n",
    "              metrics=[\"accuracy\"])"
   ]
  },
  {
   "cell_type": "markdown",
   "id": "b596e3e0-e4b5-4caf-aa2a-f125bf191918",
   "metadata": {},
   "source": [
    "This is equivalent to:"
   ]
  },
  {
   "cell_type": "code",
   "execution_count": 32,
   "id": "d7ca31a9-46b2-4cef-a47d-840bdebae1e2",
   "metadata": {
    "tags": []
   },
   "outputs": [],
   "source": [
    "# this cell is equivalent to the previous cell\n",
    "model.compile(loss=tf.keras.losses.sparse_categorical_crossentropy,\n",
    "              optimizer=tf.keras.optimizers.SGD(),\n",
    "              metrics=[tf.keras.metrics.sparse_categorical_accuracy])"
   ]
  },
  {
   "cell_type": "markdown",
   "id": "c2d7f6f4-471d-4899-afcb-e47b483888d1",
   "metadata": {},
   "source": [
    "### Training\n",
    "\n",
    "#### One Hot"
   ]
  },
  {
   "cell_type": "code",
   "execution_count": 33,
   "id": "86033d6c-f614-4ccd-8d6b-37e878f4ff59",
   "metadata": {
    "tags": []
   },
   "outputs": [
    {
     "data": {
      "text/plain": [
       "array([[1., 0., 0., 0., 0., 0., 0., 0., 0., 0.],\n",
       "       [0., 0., 0., 0., 0., 1., 0., 0., 0., 0.],\n",
       "       [0., 1., 0., 0., 0., 0., 0., 0., 0., 0.],\n",
       "       [1., 0., 0., 0., 0., 0., 0., 0., 0., 0.]], dtype=float32)"
      ]
     },
     "execution_count": 33,
     "metadata": {},
     "output_type": "execute_result"
    }
   ],
   "source": [
    "#  shows how to convert class ids to one-hot vectors\n",
    "tf.keras.utils.to_categorical([0, 5, 1, 0], num_classes=10)"
   ]
  },
  {
   "cell_type": "markdown",
   "id": "36824108-504d-4a5f-9291-5d6a4ef73972",
   "metadata": {},
   "source": [
    "Note: it's important to set `num_classes` when the number of classes is greater than the maximum class id in the sample."
   ]
  },
  {
   "cell_type": "code",
   "execution_count": 34,
   "id": "b5a551b2-ffab-4a34-a561-c632fdd171a7",
   "metadata": {},
   "outputs": [
    {
     "data": {
      "text/plain": [
       "array([0, 5, 1, 0])"
      ]
     },
     "execution_count": 34,
     "metadata": {},
     "output_type": "execute_result"
    }
   ],
   "source": [
    "# shows how to convert one-hot vectors to class ids\n",
    "np.argmax(\n",
    "    [[1., 0., 0., 0., 0., 0., 0., 0., 0., 0.],\n",
    "     [0., 0., 0., 0., 0., 1., 0., 0., 0., 0.],\n",
    "     [0., 1., 0., 0., 0., 0., 0., 0., 0., 0.],\n",
    "     [1., 0., 0., 0., 0., 0., 0., 0., 0., 0.]],\n",
    "    axis=1\n",
    ")"
   ]
  },
  {
   "cell_type": "markdown",
   "id": "e536da42-9d0c-4c23-b44e-2bda3faf4e56",
   "metadata": {},
   "source": [
    "### Training and evaluating the model"
   ]
  },
  {
   "cell_type": "code",
   "execution_count": 35,
   "id": "1d36e453-8744-4bcb-bbf1-91eb834d8947",
   "metadata": {
    "scrolled": true,
    "tags": []
   },
   "outputs": [
    {
     "name": "stdout",
     "output_type": "stream",
     "text": [
      "Epoch 1/30\n",
      "1719/1719 [==============================] - 3s 2ms/step - loss: 0.7195 - sparse_categorical_accuracy: 0.7648 - val_loss: 0.5002 - val_sparse_categorical_accuracy: 0.8310\n",
      "Epoch 2/30\n",
      "1719/1719 [==============================] - 2s 1ms/step - loss: 0.4851 - sparse_categorical_accuracy: 0.8308 - val_loss: 0.4661 - val_sparse_categorical_accuracy: 0.8316\n",
      "Epoch 3/30\n",
      "1719/1719 [==============================] - 2s 1ms/step - loss: 0.4381 - sparse_categorical_accuracy: 0.8454 - val_loss: 0.4216 - val_sparse_categorical_accuracy: 0.8548\n",
      "Epoch 4/30\n",
      "1719/1719 [==============================] - 3s 2ms/step - loss: 0.4118 - sparse_categorical_accuracy: 0.8560 - val_loss: 0.3919 - val_sparse_categorical_accuracy: 0.8612\n",
      "Epoch 5/30\n",
      "1719/1719 [==============================] - 2s 1ms/step - loss: 0.3906 - sparse_categorical_accuracy: 0.8626 - val_loss: 0.3896 - val_sparse_categorical_accuracy: 0.8624\n",
      "Epoch 6/30\n",
      "1719/1719 [==============================] - 2s 1ms/step - loss: 0.3737 - sparse_categorical_accuracy: 0.8671 - val_loss: 0.3967 - val_sparse_categorical_accuracy: 0.8614\n",
      "Epoch 7/30\n",
      "1719/1719 [==============================] - 3s 2ms/step - loss: 0.3614 - sparse_categorical_accuracy: 0.8709 - val_loss: 0.3679 - val_sparse_categorical_accuracy: 0.8680\n",
      "Epoch 8/30\n",
      "1719/1719 [==============================] - 2s 1ms/step - loss: 0.3501 - sparse_categorical_accuracy: 0.8767 - val_loss: 0.3715 - val_sparse_categorical_accuracy: 0.8618\n",
      "Epoch 9/30\n",
      "1719/1719 [==============================] - 2s 1ms/step - loss: 0.3397 - sparse_categorical_accuracy: 0.8797 - val_loss: 0.3480 - val_sparse_categorical_accuracy: 0.8730\n",
      "Epoch 10/30\n",
      "1719/1719 [==============================] - 3s 2ms/step - loss: 0.3302 - sparse_categorical_accuracy: 0.8819 - val_loss: 0.3492 - val_sparse_categorical_accuracy: 0.8746\n",
      "Epoch 11/30\n",
      "1719/1719 [==============================] - 2s 1ms/step - loss: 0.3217 - sparse_categorical_accuracy: 0.8852 - val_loss: 0.3737 - val_sparse_categorical_accuracy: 0.8606\n",
      "Epoch 12/30\n",
      "1719/1719 [==============================] - 2s 1ms/step - loss: 0.3141 - sparse_categorical_accuracy: 0.8879 - val_loss: 0.3459 - val_sparse_categorical_accuracy: 0.8706\n",
      "Epoch 13/30\n",
      "1719/1719 [==============================] - 3s 2ms/step - loss: 0.3074 - sparse_categorical_accuracy: 0.8907 - val_loss: 0.3289 - val_sparse_categorical_accuracy: 0.8778\n",
      "Epoch 14/30\n",
      "1719/1719 [==============================] - 2s 1ms/step - loss: 0.3003 - sparse_categorical_accuracy: 0.8922 - val_loss: 0.3404 - val_sparse_categorical_accuracy: 0.8758\n",
      "Epoch 15/30\n",
      "1719/1719 [==============================] - 2s 1ms/step - loss: 0.2943 - sparse_categorical_accuracy: 0.8955 - val_loss: 0.3368 - val_sparse_categorical_accuracy: 0.8810\n",
      "Epoch 16/30\n",
      "1719/1719 [==============================] - 3s 2ms/step - loss: 0.2873 - sparse_categorical_accuracy: 0.8963 - val_loss: 0.3354 - val_sparse_categorical_accuracy: 0.8728\n",
      "Epoch 17/30\n",
      "1719/1719 [==============================] - 2s 1ms/step - loss: 0.2826 - sparse_categorical_accuracy: 0.8984 - val_loss: 0.3425 - val_sparse_categorical_accuracy: 0.8742\n",
      "Epoch 18/30\n",
      "1719/1719 [==============================] - 2s 1ms/step - loss: 0.2768 - sparse_categorical_accuracy: 0.9008 - val_loss: 0.3309 - val_sparse_categorical_accuracy: 0.8790\n",
      "Epoch 19/30\n",
      "1719/1719 [==============================] - 3s 2ms/step - loss: 0.2718 - sparse_categorical_accuracy: 0.9026 - val_loss: 0.3531 - val_sparse_categorical_accuracy: 0.8672\n",
      "Epoch 20/30\n",
      "1719/1719 [==============================] - 2s 1ms/step - loss: 0.2670 - sparse_categorical_accuracy: 0.9041 - val_loss: 0.3210 - val_sparse_categorical_accuracy: 0.8812\n",
      "Epoch 21/30\n",
      "1719/1719 [==============================] - 2s 1ms/step - loss: 0.2619 - sparse_categorical_accuracy: 0.9064 - val_loss: 0.3189 - val_sparse_categorical_accuracy: 0.8812\n",
      "Epoch 22/30\n",
      "1719/1719 [==============================] - 3s 2ms/step - loss: 0.2570 - sparse_categorical_accuracy: 0.9073 - val_loss: 0.3166 - val_sparse_categorical_accuracy: 0.8838\n",
      "Epoch 23/30\n",
      "1719/1719 [==============================] - 2s 1ms/step - loss: 0.2527 - sparse_categorical_accuracy: 0.9092 - val_loss: 0.3396 - val_sparse_categorical_accuracy: 0.8744\n",
      "Epoch 24/30\n",
      "1719/1719 [==============================] - 2s 1ms/step - loss: 0.2476 - sparse_categorical_accuracy: 0.9110 - val_loss: 0.3270 - val_sparse_categorical_accuracy: 0.8816\n",
      "Epoch 25/30\n",
      "1719/1719 [==============================] - 3s 2ms/step - loss: 0.2436 - sparse_categorical_accuracy: 0.9127 - val_loss: 0.3183 - val_sparse_categorical_accuracy: 0.8808\n",
      "Epoch 26/30\n",
      "1719/1719 [==============================] - 2s 1ms/step - loss: 0.2394 - sparse_categorical_accuracy: 0.9148 - val_loss: 0.3166 - val_sparse_categorical_accuracy: 0.8814\n",
      "Epoch 27/30\n",
      "1719/1719 [==============================] - 2s 1ms/step - loss: 0.2351 - sparse_categorical_accuracy: 0.9159 - val_loss: 0.3255 - val_sparse_categorical_accuracy: 0.8818\n",
      "Epoch 28/30\n",
      "1719/1719 [==============================] - 3s 2ms/step - loss: 0.2320 - sparse_categorical_accuracy: 0.9171 - val_loss: 0.3115 - val_sparse_categorical_accuracy: 0.8878\n",
      "Epoch 29/30\n",
      "1719/1719 [==============================] - 2s 1ms/step - loss: 0.2276 - sparse_categorical_accuracy: 0.9171 - val_loss: 0.3141 - val_sparse_categorical_accuracy: 0.8838\n",
      "Epoch 30/30\n",
      "1719/1719 [==============================] - 2s 1ms/step - loss: 0.2241 - sparse_categorical_accuracy: 0.9203 - val_loss: 0.3114 - val_sparse_categorical_accuracy: 0.8848\n"
     ]
    }
   ],
   "source": [
    "history = model.fit(X_train, y_train, epochs=30,\n",
    "                    validation_data=(X_valid, y_valid))"
   ]
  },
  {
   "cell_type": "code",
   "execution_count": 36,
   "id": "bedcdc60-3fb5-4a9d-8d38-57538cab1d47",
   "metadata": {},
   "outputs": [
    {
     "data": {
      "text/plain": [
       "{'verbose': 1, 'epochs': 30, 'steps': 1719}"
      ]
     },
     "execution_count": 36,
     "metadata": {},
     "output_type": "execute_result"
    }
   ],
   "source": [
    "history.params"
   ]
  },
  {
   "cell_type": "code",
   "execution_count": 43,
   "id": "cd99cbb7-aede-431c-9a42-c77251b97197",
   "metadata": {},
   "outputs": [
    {
     "data": {
      "text/plain": [
       "55000"
      ]
     },
     "execution_count": 43,
     "metadata": {},
     "output_type": "execute_result"
    }
   ],
   "source": [
    "len(X_train)"
   ]
  },
  {
   "cell_type": "markdown",
   "id": "3d816edb-42f3-4155-8138-0802a8d3c549",
   "metadata": {},
   "source": [
    "### Question\n",
    "\n",
    "- What does the Stuff in the Output mean?\n",
    "  "
   ]
  },
  {
   "cell_type": "code",
   "execution_count": 36,
   "id": "74fccf98-675b-4519-be31-944240e44571",
   "metadata": {
    "tags": []
   },
   "outputs": [
    {
     "data": {
      "image/png": "[encoded data removed]",
      "text/plain": [
       "<Figure size 800x500 with 1 Axes>"
      ]
     },
     "metadata": {},
     "output_type": "display_data"
    }
   ],
   "source": [
    "import matplotlib.pyplot as plt\n",
    "import pandas as pd\n",
    "\n",
    "pd.DataFrame(history.history).plot(\n",
    "    figsize=(8, 5), xlim=[0, 29], ylim=[0, 1], grid=True, xlabel=\"Epoch\",\n",
    "    style=[\"r--\", \"r--.\", \"b-\", \"b-*\"])\n",
    "plt.legend(loc=\"lower left\")\n",
    "\n",
    "plt.show()"
   ]
  },
  {
   "cell_type": "code",
   "execution_count": 37,
   "id": "de9b1760-9186-49a0-bf50-ed3ea2e242b8",
   "metadata": {
    "tags": []
   },
   "outputs": [
    {
     "name": "stdout",
     "output_type": "stream",
     "text": [
      "313/313 [==============================] - 0s 764us/step - loss: 0.3274 - sparse_categorical_accuracy: 0.8822\n"
     ]
    },
    {
     "data": {
      "text/plain": [
       "[0.32742518186569214, 0.8822000026702881]"
      ]
     },
     "execution_count": 37,
     "metadata": {},
     "output_type": "execute_result"
    }
   ],
   "source": [
    "model.evaluate(X_test, y_test)"
   ]
  },
  {
   "cell_type": "markdown",
   "id": "b7e0ac6a-0733-4a93-b7fb-84fe1e7b626d",
   "metadata": {},
   "source": [
    "### Using the model to make predictions"
   ]
  },
  {
   "cell_type": "code",
   "execution_count": 43,
   "id": "c016eb1e-3297-427b-a987-623a09e08ade",
   "metadata": {
    "tags": []
   },
   "outputs": [
    {
     "name": "stdout",
     "output_type": "stream",
     "text": [
      "1/1 [==============================] - 0s 13ms/step\n",
      "Classnames:  ['T-shirt/top', 'Trouser', 'Pullover', 'Dress', 'Coat', 'Sandal', 'Shirt', 'Sneaker', 'Bag', 'Ankle boot']\n"
     ]
    },
    {
     "data": {
      "text/plain": [
       "array([[0.  , 0.  , 0.  , 0.  , 0.  , 0.01, 0.  , 0.02, 0.  , 0.97],\n",
       "       [0.  , 0.  , 1.  , 0.  , 0.  , 0.  , 0.  , 0.  , 0.  , 0.  ],\n",
       "       [0.  , 1.  , 0.  , 0.  , 0.  , 0.  , 0.  , 0.  , 0.  , 0.  ]],\n",
       "      dtype=float32)"
      ]
     },
     "execution_count": 43,
     "metadata": {},
     "output_type": "execute_result"
    }
   ],
   "source": [
    "X_new = X_test[:3]\n",
    "y_proba = model.predict(X_new)\n",
    "\n",
    "y_proba.round(2)"
   ]
  },
  {
   "cell_type": "markdown",
   "id": "67dd77cc-04e1-432d-8e7f-35004176f2aa",
   "metadata": {},
   "source": [
    "### Question\n",
    "\n",
    "- What do we see here?"
   ]
  },
  {
   "cell_type": "code",
   "execution_count": 44,
   "id": "bccb2b3c-9b56-43ff-a579-c18db22090fc",
   "metadata": {},
   "outputs": [
    {
     "name": "stdout",
     "output_type": "stream",
     "text": [
      "Classnames:  ['T-shirt/top', 'Trouser', 'Pullover', 'Dress', 'Coat', 'Sandal', 'Shirt', 'Sneaker', 'Bag', 'Ankle boot']\n"
     ]
    }
   ],
   "source": [
    "print(\"Classnames: \", class_names)"
   ]
  },
  {
   "cell_type": "code",
   "execution_count": 45,
   "id": "c78aff28-7ce8-4fbe-8e3d-8a7e0dcb06cb",
   "metadata": {
    "tags": []
   },
   "outputs": [
    {
     "data": {
      "text/plain": [
       "array([9, 2, 1])"
      ]
     },
     "execution_count": 45,
     "metadata": {},
     "output_type": "execute_result"
    }
   ],
   "source": [
    "y_pred = y_proba.argmax(axis=-1)\n",
    "y_pred"
   ]
  },
  {
   "cell_type": "code",
   "execution_count": 46,
   "id": "e818baad-df64-45cd-9875-c10e7bc5a3c6",
   "metadata": {
    "tags": []
   },
   "outputs": [
    {
     "data": {
      "text/plain": [
       "array(['Ankle boot', 'Pullover', 'Trouser'], dtype='<U11')"
      ]
     },
     "execution_count": 46,
     "metadata": {},
     "output_type": "execute_result"
    }
   ],
   "source": [
    "np.array(class_names)[y_pred]"
   ]
  },
  {
   "cell_type": "code",
   "execution_count": 47,
   "id": "bd5f32c5-53c6-4170-9c0c-a6ef4649bc4a",
   "metadata": {
    "tags": []
   },
   "outputs": [
    {
     "data": {
      "text/plain": [
       "array([9, 2, 1], dtype=uint8)"
      ]
     },
     "execution_count": 47,
     "metadata": {},
     "output_type": "execute_result"
    }
   ],
   "source": [
    "y_new = y_test[:3]\n",
    "y_new"
   ]
  },
  {
   "cell_type": "code",
   "execution_count": 48,
   "id": "70c7b04c-c0b0-4325-b352-b4e7a204be62",
   "metadata": {
    "tags": []
   },
   "outputs": [
    {
     "data": {
      "image/png": "[encoded data removed]",
      "text/plain": [
       "<Figure size 720x240 with 3 Axes>"
      ]
     },
     "metadata": {},
     "output_type": "display_data"
    }
   ],
   "source": [
    "plt.figure(figsize=(7.2, 2.4))\n",
    "for index, image in enumerate(X_new):\n",
    "    plt.subplot(1, 3, index + 1)\n",
    "    plt.imshow(image, cmap=\"binary\", interpolation=\"nearest\")\n",
    "    plt.axis('off')\n",
    "    plt.title(class_names[y_test[index]])\n",
    "plt.subplots_adjust(wspace=0.2, hspace=0.5)\n",
    "plt.show()"
   ]
  },
  {
   "cell_type": "markdown",
   "id": "bb59d1f4-9611-4f01-8fd6-3c8c781a625b",
   "metadata": {},
   "source": [
    "## Building a Regression MLP Using the Sequential API"
   ]
  },
  {
   "cell_type": "markdown",
   "id": "ed73a414-5468-433b-8d89-31e0dd1a5054",
   "metadata": {},
   "source": [
    "Let's load, split and scale the California housing dataset (the original one, not the modified one as in chapter 2):"
   ]
  },
  {
   "cell_type": "code",
   "execution_count": 49,
   "id": "a9f8bda4-3511-4d1f-8787-dddf699906b4",
   "metadata": {
    "tags": []
   },
   "outputs": [],
   "source": [
    "# load and split the California housing dataset, like earlier\n",
    "housing = fetch_california_housing()\n",
    "X_train_full, X_test, y_train_full, y_test = train_test_split(\n",
    "    housing.data, housing.target, random_state=42)\n",
    "X_train, X_valid, y_train, y_valid = train_test_split(\n",
    "    X_train_full, y_train_full, random_state=42)"
   ]
  },
  {
   "cell_type": "markdown",
   "id": "bb5ed44e-3af9-4992-9889-612da0f4fed9",
   "metadata": {},
   "source": [
    "### Example\n",
    "\n",
    "- Try to finish the example below\n",
    "- you need to enter the dense layers in the model!"
   ]
  },
  {
   "cell_type": "code",
   "execution_count": 50,
   "id": "9ec857f7-f1a3-43d1-9c14-e4ce6df793e3",
   "metadata": {
    "tags": []
   },
   "outputs": [
    {
     "name": "stdout",
     "output_type": "stream",
     "text": [
      "Epoch 1/10\n",
      "363/363 [==============================] - 1s 1ms/step - loss: 6.1043 - root_mean_squared_error: 2.4707 - val_loss: 40.0266 - val_root_mean_squared_error: 6.3267\n",
      "Epoch 2/10\n",
      "363/363 [==============================] - 0s 811us/step - loss: 4.0549 - root_mean_squared_error: 2.0137 - val_loss: 36.0320 - val_root_mean_squared_error: 6.0027\n",
      "Epoch 3/10\n",
      "363/363 [==============================] - 0s 828us/step - loss: 2.8829 - root_mean_squared_error: 1.6979 - val_loss: 32.4279 - val_root_mean_squared_error: 5.6946\n",
      "Epoch 4/10\n",
      "363/363 [==============================] - 0s 834us/step - loss: 2.1427 - root_mean_squared_error: 1.4638 - val_loss: 29.0916 - val_root_mean_squared_error: 5.3937\n",
      "Epoch 5/10\n",
      "363/363 [==============================] - 0s 844us/step - loss: 1.6466 - root_mean_squared_error: 1.2832 - val_loss: 26.0395 - val_root_mean_squared_error: 5.1029\n",
      "Epoch 6/10\n",
      "363/363 [==============================] - 0s 826us/step - loss: 1.3146 - root_mean_squared_error: 1.1466 - val_loss: 23.5321 - val_root_mean_squared_error: 4.8510\n",
      "Epoch 7/10\n",
      "363/363 [==============================] - 0s 848us/step - loss: 1.1005 - root_mean_squared_error: 1.0490 - val_loss: 21.2462 - val_root_mean_squared_error: 4.6094\n",
      "Epoch 8/10\n",
      "363/363 [==============================] - 0s 913us/step - loss: 0.9648 - root_mean_squared_error: 0.9822 - val_loss: 18.9244 - val_root_mean_squared_error: 4.3502\n",
      "Epoch 9/10\n",
      "363/363 [==============================] - 0s 809us/step - loss: 0.8786 - root_mean_squared_error: 0.9374 - val_loss: 16.9223 - val_root_mean_squared_error: 4.1137\n",
      "Epoch 10/10\n",
      "363/363 [==============================] - 0s 828us/step - loss: 0.8232 - root_mean_squared_error: 0.9073 - val_loss: 15.1437 - val_root_mean_squared_error: 3.8915\n",
      "162/162 [==============================] - 0s 559us/step - loss: 0.7027 - root_mean_squared_error: 0.8383\n",
      "1/1 [==============================] - 0s 31ms/step\n"
     ]
    }
   ],
   "source": [
    "tf.random.set_seed(42)\n",
    "norm_layer = tf.keras.layers.Normalization(input_shape=X_train.shape[1:])\n",
    "model = tf.keras.Sequential([\n",
    "    norm_layer,\n",
    "    # enter Dense Layers here! try with three, with 50 nodes and relu\n",
    "    tf.keras.layers.Dense(1)\n",
    "])\n",
    "optimizer = tf.keras.optimizers.Adam(learning_rate=1e-3)\n",
    "model.compile(loss=\"mse\", optimizer=optimizer, metrics=[\"RootMeanSquaredError\"])\n",
    "norm_layer.adapt(X_train)\n",
    "history = model.fit(X_train, y_train, epochs=10,\n",
    "                    validation_data=(X_valid, y_valid))\n",
    "mse_test, rmse_test = model.evaluate(X_test, y_test)\n",
    "X_new = X_test[:3]\n",
    "y_pred = model.predict(X_new)"
   ]
  },
  {
   "cell_type": "code",
   "execution_count": 51,
   "id": "8b776a73-d7ee-4d30-aa0a-76fec2a7b619",
   "metadata": {
    "tags": []
   },
   "outputs": [
    {
     "data": {
      "image/png": "[encoded data removed]",
      "text/plain": [
       "<Figure size 800x500 with 1 Axes>"
      ]
     },
     "metadata": {},
     "output_type": "display_data"
    }
   ],
   "source": [
    "pd.DataFrame(history.history).plot(\n",
    "    figsize=(8, 5), xlim=[0, 29], ylim=[0, 1], grid=True, xlabel=\"Epoch\",\n",
    "    style=[\"r--\", \"r--.\", \"b-\", \"b-*\"])\n",
    "plt.legend(loc=\"lower left\")\n",
    "\n",
    "plt.show()"
   ]
  },
  {
   "cell_type": "code",
   "execution_count": 52,
   "id": "1fd679a4-5641-4985-a551-3d0f4449b8ac",
   "metadata": {
    "tags": []
   },
   "outputs": [
    {
     "data": {
      "text/plain": [
       "0.8382837176322937"
      ]
     },
     "execution_count": 52,
     "metadata": {},
     "output_type": "execute_result"
    }
   ],
   "source": [
    "rmse_test"
   ]
  },
  {
   "cell_type": "code",
   "execution_count": 53,
   "id": "96c7c445-c5df-4abd-8ed8-68b9bd681ad4",
   "metadata": {
    "tags": []
   },
   "outputs": [
    {
     "data": {
      "text/plain": [
       "array([[0.9930159],\n",
       "       [1.5368159],\n",
       "       [2.035911 ]], dtype=float32)"
      ]
     },
     "execution_count": 53,
     "metadata": {},
     "output_type": "execute_result"
    }
   ],
   "source": [
    "y_pred"
   ]
  },
  {
   "cell_type": "markdown",
   "id": "7930a480-58fc-4b95-9101-c28d4a497062",
   "metadata": {},
   "source": [
    "# Building Complex Models Using the Functional API"
   ]
  },
  {
   "cell_type": "markdown",
   "id": "0e11b893-6c90-4556-b516-224de9ef497f",
   "metadata": {},
   "source": [
    "Not all neural network models are simply sequential. Some may have complex topologies. Some may have multiple inputs and/or multiple outputs. For example, a Wide & Deep neural network (see [paper](https://ai.google/research/pubs/pub45413)) connects all or part of the inputs directly to the output layer."
   ]
  },
  {
   "cell_type": "code",
   "execution_count": 54,
   "id": "28f54fce-0531-430d-bd2f-5fed34ad75b0",
   "metadata": {
    "tags": []
   },
   "outputs": [],
   "source": [
    "#reset the name counters and make the code reproducible\n",
    "tf.keras.backend.clear_session()\n",
    "tf.random.set_seed(42)"
   ]
  },
  {
   "cell_type": "markdown",
   "id": "eb7c18a6-f41f-48b0-83fa-d30eb2b0ef0b",
   "metadata": {},
   "source": [
    "## Wide and Deep"
   ]
  },
  {
   "cell_type": "code",
   "execution_count": 55,
   "id": "5b6d7212-7feb-44b2-a84c-6302aaf9ea30",
   "metadata": {
    "tags": []
   },
   "outputs": [],
   "source": [
    "normalization_layer = tf.keras.layers.Normalization()\n",
    "hidden_layer1 = tf.keras.layers.Dense(30, activation=\"relu\")\n",
    "hidden_layer2 = tf.keras.layers.Dense(30, activation=\"relu\")\n",
    "concat_layer = tf.keras.layers.Concatenate()\n",
    "output_layer = tf.keras.layers.Dense(1)\n",
    "\n",
    "input_ = tf.keras.layers.Input(shape=X_train.shape[1:])\n",
    "normalized = normalization_layer(input_)\n",
    "hidden1 = hidden_layer1(normalized)\n",
    "hidden2 = hidden_layer2(hidden1)\n",
    "concat = concat_layer([normalized, hidden2])\n",
    "output = output_layer(concat)\n",
    "\n",
    "model = tf.keras.Model(inputs=[input_], outputs=[output])"
   ]
  },
  {
   "cell_type": "code",
   "execution_count": 56,
   "id": "8c486be6-5ef4-465f-877c-3b81c361977d",
   "metadata": {
    "tags": []
   },
   "outputs": [
    {
     "name": "stdout",
     "output_type": "stream",
     "text": [
      "Model: \"model\"\n",
      "__________________________________________________________________________________________________\n",
      " Layer (type)                Output Shape                 Param #   Connected to                  \n",
      "==================================================================================================\n",
      " input_1 (InputLayer)        [(None, 8)]                  0         []                            \n",
      "                                                                                                  \n",
      " normalization (Normalizati  (None, 8)                    17        ['input_1[0][0]']             \n",
      " on)                                                                                              \n",
      "                                                                                                  \n",
      " dense (Dense)               (None, 30)                   270       ['normalization[0][0]']       \n",
      "                                                                                                  \n",
      " dense_1 (Dense)             (None, 30)                   930       ['dense[0][0]']               \n",
      "                                                                                                  \n",
      " concatenate (Concatenate)   (None, 38)                   0         ['normalization[0][0]',       \n",
      "                                                                     'dense_1[0][0]']             \n",
      "                                                                                                  \n",
      " dense_2 (Dense)             (None, 1)                    39        ['concatenate[0][0]']         \n",
      "                                                                                                  \n",
      "==================================================================================================\n",
      "Total params: 1256 (4.91 KB)\n",
      "Trainable params: 1239 (4.84 KB)\n",
      "Non-trainable params: 17 (72.00 Byte)\n",
      "__________________________________________________________________________________________________\n"
     ]
    }
   ],
   "source": [
    "model.summary()"
   ]
  },
  {
   "cell_type": "markdown",
   "id": "e02ea787-9d6a-4115-9438-a2b06a3ff7bd",
   "metadata": {},
   "source": [
    "### Question\n",
    "- What do we see here?"
   ]
  },
  {
   "cell_type": "code",
   "execution_count": 57,
   "id": "d011f73d-f8c6-4cc5-8bf7-803655f9c685",
   "metadata": {},
   "outputs": [
    {
     "name": "stdout",
     "output_type": "stream",
     "text": [
      "Epoch 1/20\n",
      "363/363 [==============================] - 1s 1ms/step - loss: 1.3059 - root_mean_squared_error: 1.1427 - val_loss: 1.9297 - val_root_mean_squared_error: 1.3891\n",
      "Epoch 2/20\n",
      "363/363 [==============================] - 0s 969us/step - loss: 0.4945 - root_mean_squared_error: 0.7032 - val_loss: 0.5621 - val_root_mean_squared_error: 0.7498\n",
      "Epoch 3/20\n",
      "363/363 [==============================] - 0s 973us/step - loss: 0.4162 - root_mean_squared_error: 0.6452 - val_loss: 0.4616 - val_root_mean_squared_error: 0.6794\n",
      "Epoch 4/20\n",
      "363/363 [==============================] - 0s 962us/step - loss: 0.3769 - root_mean_squared_error: 0.6139 - val_loss: 0.3504 - val_root_mean_squared_error: 0.5920\n",
      "Epoch 5/20\n",
      "363/363 [==============================] - 0s 930us/step - loss: 0.3626 - root_mean_squared_error: 0.6021 - val_loss: 0.6262 - val_root_mean_squared_error: 0.7913\n",
      "Epoch 6/20\n",
      "363/363 [==============================] - 0s 948us/step - loss: 0.3542 - root_mean_squared_error: 0.5952 - val_loss: 1.2740 - val_root_mean_squared_error: 1.1287\n",
      "Epoch 7/20\n",
      "363/363 [==============================] - 0s 945us/step - loss: 0.3533 - root_mean_squared_error: 0.5944 - val_loss: 0.5845 - val_root_mean_squared_error: 0.7645\n",
      "Epoch 8/20\n",
      "363/363 [==============================] - 0s 952us/step - loss: 0.3385 - root_mean_squared_error: 0.5818 - val_loss: 0.5369 - val_root_mean_squared_error: 0.7327\n",
      "Epoch 9/20\n",
      "363/363 [==============================] - 0s 967us/step - loss: 0.3344 - root_mean_squared_error: 0.5783 - val_loss: 0.7580 - val_root_mean_squared_error: 0.8706\n",
      "Epoch 10/20\n",
      "363/363 [==============================] - 0s 994us/step - loss: 0.3357 - root_mean_squared_error: 0.5794 - val_loss: 2.0212 - val_root_mean_squared_error: 1.4217\n",
      "Epoch 11/20\n",
      "363/363 [==============================] - 0s 952us/step - loss: 0.3321 - root_mean_squared_error: 0.5762 - val_loss: 0.8114 - val_root_mean_squared_error: 0.9008\n",
      "Epoch 12/20\n",
      "363/363 [==============================] - 0s 952us/step - loss: 0.3463 - root_mean_squared_error: 0.5884 - val_loss: 0.9805 - val_root_mean_squared_error: 0.9902\n",
      "Epoch 13/20\n",
      "363/363 [==============================] - 0s 953us/step - loss: 0.3234 - root_mean_squared_error: 0.5687 - val_loss: 0.2998 - val_root_mean_squared_error: 0.5476\n",
      "Epoch 14/20\n",
      "363/363 [==============================] - 0s 1ms/step - loss: 0.3149 - root_mean_squared_error: 0.5611 - val_loss: 0.3147 - val_root_mean_squared_error: 0.5610\n",
      "Epoch 15/20\n",
      "363/363 [==============================] - 0s 982us/step - loss: 0.3143 - root_mean_squared_error: 0.5606 - val_loss: 0.2986 - val_root_mean_squared_error: 0.5464\n",
      "Epoch 16/20\n",
      "363/363 [==============================] - 1s 2ms/step - loss: 0.3107 - root_mean_squared_error: 0.5574 - val_loss: 0.2950 - val_root_mean_squared_error: 0.5431\n",
      "Epoch 17/20\n",
      "363/363 [==============================] - 0s 981us/step - loss: 0.3089 - root_mean_squared_error: 0.5558 - val_loss: 0.3554 - val_root_mean_squared_error: 0.5961\n",
      "Epoch 18/20\n",
      "363/363 [==============================] - 0s 953us/step - loss: 0.3059 - root_mean_squared_error: 0.5531 - val_loss: 0.2892 - val_root_mean_squared_error: 0.5378\n",
      "Epoch 19/20\n",
      "363/363 [==============================] - 0s 987us/step - loss: 0.3008 - root_mean_squared_error: 0.5485 - val_loss: 0.3559 - val_root_mean_squared_error: 0.5966\n",
      "Epoch 20/20\n",
      "363/363 [==============================] - 0s 925us/step - loss: 0.3069 - root_mean_squared_error: 0.5540 - val_loss: 0.3059 - val_root_mean_squared_error: 0.5531\n",
      "162/162 [==============================] - 0s 574us/step - loss: 0.3005 - root_mean_squared_error: 0.5482\n",
      "1/1 [==============================] - 0s 35ms/step\n"
     ]
    }
   ],
   "source": [
    "optimizer = tf.keras.optimizers.Adam(learning_rate=1e-3)\n",
    "model.compile(loss=\"mse\", optimizer=optimizer, metrics=[\"RootMeanSquaredError\"])\n",
    "normalization_layer.adapt(X_train)\n",
    "history = model.fit(X_train, y_train, epochs=20,\n",
    "                    validation_data=(X_valid, y_valid))\n",
    "mse_test = model.evaluate(X_test, y_test)\n",
    "y_pred = model.predict(X_new)"
   ]
  },
  {
   "cell_type": "code",
   "execution_count": 58,
   "id": "77adf06e-2604-4cb8-91d6-59496e0e6c02",
   "metadata": {
    "tags": []
   },
   "outputs": [
    {
     "data": {
      "image/png": "[encoded data removed]",
      "text/plain": [
       "<IPython.core.display.Image object>"
      ]
     },
     "execution_count": 58,
     "metadata": {},
     "output_type": "execute_result"
    }
   ],
   "source": [
    "tf.keras.utils.plot_model(model, \"wideanddeep.png\", show_shapes=True)"
   ]
  },
  {
   "cell_type": "markdown",
   "id": "b4a85250-9922-4601-87c0-d266cf03d186",
   "metadata": {},
   "source": [
    "![](wideanddeep.png)"
   ]
  },
  {
   "cell_type": "markdown",
   "id": "64883f15-22d9-486e-84a3-a01901fc1d36",
   "metadata": {},
   "source": [
    "## Multiple Input\n",
    "\n",
    "What if you want to send different subsets of input features through the wide or deep paths? We will send 5 features (features 0 to 4), and 6 through the deep path (features 2 to 7). Note that 3 features will go through both (features 2, 3 and 4)."
   ]
  },
  {
   "cell_type": "code",
   "execution_count": 60,
   "id": "f5b9f4cb-dc4a-4e9a-a6d3-0f9965f264c2",
   "metadata": {
    "tags": []
   },
   "outputs": [],
   "source": [
    "tf.random.set_seed(42)"
   ]
  },
  {
   "cell_type": "code",
   "execution_count": 61,
   "id": "e23284fb-9b0d-410a-8f43-bd80d06b12e8",
   "metadata": {},
   "outputs": [],
   "source": [
    "input_wide = tf.keras.layers.Input(shape=[5])  # features 0 to 4\n",
    "input_deep = tf.keras.layers.Input(shape=[6])  # features 2 to 7\n",
    "norm_layer_wide = tf.keras.layers.Normalization()\n",
    "norm_layer_deep = tf.keras.layers.Normalization()\n",
    "norm_wide = norm_layer_wide(input_wide)\n",
    "norm_deep = norm_layer_deep(input_deep)\n",
    "hidden1 = tf.keras.layers.Dense(30, activation=\"relu\")(norm_deep)\n",
    "hidden2 = tf.keras.layers.Dense(30, activation=\"relu\")(hidden1)\n",
    "concat = tf.keras.layers.concatenate([norm_wide, hidden2])\n",
    "output = tf.keras.layers.Dense(1)(concat)\n",
    "model = tf.keras.Model(inputs=[input_wide, input_deep], outputs=[output])"
   ]
  },
  {
   "cell_type": "code",
   "execution_count": 62,
   "id": "189dbbd7-6cb7-4853-876c-afc858e478c2",
   "metadata": {},
   "outputs": [
    {
     "name": "stdout",
     "output_type": "stream",
     "text": [
      "Epoch 1/20\n",
      "363/363 [==============================] - 1s 1ms/step - loss: 1.2860 - root_mean_squared_error: 1.1340 - val_loss: 0.8768 - val_root_mean_squared_error: 0.9364\n",
      "Epoch 2/20\n",
      "363/363 [==============================] - 0s 1ms/step - loss: 0.4761 - root_mean_squared_error: 0.6900 - val_loss: 0.9428 - val_root_mean_squared_error: 0.9710\n",
      "Epoch 3/20\n",
      "363/363 [==============================] - 0s 987us/step - loss: 0.4242 - root_mean_squared_error: 0.6513 - val_loss: 0.3819 - val_root_mean_squared_error: 0.6180\n",
      "Epoch 4/20\n",
      "363/363 [==============================] - 0s 990us/step - loss: 0.3979 - root_mean_squared_error: 0.6308 - val_loss: 0.4149 - val_root_mean_squared_error: 0.6441\n",
      "Epoch 5/20\n",
      "363/363 [==============================] - 0s 994us/step - loss: 0.3822 - root_mean_squared_error: 0.6183 - val_loss: 0.3503 - val_root_mean_squared_error: 0.5918\n",
      "Epoch 6/20\n",
      "363/363 [==============================] - 0s 994us/step - loss: 0.3715 - root_mean_squared_error: 0.6095 - val_loss: 0.4239 - val_root_mean_squared_error: 0.6511\n",
      "Epoch 7/20\n",
      "363/363 [==============================] - 0s 1ms/step - loss: 0.3690 - root_mean_squared_error: 0.6075 - val_loss: 0.9171 - val_root_mean_squared_error: 0.9577\n",
      "Epoch 8/20\n",
      "363/363 [==============================] - 0s 994us/step - loss: 0.3605 - root_mean_squared_error: 0.6004 - val_loss: 3.7843 - val_root_mean_squared_error: 1.9453\n",
      "Epoch 9/20\n",
      "363/363 [==============================] - 0s 984us/step - loss: 0.3659 - root_mean_squared_error: 0.6049 - val_loss: 5.1542 - val_root_mean_squared_error: 2.2703\n",
      "Epoch 10/20\n",
      "363/363 [==============================] - 0s 999us/step - loss: 0.3965 - root_mean_squared_error: 0.6297 - val_loss: 3.1024 - val_root_mean_squared_error: 1.7614\n",
      "Epoch 11/20\n",
      "363/363 [==============================] - 0s 1ms/step - loss: 0.3592 - root_mean_squared_error: 0.5994 - val_loss: 0.9758 - val_root_mean_squared_error: 0.9878\n",
      "Epoch 12/20\n",
      "363/363 [==============================] - 0s 1ms/step - loss: 0.3709 - root_mean_squared_error: 0.6090 - val_loss: 1.7288 - val_root_mean_squared_error: 1.3148\n",
      "Epoch 13/20\n",
      "363/363 [==============================] - 0s 1ms/step - loss: 0.3518 - root_mean_squared_error: 0.5932 - val_loss: 0.5300 - val_root_mean_squared_error: 0.7280\n",
      "Epoch 14/20\n",
      "363/363 [==============================] - 1s 2ms/step - loss: 0.3401 - root_mean_squared_error: 0.5832 - val_loss: 0.3655 - val_root_mean_squared_error: 0.6046\n",
      "Epoch 15/20\n",
      "363/363 [==============================] - 0s 1ms/step - loss: 0.3377 - root_mean_squared_error: 0.5811 - val_loss: 0.5982 - val_root_mean_squared_error: 0.7734\n",
      "Epoch 16/20\n",
      "363/363 [==============================] - 0s 1ms/step - loss: 0.3352 - root_mean_squared_error: 0.5789 - val_loss: 0.6984 - val_root_mean_squared_error: 0.8357\n",
      "Epoch 17/20\n",
      "363/363 [==============================] - 0s 992us/step - loss: 0.3384 - root_mean_squared_error: 0.5817 - val_loss: 1.1747 - val_root_mean_squared_error: 1.0838\n",
      "Epoch 18/20\n",
      "363/363 [==============================] - 0s 994us/step - loss: 0.3368 - root_mean_squared_error: 0.5803 - val_loss: 3.9170 - val_root_mean_squared_error: 1.9791\n",
      "Epoch 19/20\n",
      "363/363 [==============================] - 0s 1ms/step - loss: 0.3536 - root_mean_squared_error: 0.5947 - val_loss: 3.4677 - val_root_mean_squared_error: 1.8622\n",
      "Epoch 20/20\n",
      "363/363 [==============================] - 0s 975us/step - loss: 0.3590 - root_mean_squared_error: 0.5992 - val_loss: 2.9032 - val_root_mean_squared_error: 1.7039\n",
      "162/162 [==============================] - 0s 626us/step - loss: 0.3338 - root_mean_squared_error: 0.5778\n",
      "1/1 [==============================] - 0s 39ms/step\n"
     ]
    }
   ],
   "source": [
    "optimizer = tf.keras.optimizers.Adam(learning_rate=1e-3)\n",
    "model.compile(loss=\"mse\", optimizer=optimizer, metrics=[\"RootMeanSquaredError\"])\n",
    "\n",
    "X_train_wide, X_train_deep = X_train[:, :5], X_train[:, 2:]\n",
    "X_valid_wide, X_valid_deep = X_valid[:, :5], X_valid[:, 2:]\n",
    "X_test_wide, X_test_deep = X_test[:, :5], X_test[:, 2:]\n",
    "X_new_wide, X_new_deep = X_test_wide[:3], X_test_deep[:3]\n",
    "\n",
    "norm_layer_wide.adapt(X_train_wide)\n",
    "norm_layer_deep.adapt(X_train_deep)\n",
    "history = model.fit((X_train_wide, X_train_deep), y_train, epochs=20,\n",
    "                    validation_data=((X_valid_wide, X_valid_deep), y_valid))\n",
    "mse_test = model.evaluate((X_test_wide, X_test_deep), y_test)\n",
    "y_pred = model.predict((X_new_wide, X_new_deep))"
   ]
  },
  {
   "cell_type": "code",
   "execution_count": 65,
   "id": "21fc669a-d7c5-47e3-bac6-5a2090788222",
   "metadata": {},
   "outputs": [
    {
     "data": {
      "image/png": "[encoded data removed]",
      "text/plain": [
       "<IPython.core.display.Image object>"
      ]
     },
     "execution_count": 65,
     "metadata": {},
     "output_type": "execute_result"
    }
   ],
   "source": [
    "tf.keras.utils.plot_model(model, \"multiinput.png\", show_shapes=True)"
   ]
  },
  {
   "cell_type": "markdown",
   "id": "df77c117-969d-4119-97ee-0083b18b0425",
   "metadata": {},
   "source": [
    "![](multiinput.png)"
   ]
  },
  {
   "cell_type": "markdown",
   "id": "6323196d-3f93-473e-b8f3-22db3bfc1740",
   "metadata": {},
   "source": [
    "## Multiple Outputs\n",
    "\n",
    "- does this make sense?\n"
   ]
  },
  {
   "cell_type": "code",
   "execution_count": 67,
   "id": "21b98edf-f13e-4955-8b21-8d03de94efe3",
   "metadata": {},
   "outputs": [],
   "source": [
    "tf.keras.backend.clear_session()\n",
    "tf.random.set_seed(42)"
   ]
  },
  {
   "cell_type": "code",
   "execution_count": 68,
   "id": "7325f02b-8236-42b9-b450-60f79f21725f",
   "metadata": {},
   "outputs": [],
   "source": [
    "input_wide = tf.keras.layers.Input(shape=[5])  # features 0 to 4\n",
    "input_deep = tf.keras.layers.Input(shape=[6])  # features 2 to 7\n",
    "norm_layer_wide = tf.keras.layers.Normalization()\n",
    "norm_layer_deep = tf.keras.layers.Normalization()\n",
    "norm_wide = norm_layer_wide(input_wide)\n",
    "norm_deep = norm_layer_deep(input_deep)\n",
    "hidden1 = tf.keras.layers.Dense(30, activation=\"relu\")(norm_deep)\n",
    "hidden2 = tf.keras.layers.Dense(30, activation=\"relu\")(hidden1)\n",
    "concat = tf.keras.layers.concatenate([norm_wide, hidden2])\n",
    "output = tf.keras.layers.Dense(1)(concat)\n",
    "aux_output = tf.keras.layers.Dense(1)(hidden2)\n",
    "model = tf.keras.Model(inputs=[input_wide, input_deep],\n",
    "                       outputs=[output, aux_output])"
   ]
  },
  {
   "cell_type": "code",
   "execution_count": 69,
   "id": "6c2961f3-cf84-4a72-809a-384f8d8a285e",
   "metadata": {},
   "outputs": [],
   "source": [
    "optimizer = tf.keras.optimizers.Adam(learning_rate=1e-3)\n",
    "model.compile(loss=(\"mse\", \"mse\"), loss_weights=(0.9, 0.1), optimizer=optimizer,\n",
    "              metrics=[\"RootMeanSquaredError\"])"
   ]
  },
  {
   "cell_type": "code",
   "execution_count": 70,
   "id": "a7294978-2c6b-4949-b102-6378174615a5",
   "metadata": {},
   "outputs": [
    {
     "name": "stdout",
     "output_type": "stream",
     "text": [
      "Epoch 1/20\n",
      "363/363 [==============================] - 1s 2ms/step - loss: 1.9943 - dense_2_loss: 1.9464 - dense_3_loss: 2.4256 - dense_2_root_mean_squared_error: 1.3951 - dense_3_root_mean_squared_error: 1.5574 - val_loss: 2.4974 - val_dense_2_loss: 0.8891 - val_dense_3_loss: 16.9718 - val_dense_2_root_mean_squared_error: 0.9429 - val_dense_3_root_mean_squared_error: 4.1197\n",
      "Epoch 2/20\n",
      "363/363 [==============================] - 0s 1ms/step - loss: 0.6663 - dense_2_loss: 0.6422 - dense_3_loss: 0.8834 - dense_2_root_mean_squared_error: 0.8014 - dense_3_root_mean_squared_error: 0.9399 - val_loss: 1.7773 - val_dense_2_loss: 1.0728 - val_dense_3_loss: 8.1174 - val_dense_2_root_mean_squared_error: 1.0358 - val_dense_3_root_mean_squared_error: 2.8491\n",
      "Epoch 3/20\n",
      "363/363 [==============================] - 0s 1ms/step - loss: 0.5295 - dense_2_loss: 0.5193 - dense_3_loss: 0.6219 - dense_2_root_mean_squared_error: 0.7206 - dense_3_root_mean_squared_error: 0.7886 - val_loss: 0.8651 - val_dense_2_loss: 0.5312 - val_dense_3_loss: 3.8697 - val_dense_2_root_mean_squared_error: 0.7289 - val_dense_3_root_mean_squared_error: 1.9671\n",
      "Epoch 4/20\n",
      "363/363 [==============================] - 0s 1ms/step - loss: 0.4576 - dense_2_loss: 0.4502 - dense_3_loss: 0.5235 - dense_2_root_mean_squared_error: 0.6710 - dense_3_root_mean_squared_error: 0.7236 - val_loss: 0.5585 - val_dense_2_loss: 0.4032 - val_dense_3_loss: 1.9562 - val_dense_2_root_mean_squared_error: 0.6350 - val_dense_3_root_mean_squared_error: 1.3987\n",
      "Epoch 5/20\n",
      "363/363 [==============================] - 0s 1ms/step - loss: 0.4189 - dense_2_loss: 0.4118 - dense_3_loss: 0.4830 - dense_2_root_mean_squared_error: 0.6417 - dense_3_root_mean_squared_error: 0.6950 - val_loss: 0.4553 - val_dense_2_loss: 0.3938 - val_dense_3_loss: 1.0086 - val_dense_2_root_mean_squared_error: 0.6275 - val_dense_3_root_mean_squared_error: 1.0043\n",
      "Epoch 6/20\n",
      "363/363 [==============================] - 0s 1ms/step - loss: 0.3952 - dense_2_loss: 0.3881 - dense_3_loss: 0.4589 - dense_2_root_mean_squared_error: 0.6230 - dense_3_root_mean_squared_error: 0.6774 - val_loss: 0.7168 - val_dense_2_loss: 0.7249 - val_dense_3_loss: 0.6430 - val_dense_2_root_mean_squared_error: 0.8514 - val_dense_3_root_mean_squared_error: 0.8019\n",
      "Epoch 7/20\n",
      "363/363 [==============================] - 0s 1ms/step - loss: 0.3815 - dense_2_loss: 0.3744 - dense_3_loss: 0.4451 - dense_2_root_mean_squared_error: 0.6119 - dense_3_root_mean_squared_error: 0.6671 - val_loss: 0.3954 - val_dense_2_loss: 0.3514 - val_dense_3_loss: 0.7911 - val_dense_2_root_mean_squared_error: 0.5928 - val_dense_3_root_mean_squared_error: 0.8894\n",
      "Epoch 8/20\n",
      "363/363 [==============================] - 1s 3ms/step - loss: 0.3689 - dense_2_loss: 0.3613 - dense_3_loss: 0.4369 - dense_2_root_mean_squared_error: 0.6011 - dense_3_root_mean_squared_error: 0.6610 - val_loss: 0.3603 - val_dense_2_loss: 0.3411 - val_dense_3_loss: 0.5331 - val_dense_2_root_mean_squared_error: 0.5840 - val_dense_3_root_mean_squared_error: 0.7302\n",
      "Epoch 9/20\n",
      "363/363 [==============================] - 0s 1ms/step - loss: 0.3600 - dense_2_loss: 0.3527 - dense_3_loss: 0.4257 - dense_2_root_mean_squared_error: 0.5939 - dense_3_root_mean_squared_error: 0.6524 - val_loss: 0.7419 - val_dense_2_loss: 0.7586 - val_dense_3_loss: 0.5918 - val_dense_2_root_mean_squared_error: 0.8710 - val_dense_3_root_mean_squared_error: 0.7693\n",
      "Epoch 10/20\n",
      "363/363 [==============================] - 0s 1ms/step - loss: 0.3600 - dense_2_loss: 0.3532 - dense_3_loss: 0.4214 - dense_2_root_mean_squared_error: 0.5943 - dense_3_root_mean_squared_error: 0.6491 - val_loss: 0.3696 - val_dense_2_loss: 0.3617 - val_dense_3_loss: 0.4407 - val_dense_2_root_mean_squared_error: 0.6014 - val_dense_3_root_mean_squared_error: 0.6638\n",
      "Epoch 11/20\n",
      "363/363 [==============================] - 0s 1ms/step - loss: 0.3504 - dense_2_loss: 0.3436 - dense_3_loss: 0.4118 - dense_2_root_mean_squared_error: 0.5861 - dense_3_root_mean_squared_error: 0.6417 - val_loss: 0.3594 - val_dense_2_loss: 0.3491 - val_dense_3_loss: 0.4520 - val_dense_2_root_mean_squared_error: 0.5909 - val_dense_3_root_mean_squared_error: 0.6723\n",
      "Epoch 12/20\n",
      "363/363 [==============================] - 0s 1ms/step - loss: 0.3504 - dense_2_loss: 0.3438 - dense_3_loss: 0.4094 - dense_2_root_mean_squared_error: 0.5863 - dense_3_root_mean_squared_error: 0.6399 - val_loss: 1.1997 - val_dense_2_loss: 1.2679 - val_dense_3_loss: 0.5859 - val_dense_2_root_mean_squared_error: 1.1260 - val_dense_3_root_mean_squared_error: 0.7655\n",
      "Epoch 13/20\n",
      "363/363 [==============================] - 0s 1ms/step - loss: 0.3503 - dense_2_loss: 0.3441 - dense_3_loss: 0.4060 - dense_2_root_mean_squared_error: 0.5866 - dense_3_root_mean_squared_error: 0.6372 - val_loss: 0.4080 - val_dense_2_loss: 0.4009 - val_dense_3_loss: 0.4720 - val_dense_2_root_mean_squared_error: 0.6332 - val_dense_3_root_mean_squared_error: 0.6870\n",
      "Epoch 14/20\n",
      "363/363 [==============================] - 0s 1ms/step - loss: 0.3411 - dense_2_loss: 0.3339 - dense_3_loss: 0.4059 - dense_2_root_mean_squared_error: 0.5778 - dense_3_root_mean_squared_error: 0.6371 - val_loss: 0.3198 - val_dense_2_loss: 0.3120 - val_dense_3_loss: 0.3893 - val_dense_2_root_mean_squared_error: 0.5586 - val_dense_3_root_mean_squared_error: 0.6240\n",
      "Epoch 15/20\n",
      "363/363 [==============================] - 0s 1ms/step - loss: 0.3398 - dense_2_loss: 0.3335 - dense_3_loss: 0.3969 - dense_2_root_mean_squared_error: 0.5775 - dense_3_root_mean_squared_error: 0.6300 - val_loss: 0.5262 - val_dense_2_loss: 0.5251 - val_dense_3_loss: 0.5364 - val_dense_2_root_mean_squared_error: 0.7246 - val_dense_3_root_mean_squared_error: 0.7324\n",
      "Epoch 16/20\n",
      "363/363 [==============================] - 0s 1ms/step - loss: 0.3371 - dense_2_loss: 0.3306 - dense_3_loss: 0.3963 - dense_2_root_mean_squared_error: 0.5749 - dense_3_root_mean_squared_error: 0.6295 - val_loss: 0.8497 - val_dense_2_loss: 0.8601 - val_dense_3_loss: 0.7557 - val_dense_2_root_mean_squared_error: 0.9274 - val_dense_3_root_mean_squared_error: 0.8693\n",
      "Epoch 17/20\n",
      "363/363 [==============================] - 0s 1ms/step - loss: 0.3395 - dense_2_loss: 0.3330 - dense_3_loss: 0.3975 - dense_2_root_mean_squared_error: 0.5771 - dense_3_root_mean_squared_error: 0.6305 - val_loss: 1.9651 - val_dense_2_loss: 1.9542 - val_dense_3_loss: 2.0632 - val_dense_2_root_mean_squared_error: 1.3979 - val_dense_3_root_mean_squared_error: 1.4364\n",
      "Epoch 18/20\n",
      "363/363 [==============================] - 0s 1ms/step - loss: 0.3414 - dense_2_loss: 0.3351 - dense_3_loss: 0.3982 - dense_2_root_mean_squared_error: 0.5789 - dense_3_root_mean_squared_error: 0.6311 - val_loss: 0.5024 - val_dense_2_loss: 0.5144 - val_dense_3_loss: 0.3945 - val_dense_2_root_mean_squared_error: 0.7172 - val_dense_3_root_mean_squared_error: 0.6281\n",
      "Epoch 19/20\n",
      "363/363 [==============================] - 0s 1ms/step - loss: 0.3352 - dense_2_loss: 0.3292 - dense_3_loss: 0.3899 - dense_2_root_mean_squared_error: 0.5737 - dense_3_root_mean_squared_error: 0.6244 - val_loss: 0.5014 - val_dense_2_loss: 0.5108 - val_dense_3_loss: 0.4169 - val_dense_2_root_mean_squared_error: 0.7147 - val_dense_3_root_mean_squared_error: 0.6457\n",
      "Epoch 20/20\n",
      "363/363 [==============================] - 0s 1ms/step - loss: 0.3310 - dense_2_loss: 0.3251 - dense_3_loss: 0.3837 - dense_2_root_mean_squared_error: 0.5702 - dense_3_root_mean_squared_error: 0.6195 - val_loss: 0.3337 - val_dense_2_loss: 0.3238 - val_dense_3_loss: 0.4236 - val_dense_2_root_mean_squared_error: 0.5690 - val_dense_3_root_mean_squared_error: 0.6508\n"
     ]
    }
   ],
   "source": [
    "norm_layer_wide.adapt(X_train_wide)\n",
    "norm_layer_deep.adapt(X_train_deep)\n",
    "history = model.fit(\n",
    "    (X_train_wide, X_train_deep), (y_train, y_train), epochs=20,\n",
    "    validation_data=((X_valid_wide, X_valid_deep), (y_valid, y_valid))\n",
    ")"
   ]
  },
  {
   "cell_type": "code",
   "execution_count": 71,
   "id": "304fef5f-87cb-48c2-ae17-2df45f231e5b",
   "metadata": {
    "tags": []
   },
   "outputs": [
    {
     "name": "stdout",
     "output_type": "stream",
     "text": [
      "Model: \"model\"\n",
      "__________________________________________________________________________________________________\n",
      " Layer (type)                Output Shape                 Param #   Connected to                  \n",
      "==================================================================================================\n",
      " input_2 (InputLayer)        [(None, 6)]                  0         []                            \n",
      "                                                                                                  \n",
      " normalization_1 (Normaliza  (None, 6)                    13        ['input_2[0][0]']             \n",
      " tion)                                                                                            \n",
      "                                                                                                  \n",
      " input_1 (InputLayer)        [(None, 5)]                  0         []                            \n",
      "                                                                                                  \n",
      " dense (Dense)               (None, 30)                   210       ['normalization_1[0][0]']     \n",
      "                                                                                                  \n",
      " normalization (Normalizati  (None, 5)                    11        ['input_1[0][0]']             \n",
      " on)                                                                                              \n",
      "                                                                                                  \n",
      " dense_1 (Dense)             (None, 30)                   930       ['dense[0][0]']               \n",
      "                                                                                                  \n",
      " concatenate (Concatenate)   (None, 35)                   0         ['normalization[0][0]',       \n",
      "                                                                     'dense_1[0][0]']             \n",
      "                                                                                                  \n",
      " dense_2 (Dense)             (None, 1)                    36        ['concatenate[0][0]']         \n",
      "                                                                                                  \n",
      " dense_3 (Dense)             (None, 1)                    31        ['dense_1[0][0]']             \n",
      "                                                                                                  \n",
      "==================================================================================================\n",
      "Total params: 1231 (4.82 KB)\n",
      "Trainable params: 1207 (4.71 KB)\n",
      "Non-trainable params: 24 (104.00 Byte)\n",
      "__________________________________________________________________________________________________\n"
     ]
    }
   ],
   "source": [
    "model.summary()"
   ]
  },
  {
   "cell_type": "code",
   "execution_count": 72,
   "id": "02781e59-3287-4416-ad03-376a96a53241",
   "metadata": {
    "tags": []
   },
   "outputs": [
    {
     "data": {
      "image/png": "[encoded data removed]",
      "text/plain": [
       "<IPython.core.display.Image object>"
      ]
     },
     "execution_count": 72,
     "metadata": {},
     "output_type": "execute_result"
    }
   ],
   "source": [
    "tf.keras.utils.plot_model(model, \"multioutput.png\", show_shapes=True)"
   ]
  },
  {
   "cell_type": "markdown",
   "id": "b9f75f7e-c475-431a-9f4e-9be9cfa30071",
   "metadata": {},
   "source": [
    "![](multioutput.png)"
   ]
  },
  {
   "cell_type": "code",
   "execution_count": 73,
   "id": "a5b48210-951a-48fc-8d91-a3de8addc5ab",
   "metadata": {},
   "outputs": [
    {
     "name": "stdout",
     "output_type": "stream",
     "text": [
      "162/162 [==============================] - 0s 720us/step - loss: 0.3268 - dense_2_loss: 0.3203 - dense_3_loss: 0.3859 - dense_2_root_mean_squared_error: 0.5659 - dense_3_root_mean_squared_error: 0.6212\n"
     ]
    }
   ],
   "source": [
    "eval_results = model.evaluate((X_test_wide, X_test_deep), (y_test, y_test))\n",
    "weighted_sum_of_losses, main_loss, aux_loss, main_rmse, aux_rmse = eval_results"
   ]
  },
  {
   "cell_type": "code",
   "execution_count": 74,
   "id": "19fc92b1-c87e-4f07-96e3-76b4001955d2",
   "metadata": {
    "tags": []
   },
   "outputs": [
    {
     "name": "stdout",
     "output_type": "stream",
     "text": [
      "WARNING:tensorflow:5 out of the last 8 calls to <function Model.make_predict_function.<locals>.predict_function at 0x7122343d32e0> triggered tf.function retracing. Tracing is expensive and the excessive number of tracings could be due to (1) creating @tf.function repeatedly in a loop, (2) passing tensors with different shapes, (3) passing Python objects instead of tensors. For (1), please define your @tf.function outside of the loop. For (2), @tf.function has reduce_retracing=True option that can avoid unnecessary retracing. For (3), please refer to https://www.tensorflow.org/guide/function#controlling_retracing and https://www.tensorflow.org/api_docs/python/tf/function for  more details.\n",
      "1/1 [==============================] - 0s 128ms/step\n"
     ]
    }
   ],
   "source": [
    "y_pred_main, y_pred_aux = model.predict((X_new_wide, X_new_deep))"
   ]
  },
  {
   "cell_type": "code",
   "execution_count": 75,
   "id": "9f924110-e144-4973-a7fa-276eac9faa18",
   "metadata": {
    "tags": []
   },
   "outputs": [
    {
     "name": "stdout",
     "output_type": "stream",
     "text": [
      "1/1 [==============================] - 0s 15ms/step\n"
     ]
    }
   ],
   "source": [
    "y_pred_tuple = model.predict((X_new_wide, X_new_deep))\n",
    "y_pred = dict(zip(model.output_names, y_pred_tuple))"
   ]
  },
  {
   "attachments": {},
   "cell_type": "markdown",
   "id": "b6b5769d-89e2-41c5-a980-6ffc003f49af",
   "metadata": {},
   "source": [
    "\n",
    "# Bits and Pieces\n",
    "\n",
    "## Saving and Restoring a Model\n"
   ]
  },
  {
   "cell_type": "code",
   "execution_count": 79,
   "id": "823db75f-eba2-43b5-948d-e365cdb3fb0e",
   "metadata": {
    "tags": []
   },
   "outputs": [
    {
     "name": "stdout",
     "output_type": "stream",
     "text": [
      "INFO:tensorflow:Assets written to: my_keras_model/assets\n"
     ]
    },
    {
     "name": "stderr",
     "output_type": "stream",
     "text": [
      "INFO:tensorflow:Assets written to: my_keras_model/assets\n"
     ]
    }
   ],
   "source": [
    "# delete the directory, in case it already exists\n",
    "\n",
    "import shutil\n",
    "\n",
    "shutil.rmtree(\"my_keras_model\", ignore_errors=True)\n",
    "\n",
    "model.save(\"my_keras_model\", save_format=\"tf\")"
   ]
  },
  {
   "cell_type": "code",
   "execution_count": 80,
   "id": "c3b81f6d-4eef-4366-99dc-1981b711f216",
   "metadata": {
    "tags": []
   },
   "outputs": [
    {
     "name": "stdout",
     "output_type": "stream",
     "text": [
      "my_keras_model/assets\n",
      "my_keras_model/fingerprint.pb\n",
      "my_keras_model/keras_metadata.pb\n",
      "my_keras_model/saved_model.pb\n",
      "my_keras_model/variables\n",
      "my_keras_model/variables/variables.data-00000-of-00001\n",
      "my_keras_model/variables/variables.index\n"
     ]
    }
   ],
   "source": [
    "from pathlib import Path\n",
    "# show the contents of the my_keras_model/ directory\n",
    "for path in sorted(Path(\"my_keras_model\").glob(\"**/*\")):\n",
    "    print(path)"
   ]
  },
  {
   "cell_type": "code",
   "execution_count": 81,
   "id": "e5700744-a7a7-4572-8b6a-dbde1bda2b28",
   "metadata": {
    "tags": []
   },
   "outputs": [
    {
     "name": "stdout",
     "output_type": "stream",
     "text": [
      "WARNING:tensorflow:6 out of the last 10 calls to <function Model.make_predict_function.<locals>.predict_function at 0x71225fd24400> triggered tf.function retracing. Tracing is expensive and the excessive number of tracings could be due to (1) creating @tf.function repeatedly in a loop, (2) passing tensors with different shapes, (3) passing Python objects instead of tensors. For (1), please define your @tf.function outside of the loop. For (2), @tf.function has reduce_retracing=True option that can avoid unnecessary retracing. For (3), please refer to https://www.tensorflow.org/guide/function#controlling_retracing and https://www.tensorflow.org/api_docs/python/tf/function for  more details.\n"
     ]
    },
    {
     "name": "stderr",
     "output_type": "stream",
     "text": [
      "WARNING:tensorflow:6 out of the last 10 calls to <function Model.make_predict_function.<locals>.predict_function at 0x71225fd24400> triggered tf.function retracing. Tracing is expensive and the excessive number of tracings could be due to (1) creating @tf.function repeatedly in a loop, (2) passing tensors with different shapes, (3) passing Python objects instead of tensors. For (1), please define your @tf.function outside of the loop. For (2), @tf.function has reduce_retracing=True option that can avoid unnecessary retracing. For (3), please refer to https://www.tensorflow.org/guide/function#controlling_retracing and https://www.tensorflow.org/api_docs/python/tf/function for  more details.\n"
     ]
    },
    {
     "name": "stdout",
     "output_type": "stream",
     "text": [
      "1/1 [==============================] - 0s 40ms/step\n"
     ]
    }
   ],
   "source": [
    "model = tf.keras.models.load_model(\"my_keras_model\")\n",
    "y_pred_main, y_pred_aux = model.predict((X_new_wide, X_new_deep))"
   ]
  },
  {
   "cell_type": "code",
   "execution_count": 85,
   "id": "43be28d8-6289-4f41-804c-1c9f1cfb6d7e",
   "metadata": {
    "tags": []
   },
   "outputs": [],
   "source": [
    "model.save_weights(\"my_weights\")"
   ]
  },
  {
   "cell_type": "code",
   "execution_count": 86,
   "id": "f09c6eae-fab6-4c2a-bb39-be5f8d030266",
   "metadata": {
    "tags": []
   },
   "outputs": [
    {
     "data": {
      "text/plain": [
       "<tensorflow.python.checkpoint.checkpoint.CheckpointLoadStatus at 0x7121ac131790>"
      ]
     },
     "execution_count": 86,
     "metadata": {},
     "output_type": "execute_result"
    }
   ],
   "source": [
    "model.load_weights(\"my_weights\")"
   ]
  },
  {
   "cell_type": "code",
   "execution_count": 87,
   "id": "0be51453-a170-4e73-8bab-3fa935f0698e",
   "metadata": {
    "tags": []
   },
   "outputs": [
    {
     "name": "stdout",
     "output_type": "stream",
     "text": [
      "my_weights.data-00000-of-00001\n",
      "my_weights.index\n"
     ]
    }
   ],
   "source": [
    "#  show the list of my_weights.* files\n",
    "for path in sorted(Path().glob(\"my_weights.*\")):\n",
    "    print(path)"
   ]
  },
  {
   "cell_type": "markdown",
   "id": "5ea447c7-2de9-44c1-89db-8e5bf25c758e",
   "metadata": {},
   "source": [
    "## Using Callbacks\n",
    "### train\n",
    "\n",
    "- training\n",
    "- epoch\n",
    "- batch\n",
    "\n",
    "### validation\n",
    "\n",
    "- test\n",
    "- batch\n",
    "\n",
    "### prediction\n",
    "\n",
    "- test\n",
    "- batch\n",
    "\n",
    "_save_best_only_"
   ]
  },
  {
   "cell_type": "code",
   "execution_count": 88,
   "id": "b8198819-8bc7-42c3-899c-9009a4aefc11",
   "metadata": {
    "tags": []
   },
   "outputs": [],
   "source": [
    "shutil.rmtree(\"my_checkpoints\", ignore_errors=True) "
   ]
  },
  {
   "cell_type": "code",
   "execution_count": 89,
   "id": "9687b476-594e-4ac5-a57d-f02b0ddeb27c",
   "metadata": {
    "tags": []
   },
   "outputs": [
    {
     "name": "stdout",
     "output_type": "stream",
     "text": [
      "Epoch 1/10\n",
      "363/363 [==============================] - 1s 2ms/step - loss: 0.3326 - dense_2_loss: 0.3269 - dense_3_loss: 0.3845 - dense_2_root_mean_squared_error: 0.5717 - dense_3_root_mean_squared_error: 0.6201 - val_loss: 0.3430 - val_dense_2_loss: 0.3315 - val_dense_3_loss: 0.4461 - val_dense_2_root_mean_squared_error: 0.5758 - val_dense_3_root_mean_squared_error: 0.6679\n",
      "Epoch 2/10\n",
      "363/363 [==============================] - 0s 1ms/step - loss: 0.3273 - dense_2_loss: 0.3215 - dense_3_loss: 0.3791 - dense_2_root_mean_squared_error: 0.5670 - dense_3_root_mean_squared_error: 0.6157 - val_loss: 0.4401 - val_dense_2_loss: 0.4342 - val_dense_3_loss: 0.4936 - val_dense_2_root_mean_squared_error: 0.6589 - val_dense_3_root_mean_squared_error: 0.7026\n",
      "Epoch 3/10\n",
      "363/363 [==============================] - 0s 1ms/step - loss: 0.3242 - dense_2_loss: 0.3184 - dense_3_loss: 0.3763 - dense_2_root_mean_squared_error: 0.5642 - dense_3_root_mean_squared_error: 0.6134 - val_loss: 0.3382 - val_dense_2_loss: 0.3190 - val_dense_3_loss: 0.5104 - val_dense_2_root_mean_squared_error: 0.5648 - val_dense_3_root_mean_squared_error: 0.7144\n",
      "Epoch 4/10\n",
      "363/363 [==============================] - 0s 1ms/step - loss: 0.3266 - dense_2_loss: 0.3204 - dense_3_loss: 0.3826 - dense_2_root_mean_squared_error: 0.5660 - dense_3_root_mean_squared_error: 0.6186 - val_loss: 0.3739 - val_dense_2_loss: 0.3730 - val_dense_3_loss: 0.3824 - val_dense_2_root_mean_squared_error: 0.6107 - val_dense_3_root_mean_squared_error: 0.6184\n",
      "Epoch 5/10\n",
      "363/363 [==============================] - 0s 1ms/step - loss: 0.3257 - dense_2_loss: 0.3203 - dense_3_loss: 0.3740 - dense_2_root_mean_squared_error: 0.5660 - dense_3_root_mean_squared_error: 0.6116 - val_loss: 0.4348 - val_dense_2_loss: 0.4356 - val_dense_3_loss: 0.4278 - val_dense_2_root_mean_squared_error: 0.6600 - val_dense_3_root_mean_squared_error: 0.6541\n",
      "Epoch 6/10\n",
      "363/363 [==============================] - 0s 1ms/step - loss: 0.3219 - dense_2_loss: 0.3161 - dense_3_loss: 0.3744 - dense_2_root_mean_squared_error: 0.5622 - dense_3_root_mean_squared_error: 0.6119 - val_loss: 0.3401 - val_dense_2_loss: 0.3318 - val_dense_3_loss: 0.4144 - val_dense_2_root_mean_squared_error: 0.5761 - val_dense_3_root_mean_squared_error: 0.6437\n",
      "Epoch 7/10\n",
      "363/363 [==============================] - 0s 1ms/step - loss: 0.3227 - dense_2_loss: 0.3170 - dense_3_loss: 0.3741 - dense_2_root_mean_squared_error: 0.5630 - dense_3_root_mean_squared_error: 0.6117 - val_loss: 0.4703 - val_dense_2_loss: 0.4666 - val_dense_3_loss: 0.5029 - val_dense_2_root_mean_squared_error: 0.6831 - val_dense_3_root_mean_squared_error: 0.7092\n",
      "Epoch 8/10\n",
      "363/363 [==============================] - 0s 1ms/step - loss: 0.3201 - dense_2_loss: 0.3143 - dense_3_loss: 0.3723 - dense_2_root_mean_squared_error: 0.5607 - dense_3_root_mean_squared_error: 0.6101 - val_loss: 0.4719 - val_dense_2_loss: 0.4786 - val_dense_3_loss: 0.4115 - val_dense_2_root_mean_squared_error: 0.6918 - val_dense_3_root_mean_squared_error: 0.6415\n",
      "Epoch 9/10\n",
      "363/363 [==============================] - 0s 1ms/step - loss: 0.3191 - dense_2_loss: 0.3135 - dense_3_loss: 0.3695 - dense_2_root_mean_squared_error: 0.5599 - dense_3_root_mean_squared_error: 0.6079 - val_loss: 0.7882 - val_dense_2_loss: 0.8224 - val_dense_3_loss: 0.4803 - val_dense_2_root_mean_squared_error: 0.9069 - val_dense_3_root_mean_squared_error: 0.6930\n",
      "Epoch 10/10\n",
      "363/363 [==============================] - 1s 3ms/step - loss: 0.3239 - dense_2_loss: 0.3187 - dense_3_loss: 0.3707 - dense_2_root_mean_squared_error: 0.5645 - dense_3_root_mean_squared_error: 0.6089 - val_loss: 0.3493 - val_dense_2_loss: 0.3431 - val_dense_3_loss: 0.4051 - val_dense_2_root_mean_squared_error: 0.5858 - val_dense_3_root_mean_squared_error: 0.6365\n"
     ]
    }
   ],
   "source": [
    "checkpoint_cb = tf.keras.callbacks.ModelCheckpoint(\"my_checkpoints\",\n",
    "                                                   save_weights_only=True)\n",
    "history = model.fit(\n",
    "    (X_train_wide, X_train_deep), (y_train, y_train), epochs=10,\n",
    "    validation_data=((X_valid_wide, X_valid_deep), (y_valid, y_valid)),\n",
    "    callbacks=[checkpoint_cb])"
   ]
  },
  {
   "cell_type": "code",
   "execution_count": 90,
   "id": "db44757c-07c3-4c3d-8a1d-e6f219d29857",
   "metadata": {
    "tags": []
   },
   "outputs": [
    {
     "name": "stdout",
     "output_type": "stream",
     "text": [
      "Epoch 1/100\n",
      "363/363 [==============================] - 0s 1ms/step - loss: 0.3152 - dense_2_loss: 0.3094 - dense_3_loss: 0.3672 - dense_2_root_mean_squared_error: 0.5563 - dense_3_root_mean_squared_error: 0.6060 - val_loss: 0.3116 - val_dense_2_loss: 0.3051 - val_dense_3_loss: 0.3701 - val_dense_2_root_mean_squared_error: 0.5524 - val_dense_3_root_mean_squared_error: 0.6083\n",
      "Epoch 2/100\n",
      "363/363 [==============================] - 1s 2ms/step - loss: 0.3172 - dense_2_loss: 0.3117 - dense_3_loss: 0.3675 - dense_2_root_mean_squared_error: 0.5583 - dense_3_root_mean_squared_error: 0.6062 - val_loss: 0.7908 - val_dense_2_loss: 0.7888 - val_dense_3_loss: 0.8090 - val_dense_2_root_mean_squared_error: 0.8881 - val_dense_3_root_mean_squared_error: 0.8994\n",
      "Epoch 3/100\n",
      "363/363 [==============================] - 0s 1ms/step - loss: 0.3196 - dense_2_loss: 0.3145 - dense_3_loss: 0.3650 - dense_2_root_mean_squared_error: 0.5608 - dense_3_root_mean_squared_error: 0.6041 - val_loss: 0.3877 - val_dense_2_loss: 0.3892 - val_dense_3_loss: 0.3746 - val_dense_2_root_mean_squared_error: 0.6238 - val_dense_3_root_mean_squared_error: 0.6121\n",
      "Epoch 4/100\n",
      "363/363 [==============================] - 0s 1ms/step - loss: 0.3170 - dense_2_loss: 0.3112 - dense_3_loss: 0.3701 - dense_2_root_mean_squared_error: 0.5578 - dense_3_root_mean_squared_error: 0.6084 - val_loss: 0.4740 - val_dense_2_loss: 0.4848 - val_dense_3_loss: 0.3775 - val_dense_2_root_mean_squared_error: 0.6962 - val_dense_3_root_mean_squared_error: 0.6144\n",
      "Epoch 5/100\n",
      "363/363 [==============================] - 0s 1ms/step - loss: 0.3170 - dense_2_loss: 0.3118 - dense_3_loss: 0.3643 - dense_2_root_mean_squared_error: 0.5584 - dense_3_root_mean_squared_error: 0.6036 - val_loss: 2.3428 - val_dense_2_loss: 2.3415 - val_dense_3_loss: 2.3554 - val_dense_2_root_mean_squared_error: 1.5302 - val_dense_3_root_mean_squared_error: 1.5347\n",
      "Epoch 6/100\n",
      "363/363 [==============================] - 0s 1ms/step - loss: 0.3306 - dense_2_loss: 0.3248 - dense_3_loss: 0.3824 - dense_2_root_mean_squared_error: 0.5699 - dense_3_root_mean_squared_error: 0.6184 - val_loss: 0.8207 - val_dense_2_loss: 0.8276 - val_dense_3_loss: 0.7595 - val_dense_2_root_mean_squared_error: 0.9097 - val_dense_3_root_mean_squared_error: 0.8715\n",
      "Epoch 7/100\n",
      "363/363 [==============================] - 0s 1ms/step - loss: 0.3133 - dense_2_loss: 0.3079 - dense_3_loss: 0.3618 - dense_2_root_mean_squared_error: 0.5549 - dense_3_root_mean_squared_error: 0.6015 - val_loss: 0.3255 - val_dense_2_loss: 0.3207 - val_dense_3_loss: 0.3684 - val_dense_2_root_mean_squared_error: 0.5663 - val_dense_3_root_mean_squared_error: 0.6070\n",
      "Epoch 8/100\n",
      "363/363 [==============================] - 0s 1ms/step - loss: 0.3092 - dense_2_loss: 0.3038 - dense_3_loss: 0.3582 - dense_2_root_mean_squared_error: 0.5511 - dense_3_root_mean_squared_error: 0.5985 - val_loss: 0.4282 - val_dense_2_loss: 0.4180 - val_dense_3_loss: 0.5199 - val_dense_2_root_mean_squared_error: 0.6465 - val_dense_3_root_mean_squared_error: 0.7211\n",
      "Epoch 9/100\n",
      "363/363 [==============================] - 0s 1ms/step - loss: 0.3077 - dense_2_loss: 0.3024 - dense_3_loss: 0.3560 - dense_2_root_mean_squared_error: 0.5499 - dense_3_root_mean_squared_error: 0.5967 - val_loss: 0.3019 - val_dense_2_loss: 0.2953 - val_dense_3_loss: 0.3620 - val_dense_2_root_mean_squared_error: 0.5434 - val_dense_3_root_mean_squared_error: 0.6017\n",
      "Epoch 10/100\n",
      "363/363 [==============================] - 0s 1ms/step - loss: 0.3104 - dense_2_loss: 0.3050 - dense_3_loss: 0.3587 - dense_2_root_mean_squared_error: 0.5523 - dense_3_root_mean_squared_error: 0.5989 - val_loss: 0.3920 - val_dense_2_loss: 0.3748 - val_dense_3_loss: 0.5469 - val_dense_2_root_mean_squared_error: 0.6122 - val_dense_3_root_mean_squared_error: 0.7395\n",
      "Epoch 11/100\n",
      "363/363 [==============================] - 0s 1ms/step - loss: 0.3058 - dense_2_loss: 0.3005 - dense_3_loss: 0.3535 - dense_2_root_mean_squared_error: 0.5481 - dense_3_root_mean_squared_error: 0.5945 - val_loss: 0.3018 - val_dense_2_loss: 0.2941 - val_dense_3_loss: 0.3716 - val_dense_2_root_mean_squared_error: 0.5423 - val_dense_3_root_mean_squared_error: 0.6096\n",
      "Epoch 12/100\n",
      "363/363 [==============================] - 0s 1ms/step - loss: 0.3073 - dense_2_loss: 0.3020 - dense_3_loss: 0.3545 - dense_2_root_mean_squared_error: 0.5496 - dense_3_root_mean_squared_error: 0.5954 - val_loss: 0.7059 - val_dense_2_loss: 0.6960 - val_dense_3_loss: 0.7950 - val_dense_2_root_mean_squared_error: 0.8343 - val_dense_3_root_mean_squared_error: 0.8916\n",
      "Epoch 13/100\n",
      "363/363 [==============================] - 0s 1ms/step - loss: 0.3076 - dense_2_loss: 0.3024 - dense_3_loss: 0.3546 - dense_2_root_mean_squared_error: 0.5499 - dense_3_root_mean_squared_error: 0.5955 - val_loss: 0.3171 - val_dense_2_loss: 0.3129 - val_dense_3_loss: 0.3550 - val_dense_2_root_mean_squared_error: 0.5594 - val_dense_3_root_mean_squared_error: 0.5959\n",
      "Epoch 14/100\n",
      "363/363 [==============================] - 0s 1ms/step - loss: 0.3055 - dense_2_loss: 0.3003 - dense_3_loss: 0.3520 - dense_2_root_mean_squared_error: 0.5480 - dense_3_root_mean_squared_error: 0.5933 - val_loss: 0.3367 - val_dense_2_loss: 0.3283 - val_dense_3_loss: 0.4126 - val_dense_2_root_mean_squared_error: 0.5730 - val_dense_3_root_mean_squared_error: 0.6424\n",
      "Epoch 15/100\n",
      "363/363 [==============================] - 0s 1ms/step - loss: 0.3056 - dense_2_loss: 0.3005 - dense_3_loss: 0.3514 - dense_2_root_mean_squared_error: 0.5482 - dense_3_root_mean_squared_error: 0.5928 - val_loss: 0.3134 - val_dense_2_loss: 0.3090 - val_dense_3_loss: 0.3524 - val_dense_2_root_mean_squared_error: 0.5559 - val_dense_3_root_mean_squared_error: 0.5936\n",
      "Epoch 16/100\n",
      "363/363 [==============================] - 0s 1ms/step - loss: 0.3039 - dense_2_loss: 0.2987 - dense_3_loss: 0.3503 - dense_2_root_mean_squared_error: 0.5466 - dense_3_root_mean_squared_error: 0.5919 - val_loss: 0.4266 - val_dense_2_loss: 0.4284 - val_dense_3_loss: 0.4098 - val_dense_2_root_mean_squared_error: 0.6545 - val_dense_3_root_mean_squared_error: 0.6401\n",
      "Epoch 17/100\n",
      "363/363 [==============================] - 0s 1ms/step - loss: 0.3055 - dense_2_loss: 0.3004 - dense_3_loss: 0.3518 - dense_2_root_mean_squared_error: 0.5481 - dense_3_root_mean_squared_error: 0.5932 - val_loss: 0.3882 - val_dense_2_loss: 0.3922 - val_dense_3_loss: 0.3515 - val_dense_2_root_mean_squared_error: 0.6263 - val_dense_3_root_mean_squared_error: 0.5929\n",
      "Epoch 18/100\n",
      "363/363 [==============================] - 1s 3ms/step - loss: 0.3008 - dense_2_loss: 0.2956 - dense_3_loss: 0.3473 - dense_2_root_mean_squared_error: 0.5437 - dense_3_root_mean_squared_error: 0.5893 - val_loss: 0.3213 - val_dense_2_loss: 0.3085 - val_dense_3_loss: 0.4366 - val_dense_2_root_mean_squared_error: 0.5554 - val_dense_3_root_mean_squared_error: 0.6608\n",
      "Epoch 19/100\n",
      "363/363 [==============================] - 0s 1ms/step - loss: 0.3019 - dense_2_loss: 0.2971 - dense_3_loss: 0.3453 - dense_2_root_mean_squared_error: 0.5450 - dense_3_root_mean_squared_error: 0.5876 - val_loss: 0.3629 - val_dense_2_loss: 0.3537 - val_dense_3_loss: 0.4453 - val_dense_2_root_mean_squared_error: 0.5948 - val_dense_3_root_mean_squared_error: 0.6673\n",
      "Epoch 20/100\n",
      "363/363 [==============================] - 0s 1ms/step - loss: 0.3017 - dense_2_loss: 0.2968 - dense_3_loss: 0.3458 - dense_2_root_mean_squared_error: 0.5448 - dense_3_root_mean_squared_error: 0.5881 - val_loss: 0.3446 - val_dense_2_loss: 0.3255 - val_dense_3_loss: 0.5163 - val_dense_2_root_mean_squared_error: 0.5705 - val_dense_3_root_mean_squared_error: 0.7185\n",
      "Epoch 21/100\n",
      "363/363 [==============================] - 0s 1ms/step - loss: 0.3000 - dense_2_loss: 0.2952 - dense_3_loss: 0.3431 - dense_2_root_mean_squared_error: 0.5433 - dense_3_root_mean_squared_error: 0.5857 - val_loss: 0.5151 - val_dense_2_loss: 0.4941 - val_dense_3_loss: 0.7044 - val_dense_2_root_mean_squared_error: 0.7029 - val_dense_3_root_mean_squared_error: 0.8393\n"
     ]
    }
   ],
   "source": [
    "early_stopping_cb = tf.keras.callbacks.EarlyStopping(patience=10,\n",
    "                                                     restore_best_weights=True)\n",
    "history = model.fit(\n",
    "    (X_train_wide, X_train_deep), (y_train, y_train), epochs=100,\n",
    "    validation_data=((X_valid_wide, X_valid_deep), (y_valid, y_valid)),\n",
    "    callbacks=[checkpoint_cb, early_stopping_cb])"
   ]
  },
  {
   "cell_type": "code",
   "execution_count": 91,
   "id": "2aee5545-16b1-4ab3-ae2b-6e832cdd0db4",
   "metadata": {},
   "outputs": [],
   "source": [
    "class PrintValTrainRatioCallback(tf.keras.callbacks.Callback):\n",
    "    def on_epoch_end(self, epoch, logs):\n",
    "        ratio = logs[\"val_loss\"] / logs[\"loss\"]\n",
    "        print(f\"Epoch={epoch}, val/train={ratio:.2f}\")"
   ]
  },
  {
   "cell_type": "code",
   "execution_count": 92,
   "id": "c98bef21-5796-4c55-b5eb-684732ef607b",
   "metadata": {},
   "outputs": [
    {
     "name": "stdout",
     "output_type": "stream",
     "text": [
      "Epoch=0, val/train=1.67\n",
      "Epoch=1, val/train=1.62\n",
      "Epoch=2, val/train=1.00\n",
      "Epoch=3, val/train=1.03\n",
      "Epoch=4, val/train=1.10\n",
      "Epoch=5, val/train=1.02\n",
      "Epoch=6, val/train=1.03\n",
      "Epoch=7, val/train=2.25\n",
      "Epoch=8, val/train=1.54\n",
      "Epoch=9, val/train=5.41\n"
     ]
    }
   ],
   "source": [
    "val_train_ratio_cb = PrintValTrainRatioCallback()\n",
    "history = model.fit(\n",
    "    (X_train_wide, X_train_deep), (y_train, y_train), epochs=10,\n",
    "    validation_data=((X_valid_wide, X_valid_deep), (y_valid, y_valid)),\n",
    "    callbacks=[val_train_ratio_cb], verbose=0)"
   ]
  },
  {
   "cell_type": "markdown",
   "id": "70d5ed05-163c-4229-b224-fd78fbccb60f",
   "metadata": {},
   "source": [
    "## Using TensorBoard for Visualization"
   ]
  },
  {
   "cell_type": "markdown",
   "id": "1614736a-3564-48d6-9551-8b4f3c85c074",
   "metadata": {},
   "source": [
    "TensorBoard is preinstalled on Colab, but not the `tensorboard-plugin-profile`, so let's install it:"
   ]
  },
  {
   "cell_type": "code",
   "execution_count": 93,
   "id": "d2db48f9-9ce5-43be-ad98-d4ac8344a784",
   "metadata": {
    "tags": []
   },
   "outputs": [
    {
     "name": "stdout",
     "output_type": "stream",
     "text": [
      "Note: you may need to restart the kernel to use updated packages.\n"
     ]
    }
   ],
   "source": [
    "%pip install -q -U tensorboard-plugin-profile"
   ]
  },
  {
   "cell_type": "code",
   "execution_count": 94,
   "id": "85c3717a-2ca0-44ea-b8a7-721fe51449bd",
   "metadata": {
    "tags": []
   },
   "outputs": [],
   "source": [
    "shutil.rmtree(\"my_logs\", ignore_errors=True)"
   ]
  },
  {
   "cell_type": "code",
   "execution_count": 95,
   "id": "48f97eae-e714-4382-8a7d-78d2ee32d1ef",
   "metadata": {
    "tags": []
   },
   "outputs": [],
   "source": [
    "from pathlib import Path\n",
    "from time import strftime\n",
    "\n",
    "def get_run_logdir(root_logdir=\"my_logs\"):\n",
    "    return Path(root_logdir) / strftime(\"run_%Y_%m_%d_%H_%M_%S\")\n",
    "\n",
    "run_logdir = get_run_logdir()"
   ]
  },
  {
   "cell_type": "code",
   "execution_count": 96,
   "id": "d7d283b9-0e2e-43fb-96be-6987ff615bab",
   "metadata": {
    "tags": []
   },
   "outputs": [],
   "source": [
    "# builds the first regression model we used earlier\n",
    "tf.keras.backend.clear_session()\n",
    "tf.random.set_seed(42)\n",
    "norm_layer = tf.keras.layers.Normalization(input_shape=X_train.shape[1:])\n",
    "model = tf.keras.Sequential([\n",
    "    norm_layer,\n",
    "    tf.keras.layers.Dense(30, activation=\"relu\"),\n",
    "    tf.keras.layers.Dense(30, activation=\"relu\"),\n",
    "    tf.keras.layers.Dense(1)\n",
    "])\n",
    "optimizer = tf.keras.optimizers.SGD(learning_rate=1e-3)\n",
    "model.compile(loss=\"mse\", optimizer=optimizer, metrics=[\"RootMeanSquaredError\"])\n",
    "norm_layer.adapt(X_train)"
   ]
  },
  {
   "cell_type": "code",
   "execution_count": 97,
   "id": "ebb68348-3511-483e-b847-5c5e92375188",
   "metadata": {
    "tags": []
   },
   "outputs": [
    {
     "name": "stdout",
     "output_type": "stream",
     "text": [
      "Epoch 1/20\n"
     ]
    },
    {
     "name": "stderr",
     "output_type": "stream",
     "text": [
      "2024-06-12 18:08:42.435300: I external/local_tsl/tsl/profiler/lib/profiler_session.cc:104] Profiler session initializing.\n",
      "2024-06-12 18:08:42.435331: I external/local_tsl/tsl/profiler/lib/profiler_session.cc:119] Profiler session started.\n",
      "2024-06-12 18:08:42.437574: I external/local_tsl/tsl/profiler/lib/profiler_session.cc:131] Profiler session tear down.\n"
     ]
    },
    {
     "name": "stdout",
     "output_type": "stream",
     "text": [
      "274/363 [=====================>........] - ETA: 0s - loss: 2.2713 - root_mean_squared_error: 1.5071"
     ]
    },
    {
     "name": "stderr",
     "output_type": "stream",
     "text": [
      "2024-06-12 18:08:42.787835: I external/local_tsl/tsl/profiler/lib/profiler_session.cc:104] Profiler session initializing.\n",
      "2024-06-12 18:08:42.787867: I external/local_tsl/tsl/profiler/lib/profiler_session.cc:119] Profiler session started.\n",
      "2024-06-12 18:08:42.881490: I external/local_tsl/tsl/profiler/lib/profiler_session.cc:70] Profiler session collecting data.\n",
      "2024-06-12 18:08:42.890418: I external/local_tsl/tsl/profiler/lib/profiler_session.cc:131] Profiler session tear down.\n",
      "2024-06-12 18:08:42.892755: I external/local_tsl/tsl/profiler/rpc/client/save_profile.cc:144] Collecting XSpace to repository: my_logs/run_2024_06_12_18_08_36/plugins/profile/2024_06_12_18_08_42/tuxedo-laptop.xplane.pb\n"
     ]
    },
    {
     "name": "stdout",
     "output_type": "stream",
     "text": [
      "363/363 [==============================] - 1s 1ms/step - loss: 1.9300 - root_mean_squared_error: 1.3892 - val_loss: 2.1967 - val_root_mean_squared_error: 1.4821\n",
      "Epoch 2/20\n",
      "363/363 [==============================] - 0s 1ms/step - loss: 0.7716 - root_mean_squared_error: 0.8784 - val_loss: 0.7866 - val_root_mean_squared_error: 0.8869\n",
      "Epoch 3/20\n",
      "363/363 [==============================] - 0s 1ms/step - loss: 0.6561 - root_mean_squared_error: 0.8100 - val_loss: 0.6235 - val_root_mean_squared_error: 0.7896\n",
      "Epoch 4/20\n",
      "363/363 [==============================] - 0s 1ms/step - loss: 0.5931 - root_mean_squared_error: 0.7701 - val_loss: 0.5558 - val_root_mean_squared_error: 0.7455\n",
      "Epoch 5/20\n",
      "363/363 [==============================] - 0s 1ms/step - loss: 0.5485 - root_mean_squared_error: 0.7406 - val_loss: 0.5114 - val_root_mean_squared_error: 0.7151\n",
      "Epoch 6/20\n",
      "363/363 [==============================] - 0s 1ms/step - loss: 0.5125 - root_mean_squared_error: 0.7159 - val_loss: 0.4875 - val_root_mean_squared_error: 0.6982\n",
      "Epoch 7/20\n",
      "363/363 [==============================] - 0s 1ms/step - loss: 0.4869 - root_mean_squared_error: 0.6978 - val_loss: 0.4546 - val_root_mean_squared_error: 0.6742\n",
      "Epoch 8/20\n",
      "363/363 [==============================] - 1s 2ms/step - loss: 0.4666 - root_mean_squared_error: 0.6831 - val_loss: 0.4491 - val_root_mean_squared_error: 0.6701\n",
      "Epoch 9/20\n",
      "363/363 [==============================] - 0s 1ms/step - loss: 0.4507 - root_mean_squared_error: 0.6714 - val_loss: 0.4505 - val_root_mean_squared_error: 0.6712\n",
      "Epoch 10/20\n",
      "363/363 [==============================] - 0s 1ms/step - loss: 0.4392 - root_mean_squared_error: 0.6627 - val_loss: 0.4355 - val_root_mean_squared_error: 0.6599\n",
      "Epoch 11/20\n",
      "363/363 [==============================] - 0s 1ms/step - loss: 0.4299 - root_mean_squared_error: 0.6556 - val_loss: 0.4279 - val_root_mean_squared_error: 0.6541\n",
      "Epoch 12/20\n",
      "363/363 [==============================] - 0s 1ms/step - loss: 0.4225 - root_mean_squared_error: 0.6500 - val_loss: 0.4475 - val_root_mean_squared_error: 0.6689\n",
      "Epoch 13/20\n",
      "363/363 [==============================] - 0s 1ms/step - loss: 0.4169 - root_mean_squared_error: 0.6457 - val_loss: 0.4353 - val_root_mean_squared_error: 0.6598\n",
      "Epoch 14/20\n",
      "363/363 [==============================] - 0s 1ms/step - loss: 0.4121 - root_mean_squared_error: 0.6419 - val_loss: 0.4130 - val_root_mean_squared_error: 0.6427\n",
      "Epoch 15/20\n",
      "363/363 [==============================] - 0s 1ms/step - loss: 0.4078 - root_mean_squared_error: 0.6386 - val_loss: 0.4362 - val_root_mean_squared_error: 0.6605\n",
      "Epoch 16/20\n",
      "363/363 [==============================] - 0s 1ms/step - loss: 0.4043 - root_mean_squared_error: 0.6358 - val_loss: 0.4038 - val_root_mean_squared_error: 0.6355\n",
      "Epoch 17/20\n",
      "363/363 [==============================] - 0s 1ms/step - loss: 0.4010 - root_mean_squared_error: 0.6333 - val_loss: 0.4563 - val_root_mean_squared_error: 0.6755\n",
      "Epoch 18/20\n",
      "363/363 [==============================] - 0s 1ms/step - loss: 0.3985 - root_mean_squared_error: 0.6313 - val_loss: 0.4366 - val_root_mean_squared_error: 0.6607\n",
      "Epoch 19/20\n",
      "363/363 [==============================] - 0s 1ms/step - loss: 0.3955 - root_mean_squared_error: 0.6289 - val_loss: 0.4093 - val_root_mean_squared_error: 0.6398\n",
      "Epoch 20/20\n",
      "363/363 [==============================] - 0s 1ms/step - loss: 0.3933 - root_mean_squared_error: 0.6272 - val_loss: 0.5084 - val_root_mean_squared_error: 0.7130\n"
     ]
    }
   ],
   "source": [
    "tensorboard_cb = tf.keras.callbacks.TensorBoard(run_logdir,\n",
    "                                                profile_batch=(100, 200))\n",
    "history = model.fit(X_train, y_train, epochs=20,\n",
    "                    validation_data=(X_valid, y_valid),\n",
    "                    callbacks=[tensorboard_cb])"
   ]
  },
  {
   "cell_type": "code",
   "execution_count": 98,
   "id": "8ce4d586-1305-47d5-9e08-c77646dd890e",
   "metadata": {
    "tags": []
   },
   "outputs": [
    {
     "name": "stdout",
     "output_type": "stream",
     "text": [
      "my_logs\n",
      "  run_2024_06_12_18_08_36\n",
      "    plugins\n",
      "      profile\n",
      "        2024_06_12_18_08_42\n",
      "          tuxedo-laptop.xplane.pb\n",
      "    train\n",
      "      events.out.tfevents.1718208522.tuxedo-laptop.2059237.0.v2\n",
      "    validation\n",
      "      events.out.tfevents.1718208523.tuxedo-laptop.2059237.1.v2\n"
     ]
    }
   ],
   "source": [
    "print(\"my_logs\")\n",
    "for path in sorted(Path(\"my_logs\").glob(\"**/*\")):\n",
    "    print(\"  \" * (len(path.parts) - 1) + path.parts[-1])"
   ]
  },
  {
   "cell_type": "markdown",
   "id": "4d62eac5-02d9-41a1-a67a-a4d682c1230b",
   "metadata": {},
   "source": [
    "Let's load the `tensorboard` Jupyter extension and start the TensorBoard server: "
   ]
  },
  {
   "cell_type": "code",
   "execution_count": 99,
   "id": "5c27eb89-1868-45ac-8177-9b1c672813f6",
   "metadata": {
    "tags": []
   },
   "outputs": [
    {
     "data": {
      "text/html": [
       "\n",
       "      <iframe id=\"tensorboard-frame-aa873adebaf2e678\" width=\"100%\" height=\"800\" frameborder=\"0\">\n",
       "      </iframe>\n",
       "      <script>\n",
       "        (function() {\n",
       "          const frame = document.getElementById(\"tensorboard-frame-aa873adebaf2e678\");\n",
       "          const url = new URL(\"/\", window.location);\n",
       "          const port = 6006;\n",
       "          if (port) {\n",
       "            url.port = port;\n",
       "          }\n",
       "          frame.src = url;\n",
       "        })();\n",
       "      </script>\n",
       "    "
      ],
      "text/plain": [
       "<IPython.core.display.HTML object>"
      ]
     },
     "metadata": {},
     "output_type": "display_data"
    }
   ],
   "source": [
    "%load_ext tensorboard\n",
    "%tensorboard --logdir=./my_logs"
   ]
  },
  {
   "cell_type": "markdown",
   "id": "5141f3e8-82e4-40b5-ae1d-1df00f291515",
   "metadata": {},
   "source": [
    "**Note**: if you prefer to access TensorBoard in a separate tab, click the \"localhost:6006\" link below:"
   ]
  },
  {
   "cell_type": "code",
   "execution_count": 100,
   "id": "22c564ae-bba8-4975-84df-fe3182b565d7",
   "metadata": {
    "tags": []
   },
   "outputs": [
    {
     "data": {
      "text/html": [
       "<a href=\"http://localhost:6006/\">http://localhost:6006/</a>"
      ],
      "text/plain": [
       "<IPython.core.display.HTML object>"
      ]
     },
     "metadata": {},
     "output_type": "display_data"
    }
   ],
   "source": [
    "from IPython.display import display, HTML\n",
    "\n",
    "display(HTML('<a href=\"http://localhost:6006/\">http://localhost:6006/</a>'))"
   ]
  },
  {
   "cell_type": "markdown",
   "id": "867a12eb-df06-4594-857e-fac3b736af08",
   "metadata": {},
   "source": [
    "You can use also visualize histograms, images, text, and even listen to audio using TensorBoard:"
   ]
  },
  {
   "cell_type": "code",
   "execution_count": 101,
   "id": "6cc685c2-121e-4a7c-a78d-3895ff9d56cc",
   "metadata": {
    "tags": []
   },
   "outputs": [],
   "source": [
    "test_logdir = get_run_logdir()\n",
    "writer = tf.summary.create_file_writer(str(test_logdir))\n",
    "with writer.as_default():\n",
    "    for step in range(1, 1000 + 1):\n",
    "        tf.summary.scalar(\"my_scalar\", np.sin(step / 10), step=step)\n",
    "\n",
    "        data = (np.random.randn(100) + 2) * step / 100  # gets larger\n",
    "        tf.summary.histogram(\"my_hist\", data, buckets=50, step=step)\n",
    "\n",
    "        images = np.random.rand(2, 32, 32, 3) * step / 1000  # gets brighter\n",
    "        tf.summary.image(\"my_images\", images, step=step)\n",
    "\n",
    "        texts = [\"The step is \" + str(step), \"Its square is \" + str(step ** 2)]\n",
    "        tf.summary.text(\"my_text\", texts, step=step)\n",
    "\n",
    "        sine_wave = tf.math.sin(tf.range(12000) / 48000 * 2 * np.pi * step)\n",
    "        audio = tf.reshape(tf.cast(sine_wave, tf.float32), [1, -1, 1])\n",
    "        tf.summary.audio(\"my_audio\", audio, sample_rate=48000, step=step)"
   ]
  },
  {
   "cell_type": "markdown",
   "id": "90f7bfa0-07e5-4176-a06d-781658e361e3",
   "metadata": {},
   "source": [
    "You can share your TensorBoard logs with the world by uploading them to https://tensorboard.dev/. For this, you can run the `tensorboard dev upload` command, with the `--logdir` and `--one_shot` options, and optionally the `--name` and `--description` options. The first time, it will ask you to accept Google's Terms of Service, and to authenticate.\n",
    "\n",
    "Notes:\n",
    "* Authenticating requires user input. Colab supports user input from shell commands, but the main other Jupyter environments do not, so for them we use a hackish workaround (alternatively, you could run the command in a terminal window, after you make sure to activate this project's conda environment and move to this notebook's directory).\n",
    "* If you get an authentication related error (such as *invalid_grant: Bad Request*), it's likely that your login session has expired. In this case, try running the command `tensorboard dev auth revoke` to logout, and try again."
   ]
  },
  {
   "cell_type": "markdown",
   "id": "3eb94d70-9233-451c-9fd6-b9c9ac1fed9b",
   "metadata": {},
   "source": [
    "When you stop this Jupyter kernel (a.k.a. Runtime), it will automatically stop the TensorBoard server as well. Another way to stop the TensorBoard server is to kill it, if you are running on Linux or MacOSX. First, you need to find its process ID:"
   ]
  },
  {
   "cell_type": "code",
   "execution_count": 102,
   "id": "cee37e09-8356-4d38-92b9-7b06614f9a69",
   "metadata": {
    "tags": []
   },
   "outputs": [
    {
     "name": "stdout",
     "output_type": "stream",
     "text": [
      "Known TensorBoard instances:\n",
      "  - port 6006: logdir ./my_logs (started 0:00:40 ago; pid 2338191)\n"
     ]
    }
   ],
   "source": [
    "from tensorboard import notebook\n",
    "\n",
    "notebook.list()"
   ]
  },
  {
   "cell_type": "markdown",
   "id": "1fc5305d-13a8-4022-a386-2d329b339614",
   "metadata": {},
   "source": [
    "Next you can use the following command on Linux or MacOSX, replacing `<pid>` with the pid listed above:\n",
    "\n",
    "    !kill <pid>\n",
    "\n",
    "On Windows:\n",
    "\n",
    "    !taskkill /F /PID <pid>"
   ]
  },
  {
   "cell_type": "markdown",
   "id": "c64890a4-5a60-417e-94a9-65278c8170cf",
   "metadata": {},
   "source": [
    "# Fine-Tuning Neural Network Hyperparameters"
   ]
  },
  {
   "cell_type": "markdown",
   "id": "48f1b88f-52c3-48b2-a6f7-2389611b0acc",
   "metadata": {},
   "source": [
    "In this section we'll use the Fashion MNIST dataset again:"
   ]
  },
  {
   "cell_type": "code",
   "execution_count": null,
   "id": "50187c7d-cbfb-4c85-bdc2-2a68d26a262e",
   "metadata": {
    "tags": []
   },
   "outputs": [],
   "source": [
    "(X_train_full, y_train_full), (X_test, y_test) = fashion_mnist\n",
    "X_train, y_train = X_train_full[:-5000], y_train_full[:-5000]\n",
    "X_valid, y_valid = X_train_full[-5000:], y_train_full[-5000:]\n",
    "\n",
    "tf.keras.backend.clear_session()\n",
    "tf.random.set_seed(42)"
   ]
  },
  {
   "cell_type": "markdown",
   "id": "7f38da98-93ff-4b52-83a8-eb515a144e8f",
   "metadata": {},
   "source": [
    "## Model Hyperparameters"
   ]
  },
  {
   "cell_type": "code",
   "execution_count": 105,
   "id": "5cc27718-6c12-41d5-800f-149b884d0b5a",
   "metadata": {
    "tags": []
   },
   "outputs": [
    {
     "name": "stdout",
     "output_type": "stream",
     "text": [
      "Note: you may need to restart the kernel to use updated packages.\n"
     ]
    }
   ],
   "source": [
    "%pip install -q -U keras_tuner"
   ]
  },
  {
   "cell_type": "code",
   "execution_count": 106,
   "id": "3ff680e6-b3a6-4f0f-ae67-e6095d3dcafe",
   "metadata": {
    "tags": []
   },
   "outputs": [],
   "source": [
    "import keras_tuner as kt\n",
    "\n",
    "def build_model(hp : kt.HyperParameters):\n",
    "    n_hidden = hp.Int(\"n_hidden\", min_value=0, max_value=8, default=2)\n",
    "    n_neurons = hp.Int(\"n_neurons\", min_value=16, max_value=256)\n",
    "    learning_rate = hp.Float(\"learning_rate\", min_value=1e-4, max_value=1e-2,\n",
    "                             sampling=\"log\")\n",
    "    optimizer = hp.Choice(\"optimizer\", values=[\"sgd\", \"adam\"])\n",
    "    if optimizer == \"sgd\":\n",
    "        optimizer = tf.keras.optimizers.SGD(learning_rate=learning_rate)\n",
    "    else:\n",
    "        optimizer = tf.keras.optimizers.Adam(learning_rate=learning_rate)\n",
    "\n",
    "    model = tf.keras.Sequential()\n",
    "    model.add(tf.keras.layers.Flatten())\n",
    "    for _ in range(n_hidden):\n",
    "        model.add(tf.keras.layers.Dense(n_neurons, activation=\"relu\"))\n",
    "    model.add(tf.keras.layers.Dense(10, activation=\"softmax\"))\n",
    "    model.compile(loss=\"sparse_categorical_crossentropy\", optimizer=optimizer,\n",
    "                  metrics=[\"accuracy\"])\n",
    "    return model"
   ]
  },
  {
   "cell_type": "code",
   "execution_count": 107,
   "id": "845588dc-e6d3-4782-a23c-676e17d0613c",
   "metadata": {
    "tags": []
   },
   "outputs": [
    {
     "name": "stdout",
     "output_type": "stream",
     "text": [
      "Trial 5 Complete [00h 00m 21s]\n",
      "val_accuracy: 0.8456000089645386\n",
      "\n",
      "Best val_accuracy So Far: 0.8651999831199646\n",
      "Total elapsed time: 00h 01m 48s\n"
     ]
    }
   ],
   "source": [
    "random_search_tuner = kt.RandomSearch(\n",
    "    build_model, objective=\"val_accuracy\", max_trials=5, overwrite=True,\n",
    "    directory=\"my_fashion_mnist\", project_name=\"my_rnd_search\", seed=42)\n",
    "random_search_tuner.search(X_train, y_train, epochs=10,\n",
    "                           validation_data=(X_valid, y_valid))"
   ]
  },
  {
   "cell_type": "code",
   "execution_count": 108,
   "id": "814720b5-1e9d-46ee-971c-9ec98352f420",
   "metadata": {
    "tags": []
   },
   "outputs": [],
   "source": [
    "top3_models = random_search_tuner.get_best_models(num_models=3)\n",
    "best_model = top3_models[0]"
   ]
  },
  {
   "cell_type": "code",
   "execution_count": 109,
   "id": "d83a52b4-abb9-4e2a-9b86-4cd4b705c617",
   "metadata": {
    "tags": []
   },
   "outputs": [
    {
     "data": {
      "text/plain": [
       "{'n_hidden': 7,\n",
       " 'n_neurons': 100,\n",
       " 'learning_rate': 0.0012482904754698163,\n",
       " 'optimizer': 'sgd'}"
      ]
     },
     "execution_count": 109,
     "metadata": {},
     "output_type": "execute_result"
    }
   ],
   "source": [
    "top3_params = random_search_tuner.get_best_hyperparameters(num_trials=3)\n",
    "top3_params[0].values  # best hyperparameter values"
   ]
  },
  {
   "cell_type": "code",
   "execution_count": 110,
   "id": "07f86e78-4cb1-464f-b7aa-bca8fbb5dc74",
   "metadata": {
    "tags": []
   },
   "outputs": [
    {
     "name": "stdout",
     "output_type": "stream",
     "text": [
      "Trial 1 summary\n",
      "Hyperparameters:\n",
      "n_hidden: 7\n",
      "n_neurons: 100\n",
      "learning_rate: 0.0012482904754698163\n",
      "optimizer: sgd\n",
      "Score: 0.8651999831199646\n"
     ]
    }
   ],
   "source": [
    "best_trial = random_search_tuner.oracle.get_best_trials(num_trials=1)[0]\n",
    "best_trial.summary()"
   ]
  },
  {
   "cell_type": "code",
   "execution_count": 111,
   "id": "0f3f3d8c-8a44-478c-892a-85329003f33f",
   "metadata": {},
   "outputs": [
    {
     "data": {
      "text/plain": [
       "0.8651999831199646"
      ]
     },
     "execution_count": 111,
     "metadata": {},
     "output_type": "execute_result"
    }
   ],
   "source": [
    "best_trial.metrics.get_last_value(\"val_accuracy\")"
   ]
  },
  {
   "cell_type": "code",
   "execution_count": 112,
   "id": "f6179aee-ebe8-486b-b405-64d81909fb08",
   "metadata": {},
   "outputs": [
    {
     "name": "stdout",
     "output_type": "stream",
     "text": [
      "Epoch 1/10\n",
      "1875/1875 [==============================] - 3s 1ms/step - loss: 0.3266 - accuracy: 0.8794\n",
      "Epoch 2/10\n",
      "1875/1875 [==============================] - 2s 1ms/step - loss: 0.3166 - accuracy: 0.8827\n",
      "Epoch 3/10\n",
      "1875/1875 [==============================] - 3s 1ms/step - loss: 0.3068 - accuracy: 0.8872\n",
      "Epoch 4/10\n",
      "1875/1875 [==============================] - 2s 1ms/step - loss: 0.2987 - accuracy: 0.8898\n",
      "Epoch 5/10\n",
      "1875/1875 [==============================] - 2s 1ms/step - loss: 0.2923 - accuracy: 0.8919\n",
      "Epoch 6/10\n",
      "1875/1875 [==============================] - 3s 1ms/step - loss: 0.2838 - accuracy: 0.8942\n",
      "Epoch 7/10\n",
      "1875/1875 [==============================] - 2s 1ms/step - loss: 0.2781 - accuracy: 0.8961\n",
      "Epoch 8/10\n",
      "1875/1875 [==============================] - 2s 1ms/step - loss: 0.2721 - accuracy: 0.8990\n",
      "Epoch 9/10\n",
      "1875/1875 [==============================] - 3s 1ms/step - loss: 0.2657 - accuracy: 0.9003\n",
      "Epoch 10/10\n",
      "1875/1875 [==============================] - 2s 1ms/step - loss: 0.2611 - accuracy: 0.9031\n",
      "313/313 [==============================] - 0s 803us/step - loss: 0.4101 - accuracy: 0.8638\n"
     ]
    }
   ],
   "source": [
    "best_model.fit(X_train_full, y_train_full, epochs=10)\n",
    "test_loss, test_accuracy = best_model.evaluate(X_test, y_test)"
   ]
  },
  {
   "cell_type": "markdown",
   "id": "ea0b0c5b-73c9-4b96-af9d-41523b8c5c63",
   "metadata": {},
   "source": [
    "\n",
    "## Preprocessing Hyperparameters  \n",
    "\n",
    "- subclass _kt.HyperModel_\n",
    "- use build and fit method"
   ]
  },
  {
   "cell_type": "code",
   "execution_count": 113,
   "id": "6a1ba853-07f9-4595-8ba8-6e81ac6dff3d",
   "metadata": {
    "tags": []
   },
   "outputs": [],
   "source": [
    "class MyClassificationHyperModel(kt.HyperModel):\n",
    "    def build(self, hp):\n",
    "        return build_model(hp)\n",
    "\n",
    "    def fit(self, hp, model, X, y, **kwargs):\n",
    "        if hp.Boolean(\"normalize\"):\n",
    "            norm_layer = tf.keras.layers.Normalization()\n",
    "            X = norm_layer(X)\n",
    "        return model.fit(X, y, **kwargs)"
   ]
  },
  {
   "cell_type": "markdown",
   "id": "7eb0079a-9aa6-4c64-9d9a-6d8a31d37c65",
   "metadata": {},
   "source": [
    "Hyperband trains many different models for few epochs and keeps only the 1/factor best ones.\n",
    "The best model gets trained for max_epochs."
   ]
  },
  {
   "cell_type": "code",
   "execution_count": 116,
   "id": "7e599cb7-f9a7-4529-8fcd-376dd30ceab7",
   "metadata": {
    "tags": []
   },
   "outputs": [],
   "source": [
    "hyperband_tuner = kt.Hyperband(\n",
    "    MyClassificationHyperModel(), objective=\"val_accuracy\", seed=42,\n",
    "    max_epochs=10, factor=3, hyperband_iterations=2,\n",
    "    overwrite=True, directory=\"my_fashion_mnist\", project_name=\"hyperband\")"
   ]
  },
  {
   "cell_type": "code",
   "execution_count": 115,
   "id": "943a39a1-d80a-443c-8444-3e055b70576d",
   "metadata": {
    "tags": []
   },
   "outputs": [
    {
     "name": "stdout",
     "output_type": "stream",
     "text": [
      "Trial 60 Complete [00h 00m 28s]\n",
      "val_accuracy: 0.8435999751091003\n",
      "\n",
      "Best val_accuracy So Far: 0.8787999749183655\n",
      "Total elapsed time: 00h 12m 09s\n"
     ]
    }
   ],
   "source": [
    "root_logdir = Path(hyperband_tuner.project_dir) / \"tensorboard\"\n",
    "tensorboard_cb = tf.keras.callbacks.TensorBoard(root_logdir)\n",
    "early_stopping_cb = tf.keras.callbacks.EarlyStopping(patience=2)\n",
    "hyperband_tuner.search(X_train, y_train, epochs=10,\n",
    "                       validation_data=(X_valid, y_valid),\n",
    "                       callbacks=[early_stopping_cb, tensorboard_cb])"
   ]
  },
  {
   "cell_type": "markdown",
   "id": "9ae195be-5cf1-41b7-b505-eb9f5003b380",
   "metadata": {},
   "source": [
    "## Exploring Search Space"
   ]
  },
  {
   "cell_type": "code",
   "execution_count": null,
   "id": "8d398617-d756-4c8a-a771-b252f3b6e869",
   "metadata": {},
   "outputs": [
    {
     "name": "stdout",
     "output_type": "stream",
     "text": [
      "Trial 4 Complete [00h 00m 21s]\n",
      "val_accuracy: 0.8492000102996826\n",
      "\n",
      "Best val_accuracy So Far: 0.8492000102996826\n",
      "Total elapsed time: 00h 01m 25s\n",
      "\n",
      "Search: Running Trial #5\n",
      "\n",
      "Value             |Best Value So Far |Hyperparameter\n",
      "4                 |8                 |n_hidden\n",
      "239               |26                |n_neurons\n",
      "0.00077674        |0.0014505         |learning_rate\n",
      "sgd               |sgd               |optimizer\n",
      "False             |False             |normalize\n",
      "\n",
      "Epoch 1/10\n",
      "1719/1719 [==============================] - 3s 2ms/step - loss: 1.1979 - accuracy: 0.7555 - val_loss: 0.5578 - val_accuracy: 0.8066\n",
      "Epoch 2/10\n",
      "1719/1719 [==============================] - 4s 2ms/step - loss: 0.4931 - accuracy: 0.8237 - val_loss: 0.4831 - val_accuracy: 0.8280\n",
      "Epoch 3/10\n",
      "1719/1719 [==============================] - 3s 2ms/step - loss: 0.4260 - accuracy: 0.8444 - val_loss: 0.4634 - val_accuracy: 0.8350\n",
      "Epoch 4/10\n",
      " 843/1719 [=============>................] - ETA: 2s - loss: 0.3874 - accuracy: 0.8598"
     ]
    }
   ],
   "source": [
    "bayesian_opt_tuner = kt.BayesianOptimization(\n",
    "    MyClassificationHyperModel(), objective=\"val_accuracy\", seed=42,\n",
    "    max_trials=10, alpha=1e-4, beta=2.6,\n",
    "    overwrite=True, directory=\"my_fashion_mnist\", project_name=\"bayesian_opt\")\n",
    "bayesian_opt_tuner.search(X_train, y_train, epochs=10,\n",
    "                          validation_data=(X_valid, y_valid),\n",
    "                          callbacks=[early_stopping_cb])"
   ]
  },
  {
   "cell_type": "code",
   "execution_count": null,
   "id": "32f7dcb9-ee74-477c-a357-6bbf6bebfc88",
   "metadata": {
    "tags": []
   },
   "outputs": [],
   "source": [
    "%tensorboard --logdir {root_logdir}"
   ]
  },
  {
   "cell_type": "markdown",
   "id": "ffa43c1b-3725-44f9-85b7-b4fc3152cd29",
   "metadata": {},
   "source": [
    "# Exercise\n"
   ]
  },
  {
   "cell_type": "markdown",
   "id": "4ffe02ef-9747-400e-827a-2ae59aef2883",
   "metadata": {},
   "source": [
    "*Exercise: Train a deep MLP on the MNIST dataset (you can load it using `tf.keras.datasets.mnist.load_data()`. See if you can get over 98% accuracy by manually tuning the hyperparameters. Try searching for the optimal learning rate by using the approach presented in this chapter (i.e., by growing the learning rate exponentially, plotting the loss, and finding the point where the loss shoots up). Next, try tuning the hyperparameters using Keras Tuner with all the bells and whistles—save checkpoints, use early stopping, and plot learning curves using TensorBoard.*"
   ]
  },
  {
   "cell_type": "code",
   "execution_count": null,
   "id": "30736858-b012-4210-aa71-cf38bc54a8b2",
   "metadata": {},
   "outputs": [],
   "source": []
  }
 ],
 "metadata": {
  "kernelspec": {
   "display_name": "Python 3 (ipykernel)",
   "language": "python",
   "name": "python3"
  },
  "language_info": {
   "codemirror_mode": {
    "name": "ipython",
    "version": 3
   },
   "file_extension": ".py",
   "mimetype": "text/x-python",
   "name": "python",
   "nbconvert_exporter": "python",
   "pygments_lexer": "ipython3",
   "version": "3.11.5"
  }
 },
 "nbformat": 4,
 "nbformat_minor": 5
}
