{
 "cells": [
  {
   "cell_type": "markdown",
   "id": "15c209f2-362b-4a5e-bb86-952b1a79e0f8",
   "metadata": {},
   "source": [
    "## Lorenz-63 and Chaos\n",
    "  \n",
    "- Lorenz-63 model is a system of ODEs that has chaotic solutions\n",
    "  - see: https://docs.dart.ucar.edu/en/latest/guide/lorenz-63-model.html  or  https://en.wikipedia.org/wiki/Lorenz_system\n",
    "- simplified mathematical representation of atmospheric convection\n",
    "- applications in various fields, including laser physics, dynamos, and even electric circuits\n",
    "- tiny changes in initial conditions yield completely different and unpredictable trajectories\n",
    "- Edward Lorenz showed that the system switches between the two lobes chaotically"
   ]
  },
  {
   "cell_type": "code",
   "execution_count": null,
   "id": "4ce5a4ca-e49f-43d3-beb4-0f974a11fed9",
   "metadata": {},
   "outputs": [],
   "source": [
    "import numpy as np\n",
    "from IPython.display import HTML, Image, display\n",
    "from matplotlib import colors\n",
    "from mpl_toolkits.mplot3d import Axes3D\n",
    "import matplotlib.pyplot as plt\n",
    "import matplotlib.animation as animation\n"
   ]
  },
  {
   "cell_type": "markdown",
   "id": "d3159365-1bb8-4c62-b21c-be4f9805acb2",
   "metadata": {
    "id": "bWtIy-ptDvsf"
   },
   "source": [
    "### Model (Task 2)\n",
    "\n",
    "Implement the numerical model for the Lorenz-63 system which is defined as a solution sequence or trajectory $\\{\\mathbf{z}_n\\}_{n\\geq0}$ via the iteration:\n",
    "  $$\n",
    "  \\mathbf{z}_{n+1}=\\Psi(\\mathbf{z}_n)=\\mathbf{z}_n+\\Delta t\\cdot f(\\mathbf{z}_n),\\quad \\text{with state variable } \\mathbf{z}_n=({x}_n,{y}_n,{z}_n)^{\\rm T},\n",
    "  $$\n",
    "  and with:\n",
    "\n",
    "  - step-size $\\Delta t = 0.01$,\n",
    "  - start position $\\mathbf{z}_0=({ x}_0,{ y}_0,{ z}_0)^{\\rm T}=\\begin{pmatrix}\n",
    "-0.587 \\\\\n",
    "-0.563 \\\\\n",
    "16.870\n",
    "\\end{pmatrix}$,\n",
    "  - vector field\n",
    "    $f(\\mathbf{z})=\n",
    "    \\begin{pmatrix}\n",
    "\\sigma({y}-{x}) \\\\\n",
    "{x}(\\rho-{z})-{y} \\\\\n",
    "{x}{y}-\\beta{z}\n",
    "\\end{pmatrix}=\n",
    "    \\begin{pmatrix}\n",
    "10({y}-{x}) \\\\\n",
    "{x}(28-{z})-{y} \\\\\n",
    "{x}{y}-\\frac83{z}\n",
    "\\end{pmatrix}$.\n"
   ]
  },
  {
   "cell_type": "markdown",
   "id": "ee2eb9b9-e2bd-4277-8696-5b063435085c",
   "metadata": {
    "id": "UIrVhp9bz-HN"
   },
   "source": [
    "#### Computation of vector field $f(z)$"
   ]
  },
  {
   "cell_type": "code",
   "execution_count": null,
   "id": "6d5def85-165f-4f34-96be-f8f279d73b74",
   "metadata": {},
   "outputs": [],
   "source": [
    "def lorenz(xyz, rho, sigma, beta):\n",
    "    \"\"\"\n",
    "    Parameters\n",
    "    xyz : array-like, shape (3,)\n",
    "       Point of interest in three-dimensional space.\n",
    "    sigma, rho, beta : float\n",
    "       Parameters defining the Lorenz attractor.\n",
    "\n",
    "    Returns:\n",
    "    xyz_dot : array, shape (3,)\n",
    "       Values of the Lorenz attractor's partial derivatives at *xyz*.\n",
    "    \"\"\"\n",
    "    x, y, z = xyz # unpack\n",
    "    x_dot = sigma * (y - x) \n",
    "    y_dot = x * (rho - z) - y \n",
    "    z_dot = x * y - beta * z \n",
    "    return np.array([x_dot, y_dot, z_dot])  # needs to be an np.array to allow for math operations on it"
   ]
  },
  {
   "cell_type": "markdown",
   "id": "29c63439-74a7-4063-9a29-49fe5ad5bbbc",
   "metadata": {
    "id": "G9tQg0HZ9uWS"
   },
   "source": [
    "#### Computation of Trajectory $\\{\\mathbf{z}_n\\}$"
   ]
  },
  {
   "cell_type": "code",
   "execution_count": null,
   "id": "7fc58f3c-cfe4-482c-ae1e-e8608d51bfb6",
   "metadata": {
    "id": "MszJsyxG8MwW"
   },
   "outputs": [],
   "source": [
    "def calculate_z(z_0, rho, sigma, beta, save_every_nstep, dt, num_steps):\n",
    "    data = []\n",
    "    zt = z_0\n",
    "    \n",
    "    # store only the observed states\n",
    "    for i in range(num_steps):\n",
    "        if i % save_every_nstep == 0:\n",
    "            data.append(zt)\n",
    "        zt = zt + dt * lorenz(zt, rho, sigma, beta) # update dynamical system\n",
    "\n",
    "    return np.array(data)  # convert list to np.array"
   ]
  },
  {
   "cell_type": "code",
   "execution_count": null,
   "id": "336ec372-6ede-4076-a83c-dc66031d0a95",
   "metadata": {},
   "outputs": [],
   "source": [
    "# time stepping\n",
    "dt = 0.01\n",
    "t_end = 10\n",
    "num_steps = int(t_end/dt)\n",
    "save_every_nstep = 2\n",
    "t = np.linspace(0, t_end, num_steps//save_every_nstep)  # '//' integer division\n",
    "\n",
    "# Set the initial conditions\n",
    "z_0 = np.array([-0.587, -0.563, 16.870])"
   ]
  },
  {
   "cell_type": "code",
   "execution_count": null,
   "id": "c3399e2f-e966-4b9d-a005-e2ef92aa5edc",
   "metadata": {
    "colab": {
     "base_uri": "https://localhost:8080/"
    },
    "id": "zzkNinvB89H7",
    "outputId": "d459aeef-0f4f-4f66-d0f4-9689350b5eec"
   },
   "outputs": [],
   "source": [
    "rho = 28.0\n",
    "sigma = 10.0\n",
    "beta = 8.0/3\n",
    "curve = calculate_z(z_0, rho, sigma, beta,\n",
    "                    save_every_nstep, dt, num_steps)\n",
    "## if needed, store the resulting reference trajectory in the csv file for later use\n",
    "# np.savetxt('lorenz_data.csv', curve, delimiter=',')"
   ]
  },
  {
   "cell_type": "code",
   "execution_count": null,
   "id": "ba3dcb9f-17a0-453e-a5d2-4deed86f44f3",
   "metadata": {},
   "outputs": [],
   "source": [
    "x = curve[:, 0]\n",
    "y = curve[:, 1]\n",
    "z = curve[:, 2]\n",
    "curve.shape"
   ]
  },
  {
   "cell_type": "code",
   "execution_count": null,
   "id": "bcaf1907-9004-4126-9cd4-e20ae787c478",
   "metadata": {},
   "outputs": [],
   "source": [
    "means = np.mean(curve, axis=0)\n",
    "stds = np.std(curve, axis=0)\n",
    "\n",
    "for label, mean, std in zip(['x', 'y', 'z'], means, stds):\n",
    "    print(f\"Mean {label}: {mean}, Std {label}: {std}\")"
   ]
  },
  {
   "cell_type": "markdown",
   "id": "85c09412-33af-4145-8e03-f56d38385d63",
   "metadata": {
    "id": "0c_NW2nb3vER"
   },
   "source": [
    "#### Plotting the Lorenz Attractor\n",
    "\n",
    "**x-component**"
   ]
  },
  {
   "cell_type": "code",
   "execution_count": null,
   "id": "587d7b9b-f9b9-4c49-ad95-27776e2fc3d4",
   "metadata": {},
   "outputs": [],
   "source": [
    "fig = plt.figure(figsize=(9,6))\n",
    "ax = fig.add_subplot()\n",
    "ax.plot(t, x)\n",
    "ax.set_xlabel(\"t\")\n",
    "ax.set_ylabel(\"X\")\n",
    "ax.grid(True)\n",
    "ax.set_title(f\"Lorenz Attractor | rho={rho}  sigma={sigma}  beta={beta:.3f}\")\n",
    "plt.show()"
   ]
  },
  {
   "cell_type": "markdown",
   "id": "3c2e13eb-35d6-409d-9176-6c9d54c76b93",
   "metadata": {},
   "source": [
    "**3D-Plot**"
   ]
  },
  {
   "cell_type": "code",
   "execution_count": null,
   "id": "2cb92285-ab93-413a-a518-ae2e4463bf50",
   "metadata": {
    "colab": {
     "base_uri": "https://localhost:8080/",
     "height": 752
    },
    "id": "KogUb4hXtbBo",
    "outputId": "e2255373-fa0d-442e-bbca-e7f2df0e3df6"
   },
   "outputs": [],
   "source": [
    "fig = plt.figure(figsize=(9,9))\n",
    "ax = fig.add_subplot(projection='3d')\n",
    "# modify ax.get_proj method: scale the x and y by 0.9 and 0.7 of the projection matrix\n",
    "ax.get_proj = lambda: Axes3D.get_proj(ax) @ np.diag([0.9, 0.7, 1, 1])  # \n",
    "ax.plot(x, y, z, lw=0.9, c='k')\n",
    "ax.set_xlabel(\"X\")\n",
    "ax.set_ylabel(\"Y\")\n",
    "ax.set_zlabel(\"Z\")\n",
    "ax.set_title(f\"Lorenz Attractor | rho={rho}  sigma={sigma}  beta={beta:.3f}\")\n",
    "plt.show()"
   ]
  },
  {
   "cell_type": "markdown",
   "id": "7e8b65fc-c5d4-4bf5-b222-ce93b99a2629",
   "metadata": {},
   "source": [
    "**as animation**"
   ]
  },
  {
   "cell_type": "code",
   "execution_count": null,
   "id": "afb508ba-de30-492a-965a-ddf24d1f6658",
   "metadata": {},
   "outputs": [],
   "source": [
    "change = 0.01\n",
    "z_0_changed = z_0 + change\n",
    "curve2 = calculate_z(z_0_changed, rho, sigma, beta,\n",
    "                     save_every_nstep, dt, num_steps)\n",
    "x2 = curve2[:, 0]\n",
    "y2 = curve2[:, 1]\n",
    "z2 = curve2[:, 2]\n",
    "\n",
    "# Create figure\n",
    "fig, ax = plt.subplots(1, 1, subplot_kw={'projection': '3d'}, figsize=(12, 6))\n",
    "\n",
    "# Initialize plots\n",
    "line1, = ax.plot([], [], [], lw=1, c='red', label=f\"z0+{change}\")\n",
    "point1, = ax.plot([], [], [], 'ro', markersize=5)\n",
    "point2, = ax.plot([], [], [], 'ko', markersize=5)\n",
    "\n",
    "ax.plot(x, y, z, lw=0.5, c='gray', ls='dashed', label=f\"z0\")\n",
    "ax.set_xlabel('X')\n",
    "ax.set_ylabel('Y')\n",
    "ax.set_zlabel('Z')\n",
    "\n",
    "ax.set_title(f\"rho={rho}  sigma={sigma}  beta={beta:.3f}\")\n",
    "plt.legend()\n",
    "\n",
    "# Initialize animation function\n",
    "def init():\n",
    "    line1.set_data([], [])\n",
    "    line1.set_3d_properties([])\n",
    "    point1.set_data([], [])\n",
    "    point1.set_3d_properties([])\n",
    "    point2.set_data([], [])\n",
    "    point2.set_3d_properties([])\n",
    "    return line1, point1\n",
    "\n",
    "# Update function\n",
    "def update(i):\n",
    "    line1.set_data(x2[:i], y2[:i])\n",
    "    line1.set_3d_properties(z2[:i])\n",
    "    point1.set_data([x2[i]], [y2[i]])\n",
    "    point1.set_3d_properties([z2[i]])\n",
    "    point2.set_data([x[i]], [y[i]])\n",
    "    point2.set_3d_properties([z[i]])\n",
    "    return line1, point1\n",
    "\n",
    "# Create the animation\n",
    "ani = animation.FuncAnimation(fig, update, frames=len(z), init_func=init,\n",
    "                              interval=20, blit=True)\n",
    "\n",
    "plt.close()  # finish/close animation\n",
    "\n",
    "## if ffmpeg installed\n",
    "## Display the animation\n",
    "# HTML(ani.to_html5_video())\n",
    "\n",
    "ani.save(filename=\"lorenz63.gif\", writer=\"pillow\")\n",
    "display(Image(filename=\"lorenz63.gif\"))"
   ]
  },
  {
   "cell_type": "markdown",
   "id": "07be1f5a-37d2-4d2e-b368-d4c62b36a4b2",
   "metadata": {},
   "source": [
    " $$\\text{RMSE} = \\sqrt{\\frac{1}{N}\\sum_{n=1}^N\\biggl(z^\\ast_n-z_n\\biggr)^2}$$"
   ]
  },
  {
   "cell_type": "code",
   "execution_count": null,
   "id": "be56514b-d8f5-4410-b2bb-3b681395d9f1",
   "metadata": {},
   "outputs": [],
   "source": [
    "rmse = np.sqrt( np.mean( (curve2 - curve)**2 ) )\n",
    "print(f\"RMSE = {rmse}\")"
   ]
  }
 ],
 "metadata": {
  "kernelspec": {
   "display_name": "Python 3 (ipykernel)",
   "language": "python",
   "name": "python3"
  },
  "language_info": {
   "codemirror_mode": {
    "name": "ipython",
    "version": 3
   },
   "file_extension": ".py",
   "mimetype": "text/x-python",
   "name": "python",
   "nbconvert_exporter": "python",
   "pygments_lexer": "ipython3",
   "version": "3.12.8"
  }
 },
 "nbformat": 4,
 "nbformat_minor": 5
}
