{
 "cells": [
  {
   "cell_type": "code",
   "execution_count": null,
   "id": "bd5d9b1d-5aed-4f76-8a39-f66de7774660",
   "metadata": {
    "tags": []
   },
   "outputs": [],
   "source": [
    "import sys\n",
    "from packaging import version\n",
    "import sklearn\n",
    "import matplotlib.pyplot as plt\n",
    "from pathlib import Path\n",
    "import pandas as pd\n",
    "import tarfile\n",
    "import urllib.request\n",
    "import numpy as np\n",
    "\n",
    "assert sys.version_info >= (3, 7)\n",
    "assert version.parse(sklearn.__version__) >= version.parse(\"1.0.1\")\n",
    "\n",
    "# the next 5 lines define the default font sizes\n",
    "plt.rc('font', size=14)\n",
    "plt.rc('axes', labelsize=14, titlesize=14)\n",
    "plt.rc('legend', fontsize=14)\n",
    "plt.rc('xtick', labelsize=10)\n",
    "plt.rc('ytick', labelsize=10)"
   ]
  },
  {
   "cell_type": "markdown",
   "id": "58f78b58-4b1c-48fd-954d-01a45df65457",
   "metadata": {
    "tags": []
   },
   "source": [
    "# Get the Data"
   ]
  },
  {
   "cell_type": "markdown",
   "id": "06d74235-0294-49e3-b5d7-c0962f7a8e7c",
   "metadata": {},
   "source": [
    "*Your task is to predict median house values in Californian districts, given a number of features from these districts.*"
   ]
  },
  {
   "cell_type": "markdown",
   "id": "7d04aaed-f584-4a3c-8f80-c049b59e2ef3",
   "metadata": {},
   "source": [
    "## Download the Data"
   ]
  },
  {
   "cell_type": "code",
   "execution_count": null,
   "id": "dac35c43-1671-4bfe-87df-39bed5e8d081",
   "metadata": {
    "tags": []
   },
   "outputs": [],
   "source": [
    "def load_housing_data():\n",
    "    tarball_path = Path(\"datasets/housing.tgz\")\n",
    "    if not tarball_path.is_file():\n",
    "        Path(\"datasets\").mkdir(parents=True, exist_ok=True)\n",
    "        url = \"https://github.com/ageron/data/raw/main/housing.tgz\"\n",
    "        urllib.request.urlretrieve(url, tarball_path)\n",
    "        with tarfile.open(tarball_path) as housing_tarball:\n",
    "            housing_tarball.extractall(path=\"datasets\")\n",
    "    return pd.read_csv(Path(\"datasets/housing/housing.csv\"))\n",
    "\n",
    "\n",
    "housing = load_housing_data()"
   ]
  },
  {
   "cell_type": "markdown",
   "id": "af598dc7-efb5-46c6-a0c9-7f09eb3a3197",
   "metadata": {},
   "source": [
    "## Take a Quick Look at the Data Structure"
   ]
  },
  {
   "cell_type": "code",
   "execution_count": null,
   "id": "4857feac-673f-423b-89cc-8de3d0a56b27",
   "metadata": {
    "tags": []
   },
   "outputs": [],
   "source": [
    "housing.head()  # top 5 rows"
   ]
  },
  {
   "cell_type": "code",
   "execution_count": null,
   "id": "e5cd6f06-aa44-42f2-8100-71595c8674d8",
   "metadata": {
    "tags": []
   },
   "outputs": [],
   "source": [
    "housing.info()"
   ]
  },
  {
   "cell_type": "markdown",
   "id": "5fb9c053-0763-413d-9598-b0f9665dfaf4",
   "metadata": {},
   "source": [
    "### Question\n",
    "*Is something odd with the info echo above?*"
   ]
  },
  {
   "cell_type": "code",
   "execution_count": null,
   "id": "d1c58d61-9b6e-4802-aa0a-06a7538fe627",
   "metadata": {
    "tags": []
   },
   "outputs": [],
   "source": [
    "housing[\"ocean_proximity\"].value_counts()"
   ]
  },
  {
   "cell_type": "code",
   "execution_count": null,
   "id": "fef3d4f2-a848-4cca-873f-2cfeff7257d4",
   "metadata": {
    "tags": []
   },
   "outputs": [],
   "source": [
    "housing.describe()"
   ]
  },
  {
   "cell_type": "markdown",
   "id": "3c61cfa4-6026-4490-b1c1-36c30a9b8c79",
   "metadata": {},
   "source": [
    "### Question?\n",
    "\n",
    "Do you have takeaways from the data?\n"
   ]
  },
  {
   "cell_type": "code",
   "execution_count": null,
   "id": "06991c97-fea5-4e7f-8534-aef23564a44e",
   "metadata": {},
   "outputs": [],
   "source": [
    "housing.hist(bins=50, figsize=(12, 8))\n",
    "plt.show()"
   ]
  },
  {
   "cell_type": "markdown",
   "id": "448d3de0-82fd-4ce7-b0f2-825f19925769",
   "metadata": {
    "tags": []
   },
   "source": [
    "### Question?\n",
    "\n",
    "Do you see Problems in the diagrams?"
   ]
  },
  {
   "cell_type": "markdown",
   "id": "eb8fed07-556a-4d06-9398-8c1aa63bd417",
   "metadata": {
    "tags": []
   },
   "source": [
    "## Create a Test Set"
   ]
  },
  {
   "cell_type": "markdown",
   "id": "3c42edd0-a0fd-49c9-9b77-783dd966b7c7",
   "metadata": {},
   "source": [
    "### Question?\n",
    "What do we have to do for a test set?"
   ]
  },
  {
   "cell_type": "code",
   "execution_count": null,
   "id": "1a7a8c1d-152b-4175-91b8-c432de4b28a8",
   "metadata": {
    "tags": []
   },
   "outputs": [],
   "source": [
    "def shuffle_and_split_data(data, test_ratio):\n",
    "    shuffled_indices = np.random.permutation(len(data))\n",
    "    test_set_size = int(len(data) * test_ratio)\n",
    "    test_indices = shuffled_indices[:test_set_size]\n",
    "    train_indices = shuffled_indices[test_set_size:]\n",
    "    return data.iloc[train_indices], data.iloc[test_indices]"
   ]
  },
  {
   "cell_type": "code",
   "execution_count": null,
   "id": "0ab48f50-3247-417d-9609-0884c85ea0d6",
   "metadata": {
    "tags": []
   },
   "outputs": [],
   "source": [
    "train_set, test_set = shuffle_and_split_data(housing, 0.2)\n",
    "len(train_set)"
   ]
  },
  {
   "cell_type": "code",
   "execution_count": null,
   "id": "6f832017-539e-4760-8216-cb3d89862840",
   "metadata": {
    "tags": []
   },
   "outputs": [],
   "source": [
    "len(test_set)"
   ]
  },
  {
   "cell_type": "markdown",
   "id": "e595c173-e1d1-498e-b278-78e733f380bc",
   "metadata": {},
   "source": [
    "### Question?\n",
    "Are there Problems with this Process?"
   ]
  },
  {
   "cell_type": "markdown",
   "id": "8f895c3a-c001-4cb3-8858-d9b672b509d3",
   "metadata": {},
   "source": [
    "To ensure that this notebook's outputs remain the same every time we run it, we need to set the random seed:"
   ]
  },
  {
   "cell_type": "code",
   "execution_count": null,
   "id": "d919288e-465d-4b8a-aff0-c40612178a96",
   "metadata": {},
   "outputs": [],
   "source": [
    "np.random.seed(42)"
   ]
  },
  {
   "cell_type": "markdown",
   "id": "ac65d3a5-2a7f-4c03-a381-f757703a0d60",
   "metadata": {},
   "source": [
    "## API\n",
    "\n",
    "Alternative with sklearn methods"
   ]
  },
  {
   "cell_type": "code",
   "execution_count": null,
   "id": "780a341b-12f9-44ae-8c0f-f9a10d17586d",
   "metadata": {
    "tags": []
   },
   "outputs": [],
   "source": [
    "from sklearn.model_selection import train_test_split\n",
    "\n",
    "train_set, test_set = train_test_split(housing, test_size=0.2, random_state=42)"
   ]
  },
  {
   "cell_type": "markdown",
   "id": "d289289b-9251-49f6-a7dd-8f52e3a789f1",
   "metadata": {},
   "source": [
    "### Question?\n",
    "Do we still have Problems?"
   ]
  },
  {
   "cell_type": "code",
   "execution_count": null,
   "id": "05279892-40aa-4594-91cb-b43fbf334367",
   "metadata": {
    "tags": []
   },
   "outputs": [],
   "source": [
    "test_set[\"total_bedrooms\"].isnull().sum()"
   ]
  },
  {
   "cell_type": "code",
   "execution_count": null,
   "id": "8fd4a51d-5fb7-41c4-9fd3-081a98e5be60",
   "metadata": {
    "tags": []
   },
   "outputs": [],
   "source": [
    "train_set[\"total_bedrooms\"].isnull().sum()"
   ]
  },
  {
   "cell_type": "markdown",
   "id": "cb3dd149-69cb-41e5-b49a-a9e7498b80b0",
   "metadata": {
    "tags": []
   },
   "source": [
    "## Representative Test/Train Dataset"
   ]
  },
  {
   "cell_type": "code",
   "execution_count": null,
   "id": "ed9028ac-6e02-4704-a604-4a0656bb7bf3",
   "metadata": {
    "tags": []
   },
   "outputs": [],
   "source": [
    "housing[\"income_cat\"] = pd.cut(housing[\"median_income\"],\n",
    "                               bins=[0., 1.5, 3.0, 4.5, 6., np.inf],\n",
    "                               labels=[1, 2, 3, 4, 5])"
   ]
  },
  {
   "cell_type": "code",
   "execution_count": null,
   "id": "67a8a3e2-f535-4d96-aab4-22aeb7c8a012",
   "metadata": {
    "tags": []
   },
   "outputs": [],
   "source": [
    "housing[\"income_cat\"].value_counts().sort_index().plot.bar(rot=0, grid=True)\n",
    "plt.xlabel(\"Income category\")\n",
    "plt.ylabel(\"Number of districts\")\n",
    "plt.show()"
   ]
  },
  {
   "cell_type": "code",
   "execution_count": null,
   "id": "c3c2ffcc-4315-468f-bb27-ecd74d29f2c0",
   "metadata": {
    "tags": []
   },
   "outputs": [],
   "source": [
    "from sklearn.model_selection import StratifiedShuffleSplit\n",
    "\n",
    "splitter = StratifiedShuffleSplit(n_splits=10, test_size=0.2, random_state=42)\n",
    "strat_splits = []\n",
    "for train_index, test_index in splitter.split(housing, housing[\"income_cat\"]):\n",
    "    strat_train_set_n = housing.iloc[train_index]\n",
    "    strat_test_set_n = housing.iloc[test_index]\n",
    "    strat_splits.append([strat_train_set_n, strat_test_set_n])"
   ]
  },
  {
   "cell_type": "code",
   "execution_count": null,
   "id": "aacb6745-8d80-488f-aa82-e89735fd4beb",
   "metadata": {
    "tags": []
   },
   "outputs": [],
   "source": [
    "strat_train_set, strat_test_set = strat_splits[0]"
   ]
  },
  {
   "cell_type": "markdown",
   "id": "e8d2c882-e837-4ea6-a5b6-790e276aab5b",
   "metadata": {},
   "source": [
    "It's much shorter to get a single stratified split using train_test_split() with stratify option"
   ]
  },
  {
   "cell_type": "code",
   "execution_count": null,
   "id": "e65a19a6-564c-4450-8fa6-a0487aa2b012",
   "metadata": {},
   "outputs": [],
   "source": [
    "strat_train_set, strat_test_set = train_test_split(\n",
    "    housing, test_size=0.2, stratify=housing[\"income_cat\"], random_state=42)"
   ]
  },
  {
   "cell_type": "code",
   "execution_count": null,
   "id": "64d114a0-5c38-4e05-9938-b9a6ffe125de",
   "metadata": {
    "tags": []
   },
   "outputs": [],
   "source": [
    "strat_test_set[\"income_cat\"].value_counts() / len(strat_test_set)"
   ]
  },
  {
   "cell_type": "code",
   "execution_count": null,
   "id": "cbf30c6d-f7f7-4c71-a33d-a53c49239d18",
   "metadata": {
    "tags": []
   },
   "outputs": [],
   "source": [
    "def income_cat_proportions(data):\n",
    "    return data[\"income_cat\"].value_counts() / len(data)\n",
    "\n",
    "\n",
    "train_set, test_set = train_test_split(housing, test_size=0.2, random_state=42)\n",
    "\n",
    "compare_props = pd.DataFrame({\n",
    "    \"Overall %\": income_cat_proportions(housing),\n",
    "    \"Stratified %\": income_cat_proportions(strat_test_set),\n",
    "    \"Random %\": income_cat_proportions(test_set),\n",
    "}).sort_index()\n",
    "compare_props.index.name = \"Income Category\"\n",
    "compare_props[\"Strat. Error %\"] = (compare_props[\"Stratified %\"] /\n",
    "                                   compare_props[\"Overall %\"] - 1)\n",
    "compare_props[\"Rand. Error %\"] = (compare_props[\"Random %\"] /\n",
    "                                  compare_props[\"Overall %\"] - 1)\n",
    "(compare_props * 100).round(2)"
   ]
  },
  {
   "cell_type": "markdown",
   "id": "71a70af0-49f4-4e58-851d-72a97ea6ad8b",
   "metadata": {},
   "source": [
    "### Clean up"
   ]
  },
  {
   "cell_type": "code",
   "execution_count": null,
   "id": "188a2d85-fed8-40c2-ae7f-9911f3eb60cc",
   "metadata": {},
   "outputs": [],
   "source": [
    "for set_ in (strat_train_set, strat_test_set):\n",
    "    set_.drop(\"income_cat\", axis=1, inplace=True)"
   ]
  },
  {
   "cell_type": "markdown",
   "id": "c0ee72f6-0bb8-4f31-9e3e-d773a375d3b8",
   "metadata": {
    "tags": []
   },
   "source": [
    "# Discover and Visualize the Data to Gain Insights"
   ]
  },
  {
   "cell_type": "code",
   "execution_count": null,
   "id": "9153ecf0-478c-42b5-890a-a5d7776a4c41",
   "metadata": {
    "tags": []
   },
   "outputs": [],
   "source": [
    "housing = strat_train_set.copy()"
   ]
  },
  {
   "cell_type": "markdown",
   "id": "c5f3aaef-c5a5-4d85-a9b0-c3dbcfb0955a",
   "metadata": {},
   "source": [
    "## Visualizing Geographical Data"
   ]
  },
  {
   "cell_type": "code",
   "execution_count": null,
   "id": "871334fc-6b6d-4395-af05-3afb5dead625",
   "metadata": {
    "tags": []
   },
   "outputs": [],
   "source": [
    "housing.plot(kind=\"scatter\", x=\"longitude\", y=\"latitude\", grid=True)\n",
    "plt.show()"
   ]
  },
  {
   "cell_type": "code",
   "execution_count": null,
   "id": "10efcdd4-704d-43b0-a1c2-4dc19da3270f",
   "metadata": {
    "tags": []
   },
   "outputs": [],
   "source": [
    "housing.plot(kind=\"scatter\", x=\"longitude\", y=\"latitude\", grid=True, alpha=0.2)\n",
    "plt.show()"
   ]
  },
  {
   "cell_type": "code",
   "execution_count": null,
   "id": "4871fad1-4bee-49ea-8f35-5da74ab0e23a",
   "metadata": {
    "tags": []
   },
   "outputs": [],
   "source": [
    "housing.plot(kind=\"scatter\", x=\"longitude\", y=\"latitude\", grid=True,\n",
    "             s=housing[\"population\"] / 100, label=\"population\",\n",
    "             c=\"median_house_value\", cmap=\"jet\", colorbar=True,\n",
    "             legend=True, sharex=False, figsize=(10, 7))\n",
    "plt.show()"
   ]
  },
  {
   "cell_type": "markdown",
   "id": "747a766d-86c6-4799-a0d7-7842c9a4e883",
   "metadata": {},
   "source": [
    "The argument `sharex=False` fixes a display bug: without it, the x-axis values and label are not displayed (see: https://github.com/pandas-dev/pandas/issues/10611)."
   ]
  },
  {
   "cell_type": "markdown",
   "id": "77626287-607c-43cd-b1c9-e9072486312a",
   "metadata": {},
   "source": [
    "### Question?\n",
    "- What do we can take away from the visualization?\n",
    "- Which other Attributes can be usefull?"
   ]
  },
  {
   "cell_type": "markdown",
   "id": "bc92bfc6-90a6-4157-9ba5-c7557a6ab1bb",
   "metadata": {},
   "source": [
    "## Looking for Correlations"
   ]
  },
  {
   "cell_type": "markdown",
   "id": "2beb41f4-257b-4322-8d65-b053a7368d0b",
   "metadata": {},
   "source": [
    "The goal is still to predict housing prices.\n",
    "\n",
    " 0   longitude  \n",
    " 1   latitude  \n",
    " 2   housing_median_age  \n",
    " 3   total_rooms  \n",
    " 4   total_bedrooms  \n",
    " 5   population  \n",
    " 6   households  \n",
    " 7   median_income  \n",
    " 8   median_house_value  \n",
    " 9   ocean_proximity   "
   ]
  },
  {
   "cell_type": "code",
   "execution_count": null,
   "id": "72d83525-4798-4530-93df-f223405c83cb",
   "metadata": {
    "tags": []
   },
   "outputs": [],
   "source": [
    "corr_matrix = housing.corr(numeric_only=True)"
   ]
  },
  {
   "cell_type": "code",
   "execution_count": null,
   "id": "4db2408a-749d-43a8-bcc4-49399792712e",
   "metadata": {
    "tags": []
   },
   "outputs": [],
   "source": [
    "corr_matrix[\"median_house_value\"].sort_values(ascending=False)"
   ]
  },
  {
   "cell_type": "markdown",
   "id": "2360ecfd-37cd-40be-a282-1ecdc15a3962",
   "metadata": {},
   "source": [
    "Standart Correlation Coefficient  \n",
    "+1 .. strong positive correlation  \n",
    "-1 .. strong negative correlation  "
   ]
  },
  {
   "cell_type": "code",
   "execution_count": null,
   "id": "c5f2554a-cf24-47b7-96dd-405fccbb2b25",
   "metadata": {
    "tags": []
   },
   "outputs": [],
   "source": [
    "from pandas.plotting import scatter_matrix\n",
    "\n",
    "attributes = [\"median_house_value\", \"median_income\", \"total_rooms\",\n",
    "              \"housing_median_age\"]\n",
    "scatter_matrix(housing[attributes], figsize=(12, 8))\n",
    "plt.show()"
   ]
  },
  {
   "cell_type": "markdown",
   "id": "8dd98276-4f28-45f4-a27a-09bd659c790a",
   "metadata": {
    "tags": []
   },
   "source": [
    "### Question?\n",
    "What do we see?"
   ]
  },
  {
   "cell_type": "code",
   "execution_count": null,
   "id": "cbfc5c57-4f41-452a-a255-d2fe15292cfe",
   "metadata": {
    "tags": []
   },
   "outputs": [],
   "source": [
    "housing.plot(kind=\"scatter\", x=\"median_income\", y=\"median_house_value\",\n",
    "             alpha=0.1, grid=True)\n",
    "plt.show()"
   ]
  },
  {
   "cell_type": "markdown",
   "id": "2dcc87b9-7de3-4f62-8a7e-a99c791fc9f9",
   "metadata": {},
   "source": [
    "## Experimenting with Attribute Combinations"
   ]
  },
  {
   "cell_type": "code",
   "execution_count": null,
   "id": "111998e4-900b-40a0-8beb-393831778166",
   "metadata": {},
   "outputs": [],
   "source": [
    "housing[\"rooms_per_house\"] = housing[\"total_rooms\"] / housing[\"households\"]\n",
    "housing[\"bedrooms_ratio\"] = housing[\"total_bedrooms\"] / housing[\"total_rooms\"]\n",
    "housing[\"people_per_house\"] = housing[\"population\"] / housing[\"households\"]"
   ]
  },
  {
   "cell_type": "code",
   "execution_count": null,
   "id": "de6a93c0-97b4-491e-ae36-b81c898bd7ea",
   "metadata": {},
   "outputs": [],
   "source": [
    "corr_matrix = housing.corr(numeric_only=True)\n",
    "corr_matrix[\"median_house_value\"].sort_values(ascending=False)"
   ]
  },
  {
   "cell_type": "code",
   "execution_count": null,
   "id": "607f6e80-50c8-44f0-98fb-ac3d88a5e370",
   "metadata": {
    "tags": []
   },
   "outputs": [],
   "source": [
    "from pandas.plotting import scatter_matrix\n",
    "\n",
    "attributes = [\"median_house_value\", \"rooms_per_house\", \"bedrooms_ratio\",\n",
    "              \"people_per_house\"]\n",
    "scatter_matrix(housing[attributes], figsize=(12, 8))\n",
    "plt.show()"
   ]
  },
  {
   "cell_type": "markdown",
   "id": "4af5c046-649c-45b9-9372-00cebad2d24e",
   "metadata": {},
   "source": [
    "# Next Steps\n",
    "\n",
    "- Data Cleaning\n",
    "- Data Scaling\n",
    "- pick a ML Algorithm\n",
    "- iterate"
   ]
  }
 ],
 "metadata": {
  "kernelspec": {
   "display_name": "Python 3 (ipykernel)",
   "language": "python",
   "name": "python3"
  },
  "language_info": {
   "codemirror_mode": {
    "name": "ipython",
    "version": 3
   },
   "file_extension": ".py",
   "mimetype": "text/x-python",
   "name": "python",
   "nbconvert_exporter": "python",
   "pygments_lexer": "ipython3",
   "version": "3.11.5"
  }
 },
 "nbformat": 4,
 "nbformat_minor": 5
}
