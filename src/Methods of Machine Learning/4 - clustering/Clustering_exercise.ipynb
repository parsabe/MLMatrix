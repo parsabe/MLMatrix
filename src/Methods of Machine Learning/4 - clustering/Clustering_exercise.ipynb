{
 "cells": [
  {
   "cell_type": "markdown",
   "id": "c1e17384",
   "metadata": {},
   "source": [
    "# Data preparation"
   ]
  },
  {
   "cell_type": "code",
   "execution_count": null,
   "id": "e82a0e09",
   "metadata": {},
   "outputs": [],
   "source": [
    "import numpy as np\n",
    "import pandas as pd"
   ]
  },
  {
   "cell_type": "code",
   "execution_count": null,
   "id": "8f9b924b",
   "metadata": {},
   "outputs": [],
   "source": [
    "############################################ Task 1 ############################################\n",
    "# Load the data\n",
    "# ----------------------------------------- start here -----------------------------------------\n",
    "\n",
    "# Load wine dataset from sklearn\n",
    "from sklearn.datasets import load_wine\n",
    "wine = ...\n",
    "X = ...\n",
    "y = ..."
   ]
  },
  {
   "cell_type": "code",
   "execution_count": null,
   "id": "f4dce631",
   "metadata": {},
   "outputs": [],
   "source": [
    "# Import the whiten function\n",
    "from scipy.cluster.vq import whiten"
   ]
  },
  {
   "cell_type": "code",
   "execution_count": null,
   "id": "b3601da8",
   "metadata": {},
   "outputs": [],
   "source": [
    "# Create dataframe from Wine dataset\n",
    "df = pd.DataFrame(X, columns = wine.feature_names)"
   ]
  },
  {
   "cell_type": "code",
   "execution_count": null,
   "id": "ca12e297",
   "metadata": {},
   "outputs": [],
   "source": [
    "############################################ Task 1 ############################################\n",
    "# use whiten function from scipy.cluster.vq to standardize the data\n",
    "# ----------------------------------------- start here -----------------------------------------\n",
    "\n",
    "# Copy the feature names\n",
    "whiten_cols = ...\n",
    "\n",
    "# Use the whiten() function to standardize the data\n",
    "df.loc[:, whiten_cols] = whiten(...)"
   ]
  },
  {
   "cell_type": "code",
   "execution_count": null,
   "id": "0219d0f5",
   "metadata": {},
   "outputs": [],
   "source": [
    "import matplotlib.pyplot as plt\n",
    "import seaborn as sns\n",
    "import warnings\n",
    "warnings.filterwarnings('ignore')\n",
    "\n",
    "############################################ Task 1 ############################################\n",
    "# Dispaly the dataset with pairplot from seaborn, showing only the first three features\n",
    "# ----------------------------------------- start here -----------------------------------------\n",
    "\n",
    "sns.pairplot(..., kind='scatter', diag_kind=\"kde\", height=1.5, plot_kws={'alpha':0.3})"
   ]
  },
  {
   "cell_type": "markdown",
   "id": "cbf3b9d5",
   "metadata": {},
   "source": [
    "# Hierarchical Clustering"
   ]
  },
  {
   "cell_type": "markdown",
   "id": "db0c8441",
   "metadata": {},
   "source": [
    "## Algorithm\n",
    "\n",
    "* #### Let each data point be a cluster and compute the proximity matrix\n",
    "* #### Merge the two closest clusters and update the proximity matrix, until only a single cluster remains"
   ]
  },
  {
   "cell_type": "code",
   "execution_count": null,
   "id": "a1f31068",
   "metadata": {},
   "outputs": [],
   "source": [
    "# Import linkage and fcluster functions\n",
    "from scipy.cluster.hierarchy import linkage, fcluster"
   ]
  },
  {
   "cell_type": "markdown",
   "id": "077cea8c",
   "metadata": {},
   "source": [
    "#### Linkage types\n",
    "\n",
    "<img src=\"linkage_types.png\" width=\"700\"/>"
   ]
  },
  {
   "cell_type": "markdown",
   "id": "340342d7",
   "metadata": {},
   "source": [
    "* #### Single-Linkage: $dist(C_i,C_j):=\\min\\{dist(x_i,x_j): x_i \\in C_i, x_j \\in C_j\\}$\n",
    "\n",
    "* #### Complete-Linkage: $dist(C_i,C_j):=\\max\\{dist(x_i,x_j): x_i \\in C_i, x_j \\in C_j\\}$\n",
    "\n",
    "* #### Average-Linkage: $dist(C_i,C_j):=\\frac{1}{|C_i||C_j|} \\sum_{x_i \\in C_i, x_j \\in C_j} dist(x_i,x_j)$\n",
    "\n",
    "* #### Ward: \n",
    "\n",
    "Lecture: $dist(C_i,C_j):=\\frac{|C_i||C_j|}{|C_i|+|C_j|} dist(\\bar{x}_i,\\bar{x}_j)^2$, $\\bar{x}_i = \\frac{1}{|C_i|}\\sum_{x_k\\in C_i}x_k$\n",
    "\n",
    "Scipy documentation:\n",
    "$dist(C_i,C_j):=\\sqrt{\\frac{|C_j|+|s|}{T}dist(C_j,s)^2 + \\frac{|C_j|+|t|}{T}dist(C_j,t)^2 - \\frac{|C_j|}{T}dist(s,t)^2}$,\n",
    "\n",
    "where $C_i$ is the newly joined cluster consisting of clusters $s$ and $t$, $C_j$ is an unused cluster in the forest, $T = |C_j|+|s|+|t|$, and $|*|$ is the cardinality of its argument. "
   ]
  },
  {
   "cell_type": "code",
   "execution_count": null,
   "id": "1489453f",
   "metadata": {},
   "outputs": [],
   "source": [
    "############################################ Task 2 ############################################\n",
    "# Perform hierarchical clustering using the linkage methods single\n",
    "# ----------------------------------------- start here -----------------------------------------\n",
    "\n",
    "# Use the linkage() function to compute distances\n",
    "Z_single = linkage(..., ...)\n",
    "\n",
    "# Generate cluster labels and add them to dataframe for 'single' method\n",
    "df_single = df.copy()\n",
    "df_single['labels_single'] = fcluster(..., 3, criterion='maxclust')"
   ]
  },
  {
   "cell_type": "code",
   "execution_count": null,
   "id": "8c49bc45",
   "metadata": {},
   "outputs": [],
   "source": [
    "############################################ Task 2 ############################################\n",
    "# Perform hierarchical clustering using the linkage methods complete\n",
    "# ----------------------------------------- start here -----------------------------------------\n",
    "\n",
    "# Use the linkage() function to compute distances\n",
    "Z_complete = linkage(..., ...)\n",
    "\n",
    "# Generate cluster labels and add them to dataframe for 'complete' method\n",
    "df_complete = df.copy()\n",
    "df_complete['labels_complete'] = fcluster(..., 3, criterion='maxclust')"
   ]
  },
  {
   "cell_type": "code",
   "execution_count": null,
   "id": "5516a21d",
   "metadata": {},
   "outputs": [],
   "source": [
    "############################################ Task 2 ############################################\n",
    "# Perform hierarchical clustering using the linkage methods centroid\n",
    "# ----------------------------------------- start here -----------------------------------------\n",
    "\n",
    "# Use the linkage() function to compute distances\n",
    "Z_centroid = linkage(..., ...)\n",
    "\n",
    "# Generate cluster labels and add them to dataframe for 'centroid' method\n",
    "df_centroid = df.copy()\n",
    "df_centroid['labels_centroid'] = fcluster(..., 3, criterion='maxclust')"
   ]
  },
  {
   "cell_type": "code",
   "execution_count": null,
   "id": "e7529ddd",
   "metadata": {
    "scrolled": false
   },
   "outputs": [],
   "source": [
    "############################################ Task 2 ############################################\n",
    "# Perform hierarchical clustering using the linkage methods ward\n",
    "# ----------------------------------------- start here -----------------------------------------\n",
    "\n",
    "# Use the linkage() function to compute distances\n",
    "Z_ward = linkage(..., ...)\n",
    "\n",
    "# Generate cluster labels and add them to dataframe for 'ward' method\n",
    "df_ward = df.copy()\n",
    "df_ward['labels_ward'] = fcluster(..., 3, criterion='maxclust')"
   ]
  },
  {
   "cell_type": "code",
   "execution_count": null,
   "id": "4947276a",
   "metadata": {
    "scrolled": false
   },
   "outputs": [],
   "source": [
    "############################################ Task 2 ############################################\n",
    "# Visualize the resulting clusters for different linkage methods\n",
    "# ----------------------------------------- start here -----------------------------------------\n",
    "\n",
    "# Plot preditions for the 'single' linkage method\n",
    "columns = ['alcohol','malic_acid','ash',...]\n",
    "single=sns.pairplot(..., hue=..., height=1.5)\n",
    "single.fig.suptitle(\"single method\")\n",
    "\n",
    "# Plot preditions for the 'complete' linkage method\n",
    "columns = ['alcohol','malic_acid','ash',...]\n",
    "complete=sns.pairplot(..., hue=..., height=1.5)\n",
    "complete.fig.suptitle(\"complete method\")\n",
    "\n",
    "# Plot preditions for the 'centroid' linkage method\n",
    "columns = ['alcohol','malic_acid','ash',...]\n",
    "centroid=sns.pairplot(..., hue=..., height=1.5)\n",
    "centroid.fig.suptitle(\"centroid method\")\n",
    "\n",
    "# Plot preditions for the 'ward' linkage method\n",
    "columns = ['alcohol','malic_acid','ash',...]\n",
    "ward=sns.pairplot(..., hue=..., height=1.5)\n",
    "ward.fig.suptitle(\"ward method\")"
   ]
  },
  {
   "cell_type": "markdown",
   "id": "23dbc761",
   "metadata": {},
   "source": [
    "## How many clusters?"
   ]
  },
  {
   "cell_type": "markdown",
   "id": "72a3fc5c",
   "metadata": {},
   "source": [
    "### Dendrograms"
   ]
  },
  {
   "cell_type": "code",
   "execution_count": null,
   "id": "1e0b2ea6",
   "metadata": {},
   "outputs": [],
   "source": [
    "############################################ Task 2 ############################################\n",
    "# Display the dendograms for the linkage methods single, complete, centroid and ward\n",
    "# ----------------------------------------- start here -----------------------------------------\n",
    "\n",
    "# Import the dendrogram function\n",
    "from scipy.cluster.hierarchy import dendrogram\n",
    "fig=plt.figure(figsize=(15,20))\n",
    "\n",
    "# Create dendrogram for the linkage method single\n",
    "plt.subplot(4, 1, 1)\n",
    "dn = dendrogram(...)\n",
    "plt.grid(axis='y')\n",
    "\n",
    "# Create dendrogram for the linkage method complete\n",
    "plt.subplot(4, 1, 2)\n",
    "dn = dendrogram(...)\n",
    "plt.grid(axis='y')\n",
    "\n",
    "# Create dendrogram for the linkage method centroid\n",
    "plt.subplot(4, 1, 3)\n",
    "dn = dendrogram(...)\n",
    "plt.grid(axis='y')\n",
    "\n",
    "# Create dendrogram for the linkage method ward\n",
    "plt.subplot(4, 1, 4)\n",
    "dn = dendrogram(...)\n",
    "plt.grid(axis='y')\n",
    "\n",
    "# Display the dendogram\n",
    "plt.show()"
   ]
  },
  {
   "cell_type": "markdown",
   "id": "b638b160",
   "metadata": {},
   "source": [
    "# Comparison of methods in linkage"
   ]
  },
  {
   "cell_type": "code",
   "execution_count": null,
   "id": "ff1e1d11",
   "metadata": {},
   "outputs": [],
   "source": [
    "from sklearn.metrics import calinski_harabasz_score"
   ]
  },
  {
   "cell_type": "code",
   "execution_count": null,
   "id": "e8ad72ed",
   "metadata": {},
   "outputs": [],
   "source": [
    "############################################ Task 2 ############################################\n",
    "# Compare the Calinski-Harabasz index for the linkage methods single, complete, centroid and ward\n",
    "# ----------------------------------------- start here -----------------------------------------\n",
    "\n",
    "# list of different methods\n",
    "methods = ['single', 'complete', 'centroid', 'ward'] \n",
    "  \n",
    "# List of the calinski-harabasz score\n",
    "scores = [] \n",
    "  \n",
    "# Evaluating the performance\n",
    "scores.append(calinski_harabasz_score(..., ...))\n",
    "scores.append(calinski_harabasz_score(..., ...))\n",
    "scores.append(calinski_harabasz_score(..., ...))\n",
    "scores.append(calinski_harabasz_score(..., ...))\n",
    "  \n",
    "# Plotting a Bar Graph to compare the methods\n",
    "plt.bar(..., ...) \n",
    "plt.xlabel('methods') \n",
    "plt.ylabel('Calinski Harabasz Score')\n",
    "plt.grid(alpha=0.5)\n",
    "plt.title('Comparison of methods in linkage')\n",
    "plt.show() \n",
    "print(scores)"
   ]
  },
  {
   "cell_type": "markdown",
   "id": "b7faa092",
   "metadata": {},
   "source": [
    "# K-Means Clustering"
   ]
  },
  {
   "cell_type": "markdown",
   "id": "58fb4322",
   "metadata": {},
   "source": [
    "## Algorithm\n",
    "\n",
    "* #### Choose the number of clusters k\n",
    "\n",
    "* #### Randomly select the centroid for each cluster\n",
    "\n",
    "* #### Assign each point to the closest cluster centroid\n",
    "\n",
    "* #### Compute the centroids of newly formed clusters\n",
    "\n",
    "* #### Repeat the previous two steps, until there is no change to the centroids"
   ]
  },
  {
   "cell_type": "code",
   "execution_count": null,
   "id": "2399c3ef",
   "metadata": {},
   "outputs": [],
   "source": [
    "############################################ Task 3 ############################################\n",
    "# Perform k-means clustering\n",
    "# ----------------------------------------- start here -----------------------------------------\n",
    "\n",
    "# Import kmeans and vq functions\n",
    "from scipy.cluster.vq import kmeans, vq\n",
    "\n",
    "# Compute cluster centers\n",
    "centroids, _ = ...\n",
    "\n",
    "# Assign cluster labels\n",
    "df_kmeans = df.copy()\n",
    "df_kmeans['pred_labels'], _ = ...\n",
    "\n",
    "# Plot the data points with seaborn, showing only the first three features\n",
    "columns = ['alcohol','malic_acid','ash',...]\n",
    "sns.pairplot(..., hue=..., height=1.5)"
   ]
  },
  {
   "cell_type": "code",
   "execution_count": null,
   "id": "460f53f3",
   "metadata": {},
   "outputs": [],
   "source": [
    "############################################ Task 3 ############################################\n",
    "# Visualize the dataset with true labels, showing only the first three features\n",
    "# ----------------------------------------- start here -----------------------------------------\n",
    "df_kmeans['true_labels'] = ...\n",
    "columns = ['alcohol','malic_acid','ash',...]\n",
    "single=sns.pairplot(..., hue=..., height=1.5)"
   ]
  },
  {
   "cell_type": "code",
   "execution_count": null,
   "id": "b0bca10f",
   "metadata": {},
   "outputs": [],
   "source": [
    "############################################ Task 3 ############################################\n",
    "# Compare the predicted labels with the true labels.\n",
    "# ----------------------------------------- start here -----------------------------------------\n",
    "\n",
    "# Compare the true label and predicted label\n",
    "import pandas as pd\n",
    "df_kmeans = df_kmeans.replace({'pred_labels': {0:2, 1:1, 2:0}})\n",
    "ct = pd.crosstab(..., ...)\n",
    "print(ct)"
   ]
  },
  {
   "cell_type": "markdown",
   "id": "dfa97b9e",
   "metadata": {},
   "source": [
    "## How many clusters?"
   ]
  },
  {
   "cell_type": "markdown",
   "id": "4ea1ac2d",
   "metadata": {},
   "source": [
    "### Elbow method\n",
    "* #### Elbow plot: plot of the number of clusters and distortion\n",
    "* #### Elbow plot helps indicate number of clusters present in data"
   ]
  },
  {
   "cell_type": "markdown",
   "id": "0222b657",
   "metadata": {},
   "source": [
    "Distortion := $\\frac{1}{|s|}\\sum_{i=1}^k\\sum_{x_i \\in C_i} dist(x_i, \\mu_i(C_i))$,\n",
    "\n",
    "where $|s|$ the number of observations."
   ]
  },
  {
   "cell_type": "code",
   "execution_count": null,
   "id": "78e9b6b9",
   "metadata": {
    "scrolled": true
   },
   "outputs": [],
   "source": [
    "############################################ Task 3 ############################################\n",
    "# Use the elbow method to determine the optimal number of clusters for k-means clustering\n",
    "# ----------------------------------------- start here -----------------------------------------\n",
    "\n",
    "distortions = []\n",
    "num_clusters = range(1, 7)\n",
    "\n",
    "# Create a list of distortions from the kmeans function\n",
    "for i in num_clusters:\n",
    "    cluster_centers, distortion = kmeans(..., ...)\n",
    "    distortions.append(distortion)\n",
    "\n",
    "# Create a DataFrame with two lists - num_clusters, distortions\n",
    "elbow_plot = pd.DataFrame({'num_clusters': num_clusters, 'distortions': distortions})\n",
    "\n",
    "# Creat a line plot of num_clusters and distortions\n",
    "plt.figure(figsize=(6,3))\n",
    "sns.lineplot(x='num_clusters', y='distortions', data = ...)\n",
    "plt.xticks(num_clusters)\n",
    "plt.show()"
   ]
  },
  {
   "cell_type": "markdown",
   "id": "ffe2f5f8",
   "metadata": {},
   "source": [
    "# Spectral Clustering"
   ]
  },
  {
   "cell_type": "markdown",
   "id": "405105eb",
   "metadata": {},
   "source": [
    "## Algorithm\n",
    "\n",
    "* #### Compute unnormalized Graph Laplacian $L$\n",
    "\n",
    "* #### Compute eigenvectors $U = [u_1,\\cdots,u_k]$ to $k$ smallest eigenvalues of $L$\n",
    "\n",
    "* #### Set $v_i = (U_{i,1},\\cdots,U_{i,k}) \\in \\mathbb{R}^k$ as rows of $U$\n",
    "\n",
    "* #### Cluster the $v_i$ using $k$-means and output found clusters $C_1,\\cdots,C_k$"
   ]
  },
  {
   "cell_type": "markdown",
   "id": "bb6570b7",
   "metadata": {},
   "source": [
    "#### Nearest Neighbors: \n",
    "The affinity matrix is constructed using a k-nearest neighbors connectivity matrix.\n",
    "\n",
    "#### RBF (Radial Basis Function): \n",
    "The affinity matrix is constructed using a kernel function such as the gaussian kernel $(W_{i,j}=\\exp(-dist(x_i,x_j)^2)/\\sigma^2)$."
   ]
  },
  {
   "cell_type": "code",
   "execution_count": null,
   "id": "b77aa8cc",
   "metadata": {},
   "outputs": [],
   "source": [
    "############################################ Task 4 ############################################\n",
    "# Perform spectral clustering\n",
    "# ----------------------------------------- start here -----------------------------------------\n",
    "\n",
    "# Import SpectralClustering function\n",
    "from sklearn.cluster import SpectralClustering \n",
    "\n",
    "# Building the clustering model \n",
    "spectral_model = SpectralClustering(..., ...)\n",
    "\n",
    "# Training the model and Storing the predicted cluster labels \n",
    "df_sc = df.copy()\n",
    "df_sc['pred_labels'] = ...\n",
    "\n",
    "# Plot the data points with seaborn, showing only the first three features\n",
    "columns = ['alcohol','malic_acid','ash',...]\n",
    "sns.pairplot(..., hue=..., height=1.5)"
   ]
  },
  {
   "cell_type": "code",
   "execution_count": null,
   "id": "4e5c73da",
   "metadata": {
    "scrolled": true
   },
   "outputs": [],
   "source": [
    "# Compare the true label and predicted label\n",
    "import pandas as pd\n",
    "df_sc['ture_labels'] = ...\n",
    "df_sc = df_sc.replace({'pred_labels': {0:0, 1:2, 2:1}})\n",
    "ct = pd.crosstab(..., ...)\n",
    "print(ct)"
   ]
  },
  {
   "cell_type": "markdown",
   "id": "5feda014",
   "metadata": {},
   "source": [
    "## How many clusters?"
   ]
  },
  {
   "cell_type": "code",
   "execution_count": null,
   "id": "6c8d2d6b",
   "metadata": {
    "scrolled": false
   },
   "outputs": [],
   "source": [
    "############################################ Task 4 ############################################\n",
    "# Use the Calinski-Harabasz scores to determine the optimal number of clusters for spectral clustering\n",
    "# ----------------------------------------- start here -----------------------------------------\n",
    "\n",
    "scores = []\n",
    "num_clusters = range(2, 7)\n",
    "df_sc_temp = df.copy()\n",
    "\n",
    "# Calculate the calinski-harabasz scores of spectral clustering with different numbers of clusters\n",
    "for i in num_clusters:\n",
    "    # Building the clustering model\n",
    "    spectral_model_temp = SpectralClustering(..., ...)\n",
    "    \n",
    "    # Training the model and storing the predicted cluster labels \n",
    "    df_sc_temp['pred_labels'] = ...\n",
    "    \n",
    "    # Add the calinski-harabasz score to scores\n",
    "    scores.append(calinski_harabasz_score(..., ...))\n",
    "\n",
    "# Create a DataFrame with two lists - num_clusters, scores\n",
    "df_plot = pd.DataFrame({'num_clusters': num_clusters, 'scores': scores})\n",
    "\n",
    "# Creat a line plot of num_clusters and scores\n",
    "plt.figure(figsize=(6,3))\n",
    "sns.lineplot(x='num_clusters', y='scores', data=...)\n",
    "plt.xticks(num_clusters)\n",
    "plt.show()"
   ]
  },
  {
   "cell_type": "code",
   "execution_count": null,
   "id": "8c2336ce",
   "metadata": {},
   "outputs": [],
   "source": []
  },
  {
   "cell_type": "code",
   "execution_count": null,
   "id": "bfcc9047",
   "metadata": {},
   "outputs": [],
   "source": []
  },
  {
   "cell_type": "markdown",
   "id": "e3323096",
   "metadata": {},
   "source": [
    "# Comparison of models"
   ]
  },
  {
   "cell_type": "code",
   "execution_count": null,
   "id": "96a13b6a",
   "metadata": {},
   "outputs": [],
   "source": [
    "############################################ Task 5 ############################################\n",
    "# Compare the Silhouette scores for hierarchical clustering with the 'ward' linkage method, k-means clustering and spectral clustering.\n",
    "# ----------------------------------------- start here -----------------------------------------\n",
    "\n",
    "# Import Silhouette score\n",
    "from sklearn.metrics import silhouette_score\n",
    "\n",
    "# list of different models\n",
    "models = ['Ward Hierarchical Clustering', 'Kmeans', 'Spectral Clustering'] \n",
    "  \n",
    "# List of scores\n",
    "scores = [] \n",
    "  \n",
    "# Evaluating the performance \n",
    "scores.append(silhouette_score(..., ...))\n",
    "scores.append(silhouette_score(..., ...))\n",
    "scores.append(silhouette_score(..., ...))\n",
    "  \n",
    "# Plotting a Bar Graph to compare the models \n",
    "plt.bar(..., ...) \n",
    "plt.xlabel('Models') \n",
    "plt.ylabel('Silhouette Score')\n",
    "plt.grid(alpha=0.5)\n",
    "plt.title('Comparison of different Clustering Models')\n",
    "plt.show() \n",
    "print(scores)"
   ]
  },
  {
   "cell_type": "code",
   "execution_count": null,
   "id": "d607bb33",
   "metadata": {},
   "outputs": [],
   "source": [
    "############################################ Task 5 ############################################\n",
    "# Compare the Calinski-Harabasz scores for hierarchical clustering with the 'ward' linkage method, k-means clustering and spectral clustering.\n",
    "# ----------------------------------------- start here -----------------------------------------\n",
    "\n",
    "# list of different models\n",
    "models = ['Ward Hierarchical Clustering', 'Kmeans', 'Spectral Clustering'] \n",
    "  \n",
    "# List of scores\n",
    "scores = [] \n",
    "  \n",
    "# Evaluating the performance \n",
    "scores.append(calinski_harabasz_score(..., ...))\n",
    "scores.append(calinski_harabasz_score(.., ...))\n",
    "scores.append(calinski_harabasz_score(..., ...))\n",
    "  \n",
    "# Plotting a Bar Graph to compare the models \n",
    "plt.bar(..., ...) \n",
    "plt.xlabel('Models') \n",
    "plt.ylabel('Calinski Harabasz Score')\n",
    "plt.grid(alpha=0.5)\n",
    "plt.title('Comparison of different Clustering Models')\n",
    "plt.show() \n",
    "print(scores)"
   ]
  },
  {
   "cell_type": "code",
   "execution_count": null,
   "id": "807d5325",
   "metadata": {},
   "outputs": [],
   "source": []
  }
 ],
 "metadata": {
  "kernelspec": {
   "display_name": "Python 3 (ipykernel)",
   "language": "python",
   "name": "python3"
  },
  "language_info": {
   "codemirror_mode": {
    "name": "ipython",
    "version": 3
   },
   "file_extension": ".py",
   "mimetype": "text/x-python",
   "name": "python",
   "nbconvert_exporter": "python",
   "pygments_lexer": "ipython3",
   "version": "3.11.5"
  }
 },
 "nbformat": 4,
 "nbformat_minor": 5
}
