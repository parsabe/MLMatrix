{
 "cells": [
  {
   "cell_type": "markdown",
   "id": "fa2d82b5",
   "metadata": {},
   "source": [
    "# Principal Component Analysis"
   ]
  },
  {
   "cell_type": "code",
   "execution_count": null,
   "id": "fb368260",
   "metadata": {},
   "outputs": [],
   "source": [
    "import numpy as np\n",
    "import pandas as pd\n",
    "from sklearn.datasets import load_digits\n",
    "import matplotlib.pyplot as plt\n",
    "from sklearn.preprocessing import StandardScaler\n",
    "\n",
    "import seaborn as sns\n",
    "from sklearn.decomposition import PCA"
   ]
  },
  {
   "cell_type": "markdown",
   "id": "72f39ce9",
   "metadata": {},
   "source": [
    "## Load the data"
   ]
  },
  {
   "cell_type": "code",
   "execution_count": null,
   "id": "38a04a90",
   "metadata": {},
   "outputs": [],
   "source": [
    "############################################ Task 1 ############################################\n",
    "# Load the data\n",
    "# ----------------------------------------- start here -----------------------------------------\n",
    "\n",
    "digits = ..."
   ]
  },
  {
   "cell_type": "code",
   "execution_count": null,
   "id": "b5fa9c5c",
   "metadata": {},
   "outputs": [],
   "source": [
    "############################################ Task 1 ############################################\n",
    "# Display the first digit in the dataset\n",
    "# ----------------------------------------- start here -----------------------------------------\n",
    "\n",
    "plt.figure(figsize=(2, 1))\n",
    "plt.imshow(...)\n",
    "plt.show()"
   ]
  },
  {
   "cell_type": "markdown",
   "id": "3ed38c0b",
   "metadata": {},
   "source": [
    "## Normalize the data"
   ]
  },
  {
   "cell_type": "code",
   "execution_count": null,
   "id": "85006dc4",
   "metadata": {},
   "outputs": [],
   "source": [
    "############################################ Task 1 ############################################\n",
    "# Use StandardScaler function from sklearn.preprocessing to standardize the data\n",
    "# ----------------------------------------- start here -----------------------------------------\n",
    "\n",
    "X = ...\n",
    "scaler = StandardScaler()\n",
    "scaled_X = ...(X)"
   ]
  },
  {
   "cell_type": "markdown",
   "id": "edeb0655",
   "metadata": {},
   "source": [
    "## Build a PCA model"
   ]
  },
  {
   "cell_type": "code",
   "execution_count": null,
   "id": "ae10ecd6",
   "metadata": {},
   "outputs": [],
   "source": [
    "############################################ Task 1 ############################################\n",
    "# Apply a PCA model to the standardized dataset\n",
    "# ----------------------------------------- start here -----------------------------------------\n",
    "\n",
    "# Create PCA model\n",
    "model = ...\n",
    "\n",
    "# Apply the fit_transform method of model to data\n",
    "X_pca = ...(scaled_X)"
   ]
  },
  {
   "cell_type": "code",
   "execution_count": null,
   "id": "15a22560",
   "metadata": {},
   "outputs": [],
   "source": [
    "############################################ Task 1 ############################################\n",
    "# Get the first four principal components\n",
    "# ----------------------------------------- start here -----------------------------------------\n",
    "\n",
    "first_pc = ...\n",
    "second_pc = ...\n",
    "third_pc = ...\n",
    "fourth_pc = ..."
   ]
  },
  {
   "cell_type": "code",
   "execution_count": null,
   "id": "f4b0d73b",
   "metadata": {
    "scrolled": true
   },
   "outputs": [],
   "source": [
    "############################################ Task 1 ############################################\n",
    "# Plot the first four principal components\n",
    "# ----------------------------------------- start here -----------------------------------------\n",
    "\n",
    "plt.figure(figsize=(20, 5))\n",
    "\n",
    "plt.subplot(1, 4, 1)\n",
    "sns.heatmap(...,cmap=\"Blues\")\n",
    "plt.title('Principal Component 1')\n",
    "\n",
    "plt.subplot(1, 4, 2)\n",
    "sns.heatmap(...,cmap=\"Blues\")\n",
    "plt.title('Principal Component 2')\n",
    "\n",
    "plt.subplot(1, 4, 3)\n",
    "sns.heatmap(...,cmap=\"Blues\")\n",
    "plt.title('Principal Component 3')\n",
    "\n",
    "plt.subplot(1, 4, 4)\n",
    "sns.heatmap(...,cmap=\"Blues\")\n",
    "plt.title('Principal Component 4')\n",
    "\n",
    "plt.tight_layout()\n",
    "plt.show()"
   ]
  },
  {
   "cell_type": "code",
   "execution_count": null,
   "id": "5496c507",
   "metadata": {
    "scrolled": false
   },
   "outputs": [],
   "source": [
    "############################################ Task 1 ############################################\n",
    "# Plot the individual explained variances\n",
    "# ----------------------------------------- start here -----------------------------------------\n",
    "\n",
    "plt.figure(figsize=(15, 5))\n",
    "features = range(model.n_components_)\n",
    "plt.plot(features, ..., marker='o')\n",
    "plt.xlabel('The principal component')\n",
    "plt.ylabel('Individual explained variance')\n",
    "plt.grid()\n",
    "plt.show()"
   ]
  },
  {
   "cell_type": "code",
   "execution_count": null,
   "id": "e93f7629",
   "metadata": {},
   "outputs": [],
   "source": [
    "############################################ Task 1 ############################################\n",
    "# Plot the cumulative explained variances\n",
    "# ----------------------------------------- start here -----------------------------------------\n",
    "\n",
    "plt.figure(figsize=(15, 5))\n",
    "features = range(model.n_components_)\n",
    "plt.plot(features, ..., marker='o')\n",
    "plt.xlabel('The principal component')\n",
    "plt.ylabel('Cumulative explained variance')\n",
    "plt.grid()\n",
    "plt.show()"
   ]
  },
  {
   "cell_type": "markdown",
   "id": "cbb40ec1",
   "metadata": {},
   "source": [
    "## Reconstruction"
   ]
  },
  {
   "cell_type": "code",
   "execution_count": null,
   "id": "af1eb937",
   "metadata": {},
   "outputs": [],
   "source": [
    "############################################ Task 2 ############################################\n",
    "# Create a PCA model with n = 20 components, apply it to the digits dataset\n",
    "# ----------------------------------------- start here -----------------------------------------\n",
    "\n",
    "# Create PCA model\n",
    "pca_20 = ...\n",
    "\n",
    "# Apply the fit_transform method of model to data\n",
    "X_pca_20 = ..."
   ]
  },
  {
   "cell_type": "code",
   "execution_count": null,
   "id": "fd4c637a",
   "metadata": {},
   "outputs": [],
   "source": [
    "############################################ Task 2 ############################################\n",
    "# Reconstruct the transformed digits\n",
    "# ----------------------------------------- start here -----------------------------------------\n",
    "\n",
    "# Reconstruct the transformed images\n",
    "reconstructed_images = ... # reconstruct from PCA \n",
    "reconstructed_images = ... # reconstruct from Standardization\n",
    "\n",
    "fig, ax = plt.subplots(2, 10, figsize=(15, 8),\n",
    "                       subplot_kw={'xticks':[], 'yticks':[]},\n",
    "                       gridspec_kw=dict(hspace=-0.75, wspace=0.1))\n",
    "    \n",
    "for j in range(10):\n",
    "    ax[0, j].imshow(...) # show the orginal images\n",
    "    ax[1, j].imshow(...) # show the reconstructed images\n",
    "\n",
    "ax[0, 0].set_ylabel('Orginal Image')\n",
    "ax[1, 0].set_ylabel('Reconstruction')"
   ]
  },
  {
   "cell_type": "code",
   "execution_count": null,
   "id": "584f473b",
   "metadata": {},
   "outputs": [],
   "source": [
    "############################################ Task 2 ############################################\n",
    "# Calculate the mse between the original image and the reconstructed image with different number of principal components\n",
    "# ----------------------------------------- start here -----------------------------------------\n",
    "\n",
    "def pca_mse(n):\n",
    "    \n",
    "    pca = ... # create a PCA model\n",
    "    X_transformed = ... # apply the PCA model to the standardized dataset\n",
    "\n",
    "    X_original = ... # obtain the original images\n",
    "    X_hat = ... # obtain the reconstucted images\n",
    "    mse = ... # calculate the mse between the original images and the reconstructed images\n",
    "    \n",
    "    return mse"
   ]
  },
  {
   "cell_type": "code",
   "execution_count": null,
   "id": "145cf824",
   "metadata": {},
   "outputs": [],
   "source": [
    "# Print the mean square error (MSE) between the original images and the reconstructed images\n",
    "# with the increasing number of principal components\n",
    "\n",
    "mses = []\n",
    "N = 64\n",
    "for i in range(1,N+1):\n",
    "    error = pca_mse(i)\n",
    "    print(\"%d-component(s) PCA: MSE = %0.4f\"%(i,error))\n",
    "    mses.append((i,error))\n",
    "    \n",
    "mses = np.array(mses)"
   ]
  },
  {
   "cell_type": "code",
   "execution_count": null,
   "id": "50baae50",
   "metadata": {},
   "outputs": [],
   "source": [
    "############################################ Task 2 ############################################\n",
    "# Plot the MSE with the increasing number of principal components.\n",
    "# ----------------------------------------- start here -----------------------------------------\n",
    "\n",
    "plt.plot(...,...,'-o',label='MSE')\n",
    "plt.title('Mean Square Error (Principal Components Analysis)')\n",
    "plt.xlabel('Number of Principal Components')\n",
    "plt.ylabel('Mean Square Error')\n",
    "plt.show()"
   ]
  }
 ],
 "metadata": {
  "kernelspec": {
   "display_name": "Python 3 (ipykernel)",
   "language": "python",
   "name": "python3"
  },
  "language_info": {
   "codemirror_mode": {
    "name": "ipython",
    "version": 3
   },
   "file_extension": ".py",
   "mimetype": "text/x-python",
   "name": "python",
   "nbconvert_exporter": "python",
   "pygments_lexer": "ipython3",
   "version": "3.11.5"
  }
 },
 "nbformat": 4,
 "nbformat_minor": 5
}
