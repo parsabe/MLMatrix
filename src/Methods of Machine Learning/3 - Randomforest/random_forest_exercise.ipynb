{
 "cells": [
  {
   "cell_type": "markdown",
   "id": "abe7918a",
   "metadata": {},
   "source": [
    "# Random Forest"
   ]
  },
  {
   "cell_type": "markdown",
   "id": "acc78436",
   "metadata": {},
   "source": [
    "* ### Random Forest Explaination\n",
    "\n",
    "<img src=\"randomforest.png\" width=\"650\"/>"
   ]
  },
  {
   "cell_type": "markdown",
   "id": "52d3e2c1",
   "metadata": {},
   "source": [
    "* ### Prediction:\n",
    "\n",
    "    #### Classification: by majority voting\n",
    "\n",
    "    #### Regression: by averaging"
   ]
  },
  {
   "cell_type": "markdown",
   "id": "bde73444",
   "metadata": {},
   "source": [
    "## Loading Data"
   ]
  },
  {
   "cell_type": "code",
   "execution_count": null,
   "id": "78e23527",
   "metadata": {},
   "outputs": [],
   "source": [
    "import numpy as np\n",
    "from sklearn.datasets import load_wine"
   ]
  },
  {
   "cell_type": "code",
   "execution_count": null,
   "id": "e4cdff4b",
   "metadata": {},
   "outputs": [],
   "source": [
    "# Load wine dataset from sklearn\n",
    "wine = load_wine()\n",
    "X = wine.data\n",
    "y = wine.target"
   ]
  },
  {
   "cell_type": "markdown",
   "id": "eba52bee",
   "metadata": {},
   "source": [
    "## Fitting and Testing Model"
   ]
  },
  {
   "cell_type": "code",
   "execution_count": null,
   "id": "7347498d",
   "metadata": {},
   "outputs": [],
   "source": [
    "from sklearn.model_selection import train_test_split\n",
    "from sklearn.ensemble import RandomForestClassifier\n",
    "from sklearn.metrics import accuracy_score"
   ]
  },
  {
   "cell_type": "code",
   "execution_count": null,
   "id": "41cda55c",
   "metadata": {},
   "outputs": [],
   "source": [
    "# Split the dataset into 80% train, 20% test\n",
    "X_train, X_test, y_train, y_test = train_test_split(X,y,test_size=0.2)"
   ]
  },
  {
   "cell_type": "code",
   "execution_count": null,
   "id": "847a0845",
   "metadata": {},
   "outputs": [],
   "source": [
    "############################################ Task 3 ############################################\n",
    "# Train a random forest calssifier using RandomForestClassifier with 20 trees\n",
    "# and estimate its generalization error\n",
    "# ----------------------------------------- start here -----------------------------------------\n",
    "\n",
    "# Instantiate a random forest classifier\n",
    "rfc = RandomForestClassifier(...)\n",
    "\n",
    "# Fit the random forest classifier to the training set\n",
    "...\n",
    "\n",
    "# Predict the test set labels\n",
    "y_pred = ...\n",
    "\n",
    "# Print the accuracy of the test set\n",
    "accuracy = ...\n",
    "print(\"Accuracy:\", accuracy)"
   ]
  },
  {
   "cell_type": "markdown",
   "id": "9bea67e9",
   "metadata": {},
   "source": [
    "## Multiclass Classification Metrics"
   ]
  },
  {
   "cell_type": "markdown",
   "id": "eb729c4d",
   "metadata": {},
   "source": [
    "* ### Precision, recall, F1 score"
   ]
  },
  {
   "cell_type": "markdown",
   "id": "b4dd59b2",
   "metadata": {},
   "source": [
    "<img src=\"metrics.png\"/>"
   ]
  },
  {
   "cell_type": "code",
   "execution_count": null,
   "id": "e028b04f",
   "metadata": {},
   "outputs": [],
   "source": [
    "from sklearn.metrics import ConfusionMatrixDisplay, confusion_matrix\n",
    "import matplotlib.pyplot as plt"
   ]
  },
  {
   "cell_type": "code",
   "execution_count": null,
   "id": "6de2187b",
   "metadata": {
    "scrolled": true
   },
   "outputs": [],
   "source": [
    "############################################ Task 3 ############################################\n",
    "# Display the confusion matrix for the predictions\n",
    "# ----------------------------------------- start here -----------------------------------------\n",
    "\n",
    "# Plot confusion matrix\n",
    "fig, ax = plt.subplots(figsize=(3, 3))\n",
    "cmp = ...(...,display_labels=[\"class_0\", \"class_1\", \"class_2\"],)\n",
    "cmp.plot(ax=ax)\n",
    "plt.show()"
   ]
  },
  {
   "cell_type": "markdown",
   "id": "bc2ce10f",
   "metadata": {},
   "source": [
    "* ### One-vs-Rest (OVR, also called One-vs-All) approach"
   ]
  },
  {
   "cell_type": "code",
   "execution_count": null,
   "id": "aaf407b8",
   "metadata": {},
   "outputs": [],
   "source": [
    "from sklearn.metrics import classification_report"
   ]
  },
  {
   "cell_type": "code",
   "execution_count": null,
   "id": "49e934a5",
   "metadata": {
    "scrolled": false
   },
   "outputs": [],
   "source": [
    "############################################ Task 3 ############################################\n",
    "# Check precision, recall and f1-score of the predictions using classification report\n",
    "# ----------------------------------------- start here -----------------------------------------\n",
    "\n",
    "print(...(..., ..., target_names=...))"
   ]
  },
  {
   "cell_type": "markdown",
   "id": "43500779",
   "metadata": {},
   "source": [
    "   * ### OOB_Score (Out Of Bag Score)"
   ]
  },
  {
   "cell_type": "code",
   "execution_count": null,
   "id": "6006c109",
   "metadata": {
    "scrolled": true
   },
   "outputs": [],
   "source": [
    "############################################ Task 3 ############################################\n",
    "# Train a random forest calssifier using RandomForestClassifier with 20 trees again\n",
    "# print both test set accuracy and OOB accuracy\n",
    "# ----------------------------------------- start here -----------------------------------------\n",
    "\n",
    "# Instantiate rfc\n",
    "rfc = RandomForestClassifier(n_estimators=20, ...)\n",
    "\n",
    "# Fit the random forest classifier to the training set\n",
    "...\n",
    "\n",
    "# Predict the test set labels\n",
    "...\n",
    "\n",
    "# Evaluate the accuracy of the test set\n",
    "acc_test = ...\n",
    "\n",
    "# Evaluate OOB accuracy\n",
    "acc_oob = ...\n",
    "\n",
    "# Print acc_test and acc_oob\n",
    "print('Test set accuracy: {:.3f}, OOB accuracy: {:.3f}'.format(acc_test, acc_oob))"
   ]
  },
  {
   "cell_type": "markdown",
   "id": "7baa84bf",
   "metadata": {},
   "source": [
    "## Feature Importance"
   ]
  },
  {
   "cell_type": "code",
   "execution_count": null,
   "id": "7ed07119",
   "metadata": {},
   "outputs": [],
   "source": [
    "import pandas as pd"
   ]
  },
  {
   "cell_type": "code",
   "execution_count": null,
   "id": "c0f67c59",
   "metadata": {},
   "outputs": [],
   "source": [
    "############################################ Task 4 ############################################\n",
    "# Study the importance of all features with the random forest calssifier with 20 trees and\n",
    "# reorder the features according the their estimated importance.\n",
    "# ----------------------------------------- start here -----------------------------------------\n",
    "\n",
    "# Create a pd.Series of features importances\n",
    "importances = pd.Series(data=..., index=wine.feature_names)\n",
    "\n",
    "# Sort importances\n",
    "importances_sorted = ...\n",
    "\n",
    "# Draw a horizontal barplot of importances_sorted\n",
    "importances_sorted.plot(kind='barh')\n",
    "plt.title('Features Importances')\n",
    "plt.show()"
   ]
  },
  {
   "cell_type": "code",
   "execution_count": null,
   "id": "52e77894",
   "metadata": {},
   "outputs": [],
   "source": [
    "from sklearn.model_selection import cross_val_score"
   ]
  },
  {
   "cell_type": "code",
   "execution_count": null,
   "id": "c2c5f4fb",
   "metadata": {},
   "outputs": [],
   "source": [
    "############################################ Task 4 ############################################\n",
    "# Increase the number of features starting with the most important feature and \n",
    "# report the cross validation error versus the number of sorted features\n",
    "# ----------------------------------------- start here -----------------------------------------\n",
    "\n",
    "# Create a pd.Series of features importances\n",
    "importances_ = pd.Series(data=...)\n",
    "\n",
    "# Sort importances\n",
    "index_list = ...\n",
    "\n",
    "# Create a rfc\n",
    "rfc = RandomForestClassifier(n_estimators=20)\n",
    "    \n",
    "scores = []\n",
    "slice_ = []\n",
    "\n",
    "for i in index_list.index:\n",
    "    \n",
    "    slice_.append(i)\n",
    "    \n",
    "    # Increase features gradually\n",
    "    X_slice = wine.data[:,...]\n",
    "    y_slice = wine.target\n",
    "    \n",
    "    # Calculate the cross validaton errors\n",
    "    score_cv = cross_val_score(..., ..., ..., cv=5)\n",
    "\n",
    "    # Add cross validaton errors to a list\n",
    "    scores.append(score_cv.mean())"
   ]
  },
  {
   "cell_type": "code",
   "execution_count": null,
   "id": "a8ee36ef",
   "metadata": {},
   "outputs": [],
   "source": [
    "# Plot cross validaton errors\n",
    "plt.title(\"RandomForestClassifier: Varying Number of Features\")\n",
    "plt.plot(np.arange(13)+1, scores, label=\"Cross_val_score\")\n",
    "plt.xlabel(\"Number of Features\")\n",
    "plt.ylabel(\"Cross_val_score\")\n",
    "plt.legend()\n",
    "plt.grid()\n",
    "plt.show()"
   ]
  },
  {
   "cell_type": "markdown",
   "id": "d0cc8303",
   "metadata": {},
   "source": [
    "## Hyperparameter Tuning"
   ]
  },
  {
   "cell_type": "markdown",
   "id": "d5be39e6",
   "metadata": {},
   "source": [
    "<img src=\"compare.png\" width=\"800\"/>"
   ]
  },
  {
   "cell_type": "code",
   "execution_count": null,
   "id": "f67ce512",
   "metadata": {},
   "outputs": [],
   "source": [
    "# Import GridSearchCV and RandomizedSearchCV\n",
    "from sklearn.model_selection import GridSearchCV, RandomizedSearchCV\n",
    "import time"
   ]
  },
  {
   "cell_type": "code",
   "execution_count": null,
   "id": "a8ab0c18",
   "metadata": {},
   "outputs": [],
   "source": [
    "# Only consider data with the most important features\n",
    "X_slice = wine.data[:,index_list.index[0:5]]\n",
    "y_slice = wine.target"
   ]
  },
  {
   "cell_type": "code",
   "execution_count": null,
   "id": "0077885e",
   "metadata": {},
   "outputs": [],
   "source": [
    "# Split the dataset into 80% train, 20% test\n",
    "X_train, X_test, y_train, y_test = train_test_split(X_slice,y_slice,test_size=0.2,random_state=1)"
   ]
  },
  {
   "cell_type": "code",
   "execution_count": null,
   "id": "3c538c10",
   "metadata": {},
   "outputs": [],
   "source": [
    "# Define the dictionary 'params_rf'\n",
    "params_rf = {'n_estimators':list(range(10,100,10)), \n",
    "             'max_features':['sqrt', 'log2'],\n",
    "             'max_depth':list(range(10,50,10)),\n",
    "             'criterion':['gini', 'entropy']}"
   ]
  },
  {
   "cell_type": "markdown",
   "id": "2db930bb",
   "metadata": {},
   "source": [
    "* ### Grid search"
   ]
  },
  {
   "cell_type": "code",
   "execution_count": null,
   "id": "a71d16a3",
   "metadata": {},
   "outputs": [],
   "source": [
    "############################################ Task 5 ############################################\n",
    "# Perform a grid search to find the best combination of parameters.\n",
    "# Train a random forest calssifier for the found best combination, estimate its generalization error and print the computation time.\n",
    "# ----------------------------------------- start here -----------------------------------------\n",
    "\n",
    "start = ...\n",
    "\n",
    "# Instantiate GridSearchCV for random forest\n",
    "gs_rfc = GridSearchCV(estimator=...,\n",
    "                      param_grid=...,\n",
    "                      scoring=...,\n",
    "                      cv=5,\n",
    "                      refit=True,\n",
    "                      n_jobs=-1)\n",
    "\n",
    "# Fit gs_rfc with training set\n",
    "...\n",
    "\n",
    "# Extract the best estimator\n",
    "best_model = ...\n",
    "\n",
    "# Predict test set labels\n",
    "y_pred = ...\n",
    "\n",
    "# Calculate the accuracy with test data\n",
    "accuracy = ...\n",
    "\n",
    "# Print the accuracy\n",
    "print(\"Accuracy:\", accuracy)\n",
    "\n",
    "end = ...\n",
    "# print the time used for GridSearchCV\n",
    "print('Time for grid search: ', ...)"
   ]
  },
  {
   "cell_type": "markdown",
   "id": "7dd63ee9",
   "metadata": {},
   "source": [
    "* ### Random search"
   ]
  },
  {
   "cell_type": "code",
   "execution_count": null,
   "id": "7ece215a",
   "metadata": {},
   "outputs": [],
   "source": [
    "############################################ Task 5 ############################################\n",
    "# Perform a random search to find the best combination of parameters.\n",
    "# Train a random forest calssifier for the found best combination, estimate its generalization error and print the computation time.\n",
    "# ----------------------------------------- start here -----------------------------------------\n",
    "\n",
    "start = ...\n",
    "\n",
    "# Instantiate RandomizedSearchCV for random forest\n",
    "rs_rfc = RandomizedSearchCV(estimator=...,\n",
    "                            param_distributions=...,\n",
    "                            scoring=...,\n",
    "                            cv=5,\n",
    "                            refit=True,\n",
    "                            n_jobs=-1)\n",
    "\n",
    "# Fit rs_rfc with training set\n",
    "...\n",
    "\n",
    "# Extract the best estimator\n",
    "best_model = ...\n",
    "\n",
    "# Predict test set labels\n",
    "y_pred = ...\n",
    "\n",
    "# Calculate the accuracy with test data\n",
    "accuracy = ...\n",
    "\n",
    "# Print the accuracy\n",
    "print(\"Accuracy:\", accuracy)\n",
    "\n",
    "end = ...\n",
    "# print the time used for RandomizedSearchCV\n",
    "print('Time for random search: ', ...)"
   ]
  }
 ],
 "metadata": {
  "kernelspec": {
   "display_name": "Python 3 (ipykernel)",
   "language": "python",
   "name": "python3"
  },
  "language_info": {
   "codemirror_mode": {
    "name": "ipython",
    "version": 3
   },
   "file_extension": ".py",
   "mimetype": "text/x-python",
   "name": "python",
   "nbconvert_exporter": "python",
   "pygments_lexer": "ipython3",
   "version": "3.11.5"
  }
 },
 "nbformat": 4,
 "nbformat_minor": 5
}
