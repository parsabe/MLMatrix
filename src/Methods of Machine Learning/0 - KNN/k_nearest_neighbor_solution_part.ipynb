{
 "cells": [
  {
   "cell_type": "markdown",
   "id": "5051f5a5",
   "metadata": {},
   "source": [
    "# K Nearest Neighbor Classifier\n",
    "\n",
    "### Predict the label of a data point by\n",
    "\n",
    "   * Looking at the $k$ closest labeled data points\n",
    "\n",
    "   * Taking a majority vote\n",
    "\n",
    "<center><img src=\"knn_classifier.png\" width=\"200\"/></center>\n",
    "<br />\n",
    "<center>Example of k-NN classification.</center>"
   ]
  },
  {
   "cell_type": "code",
   "execution_count": null,
   "id": "23961cb3",
   "metadata": {},
   "outputs": [],
   "source": [
    "import numpy as np\n",
    "from sklearn.datasets import load_wine\n",
    "import matplotlib.pyplot as plt\n",
    "from sklearn.preprocessing import MinMaxScaler\n",
    "from sklearn.preprocessing import StandardScaler\n",
    "from sklearn.model_selection import train_test_split\n",
    "from sklearn.neighbors import KNeighborsClassifier\n",
    "from sklearn.inspection import DecisionBoundaryDisplay\n",
    "from sklearn.model_selection import GridSearchCV\n",
    "from sklearn.metrics import accuracy_score\n",
    "import pandas as pd\n",
    "from sklearn.model_selection import cross_val_score"
   ]
  },
  {
   "cell_type": "markdown",
   "id": "f8fce7a7",
   "metadata": {},
   "source": [
    "## Loading Data"
   ]
  },
  {
   "cell_type": "code",
   "execution_count": 2,
   "id": "547704de",
   "metadata": {
    "scrolled": true
   },
   "outputs": [
    {
     "name": "stdout",
     "output_type": "stream",
     "text": [
      ".. _wine_dataset:\n",
      "\n",
      "Wine recognition dataset\n",
      "------------------------\n",
      "\n",
      "**Data Set Characteristics:**\n",
      "\n",
      "    :Number of Instances: 178\n",
      "    :Number of Attributes: 13 numeric, predictive attributes and the class\n",
      "    :Attribute Information:\n",
      " \t\t- Alcohol\n",
      " \t\t- Malic acid\n",
      " \t\t- Ash\n",
      "\t\t- Alcalinity of ash  \n",
      " \t\t- Magnesium\n",
      "\t\t- Total phenols\n",
      " \t\t- Flavanoids\n",
      " \t\t- Nonflavanoid phenols\n",
      " \t\t- Proanthocyanins\n",
      "\t\t- Color intensity\n",
      " \t\t- Hue\n",
      " \t\t- OD280/OD315 of diluted wines\n",
      " \t\t- Proline\n",
      "\n",
      "    - class:\n",
      "            - class_0\n",
      "            - class_1\n",
      "            - class_2\n",
      "\t\t\n",
      "    :Summary Statistics:\n",
      "    \n",
      "    ============================= ==== ===== ======= =====\n",
      "                                   Min   Max   Mean     SD\n",
      "    ============================= ==== ===== ======= =====\n",
      "    Alcohol:                      11.0  14.8    13.0   0.8\n",
      "    Malic Acid:                   0.74  5.80    2.34  1.12\n",
      "    Ash:                          1.36  3.23    2.36  0.27\n",
      "    Alcalinity of Ash:            10.6  30.0    19.5   3.3\n",
      "    Magnesium:                    70.0 162.0    99.7  14.3\n",
      "    Total Phenols:                0.98  3.88    2.29  0.63\n",
      "    Flavanoids:                   0.34  5.08    2.03  1.00\n",
      "    Nonflavanoid Phenols:         0.13  0.66    0.36  0.12\n",
      "    Proanthocyanins:              0.41  3.58    1.59  0.57\n",
      "    Colour Intensity:              1.3  13.0     5.1   2.3\n",
      "    Hue:                          0.48  1.71    0.96  0.23\n",
      "    OD280/OD315 of diluted wines: 1.27  4.00    2.61  0.71\n",
      "    Proline:                       278  1680     746   315\n",
      "    ============================= ==== ===== ======= =====\n",
      "\n",
      "    :Missing Attribute Values: None\n",
      "    :Class Distribution: class_0 (59), class_1 (71), class_2 (48)\n",
      "    :Creator: R.A. Fisher\n",
      "    :Donor: Michael Marshall (MARSHALL%PLU@io.arc.nasa.gov)\n",
      "    :Date: July, 1988\n",
      "\n",
      "This is a copy of UCI ML Wine recognition datasets.\n",
      "https://archive.ics.uci.edu/ml/machine-learning-databases/wine/wine.data\n",
      "\n",
      "The data is the results of a chemical analysis of wines grown in the same\n",
      "region in Italy by three different cultivators. There are thirteen different\n",
      "measurements taken for different constituents found in the three types of\n",
      "wine.\n",
      "\n",
      "Original Owners: \n",
      "\n",
      "Forina, M. et al, PARVUS - \n",
      "An Extendible Package for Data Exploration, Classification and Correlation. \n",
      "Institute of Pharmaceutical and Food Analysis and Technologies,\n",
      "Via Brigata Salerno, 16147 Genoa, Italy.\n",
      "\n",
      "Citation:\n",
      "\n",
      "Lichman, M. (2013). UCI Machine Learning Repository\n",
      "[https://archive.ics.uci.edu/ml]. Irvine, CA: University of California,\n",
      "School of Information and Computer Science. \n",
      "\n",
      ".. topic:: References\n",
      "\n",
      "  (1) S. Aeberhard, D. Coomans and O. de Vel, \n",
      "  Comparison of Classifiers in High Dimensional Settings, \n",
      "  Tech. Rep. no. 92-02, (1992), Dept. of Computer Science and Dept. of  \n",
      "  Mathematics and Statistics, James Cook University of North Queensland. \n",
      "  (Also submitted to Technometrics). \n",
      "\n",
      "  The data was used with many others for comparing various \n",
      "  classifiers. The classes are separable, though only RDA \n",
      "  has achieved 100% correct classification. \n",
      "  (RDA : 100%, QDA 99.4%, LDA 98.9%, 1NN 96.1% (z-transformed data)) \n",
      "  (All results using the leave-one-out technique) \n",
      "\n",
      "  (2) S. Aeberhard, D. Coomans and O. de Vel, \n",
      "  \"THE CLASSIFICATION PERFORMANCE OF RDA\" \n",
      "  Tech. Rep. no. 92-01, (1992), Dept. of Computer Science and Dept. of \n",
      "  Mathematics and Statistics, James Cook University of North Queensland. \n",
      "  (Also submitted to Journal of Chemometrics).\n",
      "\n"
     ]
    }
   ],
   "source": [
    "# Load wine dataset from sklearn\n",
    "wine = load_wine()\n",
    "\n",
    "# Get the detailed description of wine dataset\n",
    "print(wine.DESCR)"
   ]
  },
  {
   "cell_type": "code",
   "execution_count": 1,
   "id": "db029c4b",
   "metadata": {},
   "outputs": [],
   "source": [
    "############################################ Task 1 ############################################\n",
    "# Display the three classes in a 2D plot using only the two features 'alcohol' and 'proline'\n",
    "# ----------------------------------------- start here -----------------------------------------\n",
    "\n",
    "# Take 'Alcohol' and 'Proline' as features\n",
    "X = wine.data[:,[0,-1]]\n",
    "y = wine.target\n",
    "\n",
    "# Visualize the data\n",
    "plt.scatter(X[y == 0][:, 0], X[y == 0][:, 1], marker='o', label='0')\n",
    "plt.scatter(X[y == 1][:, 0], X[y == 1][:, 1], marker='^', label='1')\n",
    "plt.scatter(X[y == 2][:, 0], X[y == 2][:, 1], marker='s', label='2')\n",
    "plt.xlabel('Alcohol')\n",
    "plt.ylabel('Proline')\n",
    "plt.legend(loc = 'best')\n",
    "plt.grid()\n",
    "plt.show()"
   ]
  },
  {
   "cell_type": "markdown",
   "id": "68377344",
   "metadata": {},
   "source": [
    "## Feature Scaling"
   ]
  },
  {
   "cell_type": "markdown",
   "id": "95ad6b42",
   "metadata": {},
   "source": [
    "#### Why feature scaling is important?\n",
    "\n",
    "K-nearest neighbors uses the distance between data points to determine their similarity. Hence, features with a greater magnitude will be assigned a higher weight, this makes the model to be heavily biased toward a single feature."
   ]
  },
  {
   "cell_type": "markdown",
   "id": "f889e3a1",
   "metadata": {},
   "source": [
    "#### MinMaxScaler:\n",
    "\n",
    "$$x_{normalized} = (x – x_{min}) / (x_{max} – x_{min})$$"
   ]
  },
  {
   "cell_type": "markdown",
   "id": "5831052d",
   "metadata": {},
   "source": [
    "#### StandardScaler:\n",
    "\n",
    "$$x_{standardized} = (x – mean(x)) / std(x)$$"
   ]
  },
  {
   "cell_type": "code",
   "execution_count": 3,
   "id": "60832821",
   "metadata": {},
   "outputs": [],
   "source": [
    "############################################ Task 2 ############################################\n",
    "# Display the different scales of the features by plotting parallel box plots\n",
    "# ----------------------------------------- start here -----------------------------------------\n",
    "\n",
    "# Plot all features in Boxplots\n",
    "fig = plt.figure(figsize =(6, 3))\n",
    "plt.boxplot(wine.data)\n",
    "plt.show()"
   ]
  },
  {
   "cell_type": "code",
   "execution_count": 4,
   "id": "4969dae1",
   "metadata": {},
   "outputs": [],
   "source": [
    "# Use MinMaxScaler to standardize the data\n",
    "# ----------------------------------------- start here -----------------------------------------\n",
    "\n",
    "# Scale the features using MinMaxScaler\n",
    "scaler = MinMaxScaler()\n",
    "wine_minmax = scaler.fit_transform(wine.data)\n",
    "\n",
    "# Plot all scaled features in Boxplots\n",
    "fig = plt.figure(figsize =(6, 3))\n",
    "plt.boxplot(wine_minmax)\n",
    "plt.show()"
   ]
  },
  {
   "cell_type": "code",
   "execution_count": null,
   "id": "e5860503",
   "metadata": {},
   "outputs": [],
   "source": [
    "# Use StandardScaler to standardize the data\n",
    "# ----------------------------------------- start here -----------------------------------------\n",
    "\n",
    "# Scale the features using StandardScaler\n",
    "scaler = StandardScaler()\n",
    "wine_std = scaler.fit_transform(wine.data)\n",
    "\n",
    "# Plot all scaled features in Boxplots\n",
    "fig = plt.figure(figsize =(6, 3))\n",
    "plt.boxplot(wine_std)\n",
    "plt.show()"
   ]
  },
  {
   "cell_type": "markdown",
   "id": "989d5bf8",
   "metadata": {},
   "source": [
    "## Splitting the Data & Fitting Model"
   ]
  },
  {
   "cell_type": "code",
   "execution_count": 5,
   "id": "b100116d",
   "metadata": {},
   "outputs": [],
   "source": [
    "############################################ Task 3 ############################################\n",
    "# Split the scaled data into training and test sets (80-20 split)\n",
    "# ----------------------------------------- start here -----------------------------------------\n",
    "\n",
    "# Scale the features using StandardScaler\n",
    "scaler = StandardScaler()\n",
    "X = scaler.fit_transform(X)\n",
    "\n",
    "# Split into training and test sets\n",
    "X_train, X_test, y_train, y_test = train_test_split(X, y, test_size=0.2, random_state=1)\n"
   ]
  },
  {
   "cell_type": "code",
   "execution_count": 6,
   "id": "4a9d7890",
   "metadata": {},
   "outputs": [],
   "source": [
    "# Train k nearest neighbors with k ∈ {1, . . . , 10} using KNeighborsClassifier from sklearn.neighbors\n",
    "# Compute the training and test error w.r.t. 0-1 loss\n",
    "# ----------------------------------------- start here -----------------------------------------\n",
    "\n",
    "# Create neighbors\n",
    "neighbors = np.arange(1, 11)\n",
    "train_accuracies = {}\n",
    "test_accuracies = {}\n",
    "\n",
    "for neighbor in neighbors:\n",
    "    # Set up a KNN Classifier\n",
    "    knnc = KNeighborsClassifier(n_neighbors=neighbor)\n",
    "    # Fit the model\n",
    "    knnc.fit(X_train, y_train)\n",
    "    # Compute accuracy\n",
    "    train_accuracies[neighbor] = knnc.score(X_train, y_train)\n",
    "    test_accuracies[neighbor] = knnc.score(X_test, y_test)\n",
    "    \n",
    "# Add a title\n",
    "plt.title(\"KNN: Varying Number of Neighbors\")\n",
    "# Plot training accuracies\n",
    "plt.plot(neighbors, train_accuracies.values(), label=\"Training Accuracy\")\n",
    "# Plot test accuracies\n",
    "plt.plot(neighbors, test_accuracies.values(), label=\"Testing Accuracy\")\n",
    "plt.legend()\n",
    "plt.xlabel(\"Number of Neighbors\")\n",
    "plt.ylabel(\"Accuracy\")\n",
    "plt.grid()\n",
    "# Display the plot\n",
    "plt.show()"
   ]
  },
  {
   "cell_type": "code",
   "execution_count": 15,
   "id": "c97d9657",
   "metadata": {},
   "outputs": [],
   "source": [
    "# Display the decision boundaries for k = 1, k = 10, and your best choice of k in the 2D plot\n",
    "# ----------------------------------------- start here -----------------------------------------\n",
    "\n",
    "fig, axs = plt.subplots(1, 3, figsize=(15, 5))\n",
    "neighbos = [1,4,10]\n",
    "for i in range(3):\n",
    "    # Set up a KNN Classifier\n",
    "    knnc = KNeighborsClassifier(n_neighbors=neighbos[i])\n",
    "    # Fit the model\n",
    "    knnc.fit(X_train, y_train)\n",
    "    # plot the decision boundary of the classifier\n",
    "    disp = DecisionBoundaryDisplay.from_estimator(knnc, X, response_method=\"predict\", plot_method=\"pcolormesh\",\n",
    "                                                  xlabel='Alcohol', ylabel='Proline', ax=axs[i], alpha=0.5)\n",
    "    scatter = disp.ax_.scatter(X[:, 0], X[:, 1], c=y, edgecolors=\"k\")\n",
    "    disp.ax_.legend(scatter.legend_elements()[0], wine.target_names, loc=\"lower left\", title=\"Classes\",)\n",
    "    _ = disp.ax_.set_title(f\"k={knnc.n_neighbors}\")\n",
    "    "
   ]
  },
  {
   "cell_type": "code",
   "execution_count": null,
   "id": "76b36435",
   "metadata": {},
   "outputs": [],
   "source": [
    "############################################ Task 4 ############################################\n",
    "# Choose k as before (optimal choice from previous task) and vary between Minkowski, Manhatten, and cosine distance\n",
    "# Again plot the decision boundarys and report the training and test accuracies\n",
    "# ----------------------------------------- start here -----------------------------------------\n",
    "\n",
    "fig, axs = plt.subplots(1, 3, figsize=(15, 5))\n",
    "metrics = ...\n",
    "train_accuracies = {}\n",
    "test_accuracies = {}\n",
    "for i in range(3):\n",
    "    # Set up a KNN Classifier\n",
    "    knnc = ...\n",
    "    # Fit the model\n",
    "    ...\n",
    "    # plot the decision boundary of the classifier\n",
    "    disp = DecisionBoundaryDisplay.from_estimator(..., ..., response_method=\"predict\", plot_method=\"pcolormesh\",\n",
    "                                                  xlabel='Alcohol', ylabel='Proline', ax=axs[i], alpha=0.5)\n",
    "    scatter = disp.ax_.scatter(..., ..., c=..., edgecolors=\"k\")\n",
    "    disp.ax_.legend(scatter.legend_elements()[0], wine.target_names, loc=\"lower left\", title=\"Classes\",)\n",
    "    _ = disp.ax_.set_title(f\"metric={metrics[i]}\")\n",
    "    \n",
    "    # Compute the accuracies on the training set and the test set\n",
    "    train_accuracies[i] = ...\n",
    "    test_accuracies[i] = ...\n",
    "\n",
    "# Print the accuracies on the training set and the test set\n",
    "...\n",
    "..."
   ]
  },
  {
   "cell_type": "markdown",
   "id": "dd386294",
   "metadata": {},
   "source": [
    "## Hyperparameter tuning"
   ]
  },
  {
   "cell_type": "markdown",
   "id": "52c3900d",
   "metadata": {},
   "source": [
    "   #### k-fold cross validation"
   ]
  },
  {
   "cell_type": "markdown",
   "id": "5416fbb4",
   "metadata": {},
   "source": [
    "\n",
    "<img src=\"kfold_validation.png\" width=\"800\"/>"
   ]
  },
  {
   "cell_type": "markdown",
   "id": "0b1df31c",
   "metadata": {},
   "source": [
    "#### Grid search"
   ]
  },
  {
   "cell_type": "markdown",
   "id": "e51059b1",
   "metadata": {},
   "source": [
    "\n",
    "<img src=\"gridsearch.png\" width=\"500\"/>"
   ]
  },
  {
   "cell_type": "code",
   "execution_count": 7,
   "id": "be1afcf3",
   "metadata": {},
   "outputs": [],
   "source": [
    "############################################ Task 5 ############################################\n",
    "# Perform a grid search to find the best combination of k ∈ {2, 3, 4, 5, 6, 7}, \n",
    "# metric (Minkowski, Manhatten, cosine), and weights (uniform, distance)\n",
    "# ----------------------------------------- start here -----------------------------------------\n",
    "\n",
    "# Create a KNN Classifier\n",
    "knn_gs = ...\n",
    "\n",
    "# Setup GridSearchCV\n",
    "params = ...\n",
    "gs = GridSearchCV(estimator=..., param_grid=..., scoring='accuracy', cv=5)\n",
    "\n",
    "# Fit GridSearchCV\n",
    "gs.fit(X, y)\n",
    "\n",
    "# Print the best combination of parameters\n",
    "\n"
   ]
  },
  {
   "cell_type": "code",
   "execution_count": 8,
   "id": "c2622840",
   "metadata": {
    "scrolled": true
   },
   "outputs": [],
   "source": [
    "# Estimate the generalization error (w.r.t. 0-1 loss) for the chosen best set of hyperparameters\n",
    "# ----------------------------------------- start here -----------------------------------------\n",
    "\n",
    "# Set up knn with the best combination of parameters\n",
    "knn = ...\n",
    "\n",
    "# Fit knn model\n",
    "...\n",
    "\n",
    "# Predict test data with knn model\n",
    "y_pred = ...\n",
    "\n",
    "# Calculate the accuracy of predictions\n",
    "accuracy = ...\n",
    "\n",
    "# Print the accuracy\n",
    "print(\"Accuracy:\", accuracy)"
   ]
  },
  {
   "cell_type": "markdown",
   "id": "93be87c6",
   "metadata": {},
   "source": [
    "## Add more features"
   ]
  },
  {
   "cell_type": "code",
   "execution_count": 25,
   "id": "3699ab43",
   "metadata": {},
   "outputs": [],
   "source": [
    "############################################ Task 6 ############################################\n",
    "# ----------------------------------------- start here -----------------------------------------\n",
    "\n",
    "# Build feature addition list\n",
    "feature_order = ...\n",
    "\n",
    "scores = []\n",
    "scores_scaler = []\n",
    "\n",
    "for i in range(2, len(feature_order) + 1):\n",
    "    \n",
    "    # Increase features gradually\n",
    "    selected = feature_order[:i]\n",
    "    X_cv = wine.data[:, selected]\n",
    "    y_cv = wine.target\n",
    "    \n",
    "    # Scale the features using StandardScaler\n",
    "    scaler = ...\n",
    "    X_cv_scaler = ...\n",
    "    \n",
    "    # Create a KNN classifier with the best combination of parameters\n",
    "    knn_cv = ...\n",
    "    \n",
    "    # Calculate cross validaton errors for raw data\n",
    "    score_cv = cross_val_score(..., ..., ..., cv=5)\n",
    "    \n",
    "    # Calculate cross validaton errors for standardized data\n",
    "    score_cv_scaler = cross_val_score(..., ..., ..., cv=5)\n",
    "    \n",
    "    # Add cross validaton errors for raw data to a list\n",
    "    scores.append(...)\n",
    "    \n",
    "    # Add cross validaton errors for standardized data to a list\n",
    "    scores_scaler.append(...) "
   ]
  },
  {
   "cell_type": "code",
   "execution_count": null,
   "id": "aba0d37a",
   "metadata": {},
   "outputs": [],
   "source": [
    "# Compare cross validaton errors between raw data and standardized data\n",
    "plt.title(\"KNN: Varying Number of Features\")\n",
    "plt.plot(..., ..., label='Raw data')\n",
    "plt.plot(..., ..., label='Standardized data')\n",
    "plt.xlabel(\"Number of Features\")\n",
    "plt.ylabel(\"Accuracy\")\n",
    "plt.legend()\n",
    "plt.show()"
   ]
  }
 ],
 "metadata": {
  "kernelspec": {
   "display_name": "Python 3 (ipykernel)",
   "language": "python",
   "name": "python3"
  },
  "language_info": {
   "codemirror_mode": {
    "name": "ipython",
    "version": 3
   },
   "file_extension": ".py",
   "mimetype": "text/x-python",
   "name": "python",
   "nbconvert_exporter": "python",
   "pygments_lexer": "ipython3",
   "version": "3.11.5"
  }
 },
 "nbformat": 4,
 "nbformat_minor": 5
}
