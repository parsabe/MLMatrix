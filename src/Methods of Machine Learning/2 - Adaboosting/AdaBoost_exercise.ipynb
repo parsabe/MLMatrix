{
 "cells": [
  {
   "cell_type": "markdown",
   "id": "0680f8a2",
   "metadata": {},
   "source": [
    "# AdaBoost"
   ]
  },
  {
   "cell_type": "markdown",
   "id": "3f7fb2c8",
   "metadata": {},
   "source": [
    "* ### AdaBoost Explaination\n",
    "\n",
    "<img src=\"adaboost.png\" width=\"650\"/>"
   ]
  },
  {
   "cell_type": "markdown",
   "id": "bde73444",
   "metadata": {},
   "source": [
    "## Loading Data"
   ]
  },
  {
   "cell_type": "code",
   "execution_count": null,
   "id": "78e23527",
   "metadata": {},
   "outputs": [],
   "source": [
    "import numpy as np\n",
    "from sklearn.datasets import load_wine"
   ]
  },
  {
   "cell_type": "code",
   "execution_count": null,
   "id": "e4cdff4b",
   "metadata": {},
   "outputs": [],
   "source": [
    "############################################ Task 1 ############################################\n",
    "# Load the wine dataset\n",
    "# ----------------------------------------- start here -----------------------------------------\n",
    "\n",
    "wine = ...  # Load the dataset\n",
    "X = ...     # extract all features\n",
    "y = ...     # extract all targets"
   ]
  },
  {
   "cell_type": "markdown",
   "id": "eba52bee",
   "metadata": {},
   "source": [
    "## Fitting and Testing Model"
   ]
  },
  {
   "cell_type": "code",
   "execution_count": null,
   "id": "7347498d",
   "metadata": {},
   "outputs": [],
   "source": [
    "from sklearn.model_selection import train_test_split\n",
    "from sklearn.tree import DecisionTreeClassifier, plot_tree\n",
    "from sklearn.ensemble import AdaBoostClassifier\n",
    "from sklearn.metrics import accuracy_score\n",
    "import matplotlib.pyplot as plt"
   ]
  },
  {
   "cell_type": "code",
   "execution_count": null,
   "id": "41cda55c",
   "metadata": {},
   "outputs": [],
   "source": [
    "############################################ Task 1 ############################################\n",
    "# Split the dataset into 80% train, 20% test\n",
    "# ----------------------------------------- start here -----------------------------------------\n",
    "\n",
    "X_train, X_test, y_train, y_test = ...(...,...,test_size=...)"
   ]
  },
  {
   "cell_type": "code",
   "execution_count": null,
   "id": "16a82690",
   "metadata": {},
   "outputs": [],
   "source": [
    "############################################ Task 1 ############################################\n",
    "# Train a full decision tree classifier, check its training and test error\n",
    "# ----------------------------------------- start here -----------------------------------------\n",
    "\n",
    "# Instantiate a decision tree classifier\n",
    "dt = ...\n",
    "\n",
    "# Fit dt to the training set\n",
    "dt.fit(...,...)\n",
    "\n",
    "# Predict on train dataset\n",
    "y_pred_train=dt.predict(...)\n",
    "\n",
    "# Print training accuracy \n",
    "print(\"Accuracy_train:\",...(..., ...))\n",
    "\n",
    "# Predict on test dataset\n",
    "y_pred_test=dt.predict(...)\n",
    "\n",
    "# Print test accuracy\n",
    "print(\"Accuracy_test:\",...(..., ...))"
   ]
  },
  {
   "cell_type": "code",
   "execution_count": null,
   "id": "9d4d4201",
   "metadata": {},
   "outputs": [],
   "source": [
    "############################################ Task 1 ############################################\n",
    "# Display the learned classifier\n",
    "# ----------------------------------------- start here -----------------------------------------\n",
    "\n",
    "plt.figure(figsize=(10, 5))\n",
    "plot_tree(..., filled=True)\n",
    "plt.show()"
   ]
  },
  {
   "cell_type": "code",
   "execution_count": null,
   "id": "b9064a50",
   "metadata": {},
   "outputs": [],
   "source": [
    "############################################ Task 1 ############################################\n",
    "# Apply the AdaBoost algorithm to this decision tree with T = 10 iterations\n",
    "# Check again training and test error and output the weights $\\alpha_t$\n",
    "# ----------------------------------------- start here -----------------------------------------\n",
    "\n",
    "# Set up a AdaBoostClassifier\n",
    "ada = AdaBoostClassifier(estimator=..., n_estimators=...)\n",
    "\n",
    "# Fit ada to the training set\n",
    "ada.fit(...,...)\n",
    "\n",
    "# Predict on train dataset\n",
    "y_pred_train=ada.predict(...)\n",
    "\n",
    "# Print training accuracy \n",
    "print(\"Accuracy_train:\",...(..., ...))\n",
    "\n",
    "# Predict on test dataset\n",
    "y_pred_test=ada.predict(...)\n",
    "\n",
    "# Print test accuracy\n",
    "print(\"Accuracy_test:\",...(..., ...))\n",
    "\n",
    "# Print the weights for each estimator in the boosted ensemble\n",
    "print(...)"
   ]
  },
  {
   "cell_type": "code",
   "execution_count": null,
   "id": "97258713",
   "metadata": {},
   "outputs": [],
   "source": []
  },
  {
   "cell_type": "code",
   "execution_count": null,
   "id": "bc3ae3a9",
   "metadata": {},
   "outputs": [],
   "source": []
  },
  {
   "cell_type": "code",
   "execution_count": null,
   "id": "0d3ffdb8",
   "metadata": {},
   "outputs": [],
   "source": []
  },
  {
   "cell_type": "code",
   "execution_count": null,
   "id": "e60292c9",
   "metadata": {},
   "outputs": [],
   "source": [
    "############################################ Task 2 ############################################\n",
    "# Modify the decision tree learner to have at most n = 2 leaves\n",
    "# Check its training and test error\n",
    "# ----------------------------------------- start here -----------------------------------------\n",
    "\n",
    "# Instantiate dt\n",
    "dt = DecisionTreeClassifier(...=...)\n",
    "\n",
    "# Fit dt to the training set\n",
    "dt.fit(...,...)\n",
    "\n",
    "# Predict on train dataset\n",
    "y_pred_train=dt.predict(...)\n",
    "\n",
    "# Print training accuracy \n",
    "print(\"Accuracy_train:\",...(..., ...))\n",
    "\n",
    "# Predict on test dataset\n",
    "y_pred_test=dt.predict(...)\n",
    "\n",
    "# Print test accuracy\n",
    "print(\"Accuracy_test:\",...(..., ...))"
   ]
  },
  {
   "cell_type": "code",
   "execution_count": null,
   "id": "7a553695",
   "metadata": {},
   "outputs": [],
   "source": [
    "############################################ Task 2 ############################################\n",
    "# Display the learned classifier\n",
    "# ----------------------------------------- start here -----------------------------------------\n",
    "\n",
    "plt.figure(figsize=(8, 3))\n",
    "plot_tree(..., filled=True)\n",
    "plt.show()"
   ]
  },
  {
   "cell_type": "code",
   "execution_count": null,
   "id": "16d0ceef",
   "metadata": {},
   "outputs": [],
   "source": [
    "############################################ Task 2 ############################################\n",
    "# Apply the AdaBoost algorithm again with T = 10 iterations\n",
    "# Check the training and test error and output the weights $\\alpha_t$\n",
    "# ----------------------------------------- start here -----------------------------------------\n",
    "\n",
    "# Set up a AdaBoostClassifier\n",
    "ada = AdaBoostClassifier(estimator=..., n_estimators=...)\n",
    "\n",
    "# Fit ada to the training set\n",
    "ada.fit(...,...)\n",
    "\n",
    "# Predict on train dataset\n",
    "y_pred_train=ada.predict(...)\n",
    "\n",
    "# Print training accuracy \n",
    "print(\"Accuracy_train:\",...(..., ...))\n",
    "\n",
    "# Predict on test dataset\n",
    "y_pred_test=ada.predict(...)\n",
    "\n",
    "# Print test accuracy\n",
    "print(\"Accuracy_test:\",...(..., ...))\n",
    "\n",
    "# Print the weights for each estimator in the boosted ensemble\n",
    "print(...)"
   ]
  },
  {
   "cell_type": "code",
   "execution_count": null,
   "id": "925b2bee",
   "metadata": {},
   "outputs": [],
   "source": [
    "############################################ Task 2 ############################################\n",
    "# Vary the number of iterations $T \\in \\{1,\\cdots, 25\\}$\n",
    "# Plot the resulting training and test error versus T\n",
    "# ----------------------------------------- start here -----------------------------------------\n",
    "\n",
    "# Create empty list to save the training and test accuracy\n",
    "accuracy_list_train = []\n",
    "accuracy_list_test = []\n",
    "\n",
    "for i in range(1,26):\n",
    "\n",
    "    # Set up a AdaBoostClassifier\n",
    "    ada = AdaBoostClassifier(estimator=..., n_estimators=...)\n",
    "\n",
    "    # Fit ada to the training set\n",
    "    ada.fit(...,...)\n",
    "\n",
    "    # Predict on train dataset\n",
    "    y_pred_train=ada.predict(...)\n",
    "    \n",
    "    # Predict on test dataset\n",
    "    y_pred_test=ada.predict(...)\n",
    "\n",
    "    # Save the training accuracy in the list\n",
    "    accuracy_list_train.append(...(..., ...))\n",
    "    \n",
    "    # Save the test accuracy in the list\n",
    "    accuracy_list_test.append(...(..., ...))"
   ]
  },
  {
   "cell_type": "code",
   "execution_count": null,
   "id": "e8e0d708",
   "metadata": {},
   "outputs": [],
   "source": [
    "# Plot the resulting training and test accuracy versus the number of iterations\n",
    "plt.plot(np.arange(1,26), ..., marker='o', label='training accuracy')\n",
    "plt.plot(np.arange(1,26), ..., marker='s', label='test accuracy')\n",
    "plt.legend()\n",
    "plt.grid()"
   ]
  },
  {
   "cell_type": "code",
   "execution_count": null,
   "id": "f6a8f654",
   "metadata": {},
   "outputs": [],
   "source": []
  }
 ],
 "metadata": {
  "kernelspec": {
   "display_name": "Python 3 (ipykernel)",
   "language": "python",
   "name": "python3"
  },
  "language_info": {
   "codemirror_mode": {
    "name": "ipython",
    "version": 3
   },
   "file_extension": ".py",
   "mimetype": "text/x-python",
   "name": "python",
   "nbconvert_exporter": "python",
   "pygments_lexer": "ipython3",
   "version": "3.11.5"
  }
 },
 "nbformat": 4,
 "nbformat_minor": 5
}
